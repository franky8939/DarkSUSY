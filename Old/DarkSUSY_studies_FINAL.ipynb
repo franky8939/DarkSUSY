{
 "cells": [
  {
   "cell_type": "code",
   "execution_count": 7,
   "metadata": {
    "pycharm": {
     "is_executing": false,
     "name": "#%%\n"
    }
   },
   "outputs": [],
   "source": [
    "## ============================== || BEGIN : DIR || ============================== ## \n",
    "from matplotlib.mathtext import List\n",
    "Delphes_DIR = \"/home/franky8939/PROGRAMAS/MG5_aMC_v2_6_7/Delphes/\"\n",
    "ROOT_DIR = \"/home/franky8939/PROGRAMAS/root-6.18.02/\"\n",
    "inputFileROOT = \"data/darkphoton_5GeV_ctau0.root\"\n",
    "## ============================== || END   : DIR || ============================== ## \n",
    "import sys\n",
    "## ======================== || BEGIN : PATH IN PROYECT || ======================== ## \n",
    "\"\"\" \n",
    "This is necesary for import path for the bash because in the Jupyter of Pycharm \n",
    "not charge this bash include in the environment and is necessary por import the \n",
    "module of the program ROOT CERN \n",
    "\"\"\"\n",
    "# not necesary for the moment\n",
    "sys.path.extend([ Delphes_DIR ])  \n",
    "sys.path.extend([ Delphes_DIR + \"classes\" ])\n",
    "sys.path.extend([ Delphes_DIR + \"external\" ])\n",
    "sys.path.extend([ Delphes_DIR + \"external/ExRootAnalysis\" ])\n",
    "# necesary in the different configuration of installation of ROOT\n",
    "sys.path.extend([ ROOT_DIR    + \"lib\" ])\n",
    "sys.path.extend([ ROOT_DIR    + \"root/lib\" ])\n",
    "sys.path.extend([ ROOT_DIR    + \"build/lib\" ])\n",
    "## ======================== || END   : PATH IN PROYECT || ======================== ## \n",
    "import ROOT \n",
    "## ===================== || BEGIN : PYTHONPATH IN PROYECT || ===================== ## \n",
    "\"\"\"\n",
    "This is necesary for import the path for the library of ROOT CERN and Delphes  \n",
    "\"\"\"\n",
    "ROOT.gInterpreter.AddIncludePath( Delphes_DIR )\n",
    "ROOT.gInterpreter.AddIncludePath( Delphes_DIR + \"classes\" )\n",
    "ROOT.gInterpreter.AddIncludePath( Delphes_DIR + \"external/\" )\n",
    "ROOT.gInterpreter.AddIncludePath( Delphes_DIR + \"external/ExRootAnalysis/\" )\n",
    "ROOT.gSystem.Load( Delphes_DIR + \"libDelphes\")\n",
    "\n",
    "ROOT.gInterpreter.Declare('#include \"DelphesClasses.h\"')\n",
    "ROOT.gInterpreter.Declare('#include \"ExRootTreeReader.h\"')\n",
    "ROOT.gInterpreter.Declare('#include \"SortableObject.h\"')\n",
    "ROOT.gInterpreter.Declare('#include \"ExRootTask.h\"')\n",
    "## ===================== || END   : PYTHONPATH IN PROYECT || ===================== ## \n",
    "## ============================ || BEGIN : MODULES || ============================ ## \n",
    "''' Modules using '''\n",
    "import os\n",
    "#import plotly.graph_objects as go \n",
    "import matplotlib.pyplot as plt\n",
    "import numpy as np\n",
    "#import statistics as stats # usar media o desviacion estandar\n",
    "import h5py as h # manipular extensiones\n",
    "## ============================ || END   : MODULES || ============================ ## "
   ]
  },
  {
   "cell_type": "code",
   "execution_count": 2,
   "outputs": [],
   "source": [
    "## ========================== || BEGIN : DEFINITION || =========================== ## \n",
    "class Config_Hist2D:\n",
    "    \"\"\" Configure Histograms Graphic in 2D\"\"\"\n",
    "    def __init__(self):\n",
    "        self.grid = True \n",
    "        self.bins = 50 \n",
    "        self.percentil = 0\n",
    "        self.ylabel = \" Frecuencia \"\n",
    "        self.start = True\n",
    "    def __AddProp__(self, name, value = None):\n",
    "        self.__dict__[name] = value\n",
    "\n",
    "class DarkSUSY:\n",
    "    def __init__(self):\n",
    "        self._Registro_Name = \"DarkSUSY Event Log\"                  # type: str\n",
    "        self._Registro_Dir  = \"Log/\"                                # type: str \n",
    "        self.File = None                                            # type: Delphes_Referencia\n",
    "        self.Entries = -1                                           # type: int\n",
    "        self.Mu_forEvent = np.array([])                             # type: List[float] > 0\n",
    "#        self.MaxMuon = 4\n",
    "        self.Mu_DiMu = np.array([])                                 # type: ndarray\n",
    "        self.Mu_info = \"LOG OF SELECCION OF TWO MUONS.txt\"          # type: str\n",
    "        self.Mu_info_log = bool(1)                                  # type: bool\n",
    "\n",
    "        self.Config_Hist2D = Config_Hist2D()                        # type: object\n",
    "        \n",
    "    def _Add_File(self, name):\n",
    "        \"\"\" \n",
    "        =========================================================================================================\n",
    "        | Charge the file type XXX.root output of caracterization of Delphes                                    |\n",
    "        =========================================================================================================\n",
    "        | Examples:                                                                                             |\n",
    "        | output = AddFile(input) or                                                                            | \n",
    "        | output = AddFile(input.root) or                                                                       |\n",
    "        | output = AddFile(Data/input.root)                                                                     |\n",
    "        =========================================================================================================\n",
    "        | if the File  \"(...).root\" exist then \"output\" gets bool value 1, otherwise is 0                       |\n",
    "        | The True case create the dependencies:                                                                |\n",
    "        | self.Muon_N  :: Type = Vector[int]    :: This is one vector with the number of Muons in each entries  |\n",
    "        | self.Entries :: Type = int            :: This is the number of event or entries for my data           |\n",
    "        | self.File    :: Type = Title Delphes  :: Include the name of the Tree in the File Delphes             |\n",
    "        =========================================================================================================  \n",
    "        \"\"\"\n",
    "        output = bool(1)\n",
    "        self.File = ROOT.TChain(\"Delphes;1\")\n",
    "        \n",
    "        if isinstance(name,str) or isinstance(name + \".root\",str): # existence of .root file\n",
    "            if os.path.isfile(name) or os.path.isfile(name + \".root\"):\n",
    "                if  name[-5:]=='.root' :\n",
    "                    self.File.Add(name)\n",
    "                    print(\"The file \" + name + \".root has been successfully loaded.\")\n",
    "                else:\n",
    "                    self.File.Add(name + \".root\")\n",
    "                    print(\"The file \" + name + \" has been successfully loaded.\")\n",
    "            else:\n",
    "                print(\"Error: The file \" + name + \" has not been successfully loaded, input dir is not exist.\")\n",
    "                output = 0\n",
    "        else:\n",
    "            print(\"Error: The file \" + name + \" has not been successfully loaded, input is not string.\")\n",
    "            output = 0\n",
    "        # Variables needed to work\n",
    "        self.Entries = self.File.GetEntries()   # Number of entrance\n",
    "        self.Mu_forEvent = np.array([])         # Number of Muons for entrance\n",
    "        \n",
    "        for entry in range(self.Entries):\n",
    "            self.File.GetEntry(entry)\n",
    "            self.Mu_forEvent = np.append(self.Mu_forEvent, self.File.Muon.GetEntries())\n",
    "\n",
    "        return output\n",
    "    \n",
    "    def Select_two_di_muon(self):\n",
    "        \n",
    "        f = open (self.Mu_info,'w') # CREATE TXT FILE TO SAVE THE CHARACTERIZATION PROCESS INFO\n",
    "        output = []                                                 # type: \n",
    "        \n",
    "        for entry in range(self.Entries):\n",
    "            Event = self.File.GetEntry(entry)\n",
    "            if  self.File.Muon.GetEntries()  > 3:\n",
    "                Nmuon = self.File.Muon.GetEntries()\n",
    "                Chargemuon = []\n",
    "                f.write( \"\\n\" + \"||===========================================================================================================||\")\n",
    "                f.write( \"\\n\" + \"||                                 || SUMMARY OF EVENT CHARACTERIZATION ||                                   ||\")\n",
    "                f.write( \"\\n\" + \"||===========================================================================================================||\")\n",
    "                f.write( \"\\n\" + \"||                                   EVENT : \"  + str(entry)  + \" :: NUMBER OF MUONS : \" + str(Nmuon) )\n",
    "                \n",
    "                for imuon in range(Nmuon):\n",
    "                    Chargemuon.append(self.File.GetLeaf(\"Muon.Charge\").GetValue( imuon ) )\n",
    "                \n",
    "                \"\"\" ===========================================================\n",
    "                    || SELECT THE POSSIBLE DI-MUONES IN DEPENDENCE OF CHARGE ||\n",
    "                    ===========================================================  \"\"\"\n",
    "                di_muon = []\n",
    "                for one in range(len(Chargemuon)) :\n",
    "                    for  two in range( one , len(Chargemuon) ) :\n",
    "                        if  Chargemuon[one] + Chargemuon[two] == 0:\n",
    "                            di_muon.append( [ one , two ] )\n",
    "\n",
    "                \"\"\" ===========================================================\n",
    "                             || ** SELECT THE PAIR WITH LOWER MASS ** ||\n",
    "                    ===========================================================  \"\"\"\n",
    "                AllDiffInvMass = np.array([])        # type: float # 1D # Diff of Inv Mass\n",
    "                AllInvMass     = np.array([])        # type: float # 2D # Values od Inv Mass\n",
    "                Alltwo_di_muon = np.array([])        # type: float # 1D # All combination of Di-muon\n",
    "                \n",
    "                \"\"\"\" =================================\n",
    "                     || COMBINATION OF TWO DI-MUONS ||\n",
    "                     =================================  \"\"\"\n",
    "                for one in range( len(di_muon) ):\n",
    "                    for two in range(one + 1, len(di_muon) ):\n",
    "                        \"\"\"\" ============================\n",
    "                             || Do not share particles ||\n",
    "                             ============================  \"\"\"\n",
    "                        if di_muon[one][0] != di_muon[two][0] and di_muon[one][0] != di_muon[two][1]  and \\\n",
    "                                di_muon[one][1] != di_muon[two][0] and di_muon[one][1] != di_muon[two][1] :\n",
    "                           \n",
    "                            mass1 = ( self.File.Muon.At(di_muon[one][0]).P4() +\n",
    "                                      self.File.Muon.At(di_muon[one][1]).P4() ).M() # First  Mass\n",
    "                            mass2 = ( self.File.Muon.At(di_muon[two][0]).P4() +\n",
    "                                      self.File.Muon.At(di_muon[two][1]).P4() ).M() # Second Mass\n",
    "                            AllDiffInvMass = np.append( AllDiffInvMass , \n",
    "                                                        np.abs( mass1 - mass2 ) )  # [ (...) , |M1 - M2|]\n",
    "                            # Indices di-muon1 (i,j) ; di-muon2 (n,m) -> [ i, j, n, m ]\n",
    "                            two_di_muon = np.array([ di_muon[one][0] , di_muon[one][1] , \n",
    "                                                     di_muon[two][0] , di_muon[two][1] ])\n",
    "                            if len(Alltwo_di_muon) == 0 :\n",
    "                                Alltwo_di_muon = two_di_muon\n",
    "                                AllInvMass     = [mass1 , mass2 ]\n",
    "                            else:\n",
    "                                Alltwo_di_muon = np.vstack( [ Alltwo_di_muon , two_di_muon      ] )\n",
    "                                AllInvMass     = np.vstack( [ AllInvMass     , [mass1 , mass2 ] ] )\n",
    "                \n",
    "                f.write( \"\\n\" + \"||                                 =======================================                                   ||\")  \n",
    "                f.write( \"\\n\" + \"||                                 | All Couple of di-muones for select: |                                   ||\")    \n",
    "                f.write( \"\\n\" + \"||                                 =======================================                                   || \")  \n",
    "                \n",
    "                for count in range( len( AllInvMass ) ):\n",
    "                    f.write(\"\\n\" + \"||\"+ \" :: First di-muon: [\"  + str(Alltwo_di_muon[count][0]) + \" , \" + str(Alltwo_di_muon[count][1]) + \"] \" + \n",
    "                          \" with M1 : \" + '%.2f' %AllInvMass[count][0] +\n",
    "                          \" :: Second di-muon: [\" + str(Alltwo_di_muon[count][2]) + \" , \" + str(Alltwo_di_muon[count][3]) + \"] \" + \n",
    "                          \" with M2 : \" + '%.2f' %AllInvMass[count][1] + \n",
    "                          \" :: \\u0394 Minv : \"  + '%.3f' %AllDiffInvMass[count])\n",
    "                    \n",
    "                f.write(\"\\n\" + \"||                                 =======================================                                   ||\")  \n",
    "                f.write(\"\\n\" + \"||                                 | The Couple of di-muones select is : |                                   ||\")    \n",
    "                f.write(\"\\n\" + \"||                                 =======================================                                   ||\")  \n",
    "                \n",
    "                # MIN OF MASS DIF IN THE VECTOR AllInvMAss\n",
    "                logic = np.where(np.min(AllDiffInvMass) == AllDiffInvMass)[0][0] # MATRIX LOGIC\n",
    "                #print(logic)\n",
    "                DiMuon2 = (Alltwo_di_muon[logic]) # TWO DI-MUON WITH > (MASS1-MASS2)\n",
    "\n",
    "                f.write(\"\\n\" + \"||\"+ \" :: First di-muon: [\" + str(DiMuon2[0]) + \" , \" + str(DiMuon2[1]) + \"] \" + \n",
    "                          \" with M1 : \" + '%.2f' %AllInvMass[logic][0] +\n",
    "                          \" :: Second di-muon: [\" + str(DiMuon2[2]) + \" , \" + str(DiMuon2[3]) + \"] \" + \n",
    "                          \" with M2 : \" + '%.2f' %AllInvMass[logic][1])  #'''\n",
    "                f.write( \"\\n\" + \"||===========================================================================================================||\")\n",
    "                \n",
    "                ## ALL DI-MUON FOR EVENT\n",
    "                if  len(output)==0:\n",
    "                    output =np.hstack([entry,DiMuon2])\n",
    "                else:\n",
    "                    intg=np.hstack([ entry , DiMuon2])\n",
    "                    output = np.vstack( [ output , intg] )\n",
    "        f.close()\n",
    "        ## RESUMEN FINAL\n",
    "        '''print(\"De los \", self.Entries , \" eventos procesados, \", sum(self.Nmuon>3) , \" poseen mas de 3 muones y \",\n",
    "              output.shape[0] , \" fueron seleccionados bajo el criterio de minima masa invariante.\")'''\n",
    "        self.Mu_DiMu = output\n",
    "        return output\n",
    "    \n",
    "    def fhist(self,selfnew, entrada):\n",
    "    \n",
    "        if selfnew.percentil>0 and selfnew.percentil<100 :\n",
    "            log1 = np.percentile(entrada, selfnew.percentil)  < entrada \n",
    "            log2 = np.percentile(entrada, 100 - selfnew.percentil) > entrada\n",
    "            log =log1*log2\n",
    "            hist = []\n",
    "            for i in range(len(entrada)):\n",
    "                if log[i]:\n",
    "                    hist.append(entrada[i])\n",
    "        else:\n",
    "            hist = entrada\n",
    "            log = True\n",
    "        ## GRAF\n",
    "        \n",
    "        if  hasattr(selfnew, \"bins\") : \n",
    "            if hasattr(selfnew, \"xlim\") :\n",
    "                binss=int(round(selfnew.bins*(max(hist)- min(hist))/(selfnew.xlim[1]- selfnew.xlim[0])))\n",
    "                #print(binss)\n",
    "                plt.hist(np.delete(hist, log), bins= binss)\n",
    "                print(1)\n",
    "            else:\n",
    "                plt.hist(np.delete(hist, log), bins= selfnew.bins)\n",
    "                print(2)\n",
    "        else:\n",
    "            plt.hist(np.delete(hist, log), bins= 10)          \n",
    "            print(3)\n",
    "                \n",
    "        ## PROP\n",
    "        if    hasattr(selfnew, \"xlim\"): plt.xlim(selfnew.xlim[0],selfnew.xlim[1] )\n",
    "        else: plt.xlim( min(hist), max(hist) )\n",
    "        if    hasattr(selfnew, \"ylim\"): plt.ylim(selfnew.ylim[0],selfnew.ylim[1] )\n",
    "        \n",
    "        if    hasattr(selfnew, \"title\") and len(selfnew.title)>0: plt.title(selfnew.title)\n",
    "        \n",
    "        if    hasattr(selfnew, \"grid\"): plt.grid(selfnew.grid)\n",
    "        else: plt.grid(True)\n",
    "        \n",
    "        if    hasattr(selfnew, \"ylabel\") and len(selfnew.ylabel)>0 : plt.ylabel(selfnew.ylabel)\n",
    "        if    hasattr(selfnew, \"xlabel\") and len(selfnew.xlabel)>0 : plt.xlabel(selfnew.xlabel)\n",
    "       \n",
    "        if    selfnew.start: plt.show()\n",
    "        else: print(\" Auto plot is deactivate, change the bool .\\\"start\\\" \")\n",
    "        plt.clf() # closed\n",
    "        return 1\n",
    "    \n",
    "    def HistM(self):\n",
    "        # MASA DE LOS DI-MUONES\n",
    "        AllMass_of_photon = []\n",
    "        AllminMass_of_photon = []\n",
    "        AllmaxMass_of_photon = []\n",
    "        ALL_DMuon_ForEvent = np.array(self.Mu_DiMu)\n",
    "        for event_2dark in range( self.Mu_DiMu.shape[0] ) :#range( entries  ):\n",
    "            Event = self.File.GetEntry(ALL_DMuon_ForEvent[ event_2dark,0 ])\n",
    "            muones = self.File.Muon\n",
    "            mass1 = ( muones.At( int( ALL_DMuon_ForEvent[ event_2dark , 1] ) ).P4() + \n",
    "                      muones.At( int( ALL_DMuon_ForEvent[ event_2dark , 2] ) ).P4() ).M()\n",
    "            mass2 = ( muones.At( int( ALL_DMuon_ForEvent[ event_2dark , 3] ) ).P4() + \n",
    "                      muones.At( int( ALL_DMuon_ForEvent[ event_2dark , 4] ) ).P4() ).M()\n",
    "            AllMass_of_photon.append(mass1)\n",
    "            AllMass_of_photon.append(mass2)\n",
    "            if mass1 > mass2:\n",
    "                AllminMass_of_photon.append(mass2)\n",
    "                AllmaxMass_of_photon.append(mass1)\n",
    "            else:\n",
    "                AllminMass_of_photon.append(mass1)\n",
    "                AllmaxMass_of_photon.append(mass2)\n",
    "                \n",
    "        # Histogram of all mass\n",
    "        self.Config_Hist2D.xlim = [np.percentile(AllMass_of_photon, 1), np.percentile(AllMass_of_photon, 99)]\n",
    "        #plt.figure(1)\n",
    "        plt.rcParams['figure.figsize'] = [10, 20]\n",
    "        plt.subplot(311); \n",
    "        self.Config_Hist2D.title  = 'Mass of all DarkPhoton'\n",
    "        self.Config_Hist2D.percentil = 2\n",
    "        self.fhist(self.Config_Hist2D, AllMass_of_photon)\n",
    "        \n",
    "        plt.subplot(312); \n",
    "        self.title  = 'Mass of all Max-DarkPhoton'\n",
    "        self.percentil = 0\n",
    "        self.fhist(self.Config_Hist2D, AllmaxMass_of_photon)\n",
    "        \n",
    "        plt.subplot(313); \n",
    "        self.title  = 'Mass of all Min-DarkPhoton'\n",
    "        self.percentil = 0\n",
    "        self.fhist(self.Config_Hist2D, AllminMass_of_photon)\n",
    "        \n",
    "    def HistPt(self):\n",
    "        AllPt_of_photon = []\n",
    "        All1Pt_of_photon = []\n",
    "        All2Pt_of_photon = []\n",
    "        All3Pt_of_photon = []\n",
    "        All4Pt_of_photon = []\n",
    "        ALL_DMuon_ForEvent = np.array(self.Mu_DiMu)\n",
    "        for event_2dark in range( self.Mu_DiMu.shape[0] ) :#range( entries  ):\n",
    "            #print(event_2dark)\n",
    "            Event = self.File.GetEntry(ALL_DMuon_ForEvent[ event_2dark,0 ])\n",
    "            \n",
    "            for imuon in range(4):\n",
    "                AllPt_of_photon.append(self.File.GetLeaf(\"Muon.PT\").GetValue( imuon ))\n",
    "            AllPt_of_photon_event = np.hstack( [ AllPt_of_photon[-4:-1] , AllPt_of_photon[-1] ] )  \n",
    "            AllPt_of_photon_event = np.sort(AllPt_of_photon_event)\n",
    "            All1Pt_of_photon.append(AllPt_of_photon_event[0])\n",
    "            All2Pt_of_photon.append(AllPt_of_photon_event[1])\n",
    "            All3Pt_of_photon.append(AllPt_of_photon_event[2])\n",
    "            All4Pt_of_photon.append(AllPt_of_photon_event[3])\n",
    "            \n",
    "        ## HISTOGRAMAS DE TODOS LOS MOMENTOS ANGULARES\n",
    "        self.xlim = [ min(AllPt_of_photon_event), max(AllPt_of_photon_event)]\n",
    "        #plt.figure(1)\n",
    "        plt.rcParams['figure.figsize'] = [10, 20]\n",
    "        plt.subplot(511); \n",
    "        self.title  = 'Momento Transversal de todos los Muones'\n",
    "        self.fhist(self.Config_Hist2D, AllPt_of_photon)\n",
    "        self.xlabel = \" Momento Transversal\"\n",
    "        self.percentil = 0\n",
    "        plt.subplot(512);\n",
    "        self.title = \"Momento Transversal de los Muones en la posicion 1\"#'''\n",
    "        self.fhist(self.Config_Hist2D, All1Pt_of_photon)\n",
    "        plt.subplot(513);\n",
    "        self.title = \"Momento Transversal de los Muones en la posicion 2\"#'''\n",
    "        self.fhist(self.Config_Hist2D, All2Pt_of_photon)\n",
    "        plt.subplot(514);\n",
    "        self.title = \"Momento Transversal de los Muones en la posicion 3\"#'''\n",
    "        self.fhist(self.Config_Hist2D, All3Pt_of_photon)\n",
    "        plt.subplot(515);\n",
    "        self.title = \"Momento Transversal de los Muones en la posicion 4\"#'''\n",
    "        self.fhist(self.Config_Hist2D,All4Pt_of_photon)\n",
    "        print(All4Pt_of_photon)\n",
    "\n",
    "    '''#def _GeneraH5(self):\n",
    "        \n",
    "    #def GrafH5(self):\n",
    "        name = darkphoton_5GeV_ctau0.h5\n",
    "        # ENTRAR LA INFORMACION DESDE UN ARCHIVO EXTERNO\n",
    "        FILE  = h.File(name, 'r')\n",
    "        INPUT = np.vstack([FILE[\"qcd/images\"][:], FILE[\"wprime/images\"][:]]); INPUT=INPUT/np.max(INPUT) # SE NORMALIZA\n",
    "        INPUT1 =FILE[\"qcd/images\"][:] ;  INPUT2 =FILE[\"wprime/images\"][:] ; \n",
    "        LABEL = np.hstack([FILE[\"qcd/labels\"][:], FILE[\"wprime/labels\"][:]])\n",
    "        OUTPUT_LINEAL = np.ones((len(LABEL), 2));\n",
    "        OUTPUT_LINEAL[:,0] = LABEL < 1    ;     OUTPUT_LINEAL[:,1] = LABEL > 0'''\n",
    "        \n",
    "        \n",
    "        "
   ],
   "metadata": {
    "collapsed": false,
    "pycharm": {
     "name": "#%%\n",
     "is_executing": false
    }
   }
  },
  {
   "cell_type": "code",
   "execution_count": 3,
   "outputs": [
    {
     "name": "stdout",
     "text": [
      "The file darkphoton_5GeV_ctau0 has been successfully loaded.\n",
      "True\n",
      "[[  29    0    3    1    2]\n",
      " [  57    0    3    1    2]\n",
      " [  65    0    2    1    3]\n",
      " ...\n",
      " [9973    0    2    1    3]\n",
      " [9986    0    1    2    3]\n",
      " [9989    0    2    1    3]]\n"
     ],
     "output_type": "stream"
    }
   ],
   "source": [
    "DarkFile = DarkSUSY()\n",
    "print(DarkFile._Add_File(inputFileROOT))\n",
    "print(DarkFile.Select_two_di_muon())"
   ],
   "metadata": {
    "collapsed": false,
    "pycharm": {
     "name": "#%%\n",
     "is_executing": false
    }
   }
  },
  {
   "cell_type": "code",
   "execution_count": 4,
   "outputs": [
    {
     "name": "stderr",
     "text": [
      "/home/franky8939/PROGRAMAS/anaconda3/envs/py27/lib/python2.7/site-packages/ipykernel_launcher.py:190: FutureWarning: in the future insert will treat boolean arrays and array-likes as boolean index instead of casting it to integer\n"
     ],
     "output_type": "stream"
    },
    {
     "name": "stdout",
     "text": [
      "1\n",
      "1\n",
      "1\n"
     ],
     "output_type": "stream"
    },
    {
     "data": {
      "image/png": "[encoded data removed]",
      "text/plain": "<Figure size 720x1440 with 1 Axes>"
     },
     "metadata": {
      "needs_background": "light"
     },
     "output_type": "display_data"
    },
    {
     "data": {
      "image/png": "[encoded data removed]",
      "text/plain": "<Figure size 720x1440 with 1 Axes>"
     },
     "metadata": {
      "needs_background": "light"
     },
     "output_type": "display_data"
    },
    {
     "data": {
      "image/png": "[encoded data removed]",
      "text/plain": "<Figure size 720x1440 with 1 Axes>"
     },
     "metadata": {
      "needs_background": "light"
     },
     "output_type": "display_data"
    },
    {
     "data": {
      "text/plain": "<Figure size 720x1440 with 0 Axes>"
     },
     "metadata": {},
     "output_type": "display_data"
    }
   ],
   "source": [
    "DarkFile.HistM()"
   ],
   "metadata": {
    "collapsed": false,
    "pycharm": {
     "name": "#%%\n",
     "is_executing": false
    }
   }
  },
  {
   "cell_type": "code",
   "execution_count": 5,
   "outputs": [
    {
     "name": "stderr",
     "text": [
      "/home/franky8939/PROGRAMAS/anaconda3/envs/py27/lib/python2.7/site-packages/ipykernel_launcher.py:190: FutureWarning: in the future insert will treat boolean arrays and array-likes as boolean index instead of casting it to integer\n"
     ],
     "output_type": "stream"
    },
    {
     "name": "stdout",
     "text": [
      "1\n",
      "1\n",
      "1\n",
      "1\n",
      "1\n",
      "[105.60783386230469, 43.4626579284668, 40.9896125793457, 31.485267639160156, 34.93770217895508, 53.10191345214844, 28.08157730102539, 41.95874786376953, 42.62446594238281, 78.76454162597656, 35.83771896362305, 32.13993835449219, 88.35940551757812, 42.61649703979492, 32.362056732177734, 25.31676483154297, 30.259628295898438, 36.31843566894531, 73.02870178222656, 19.66555404663086, 34.467647552490234, 137.12669372558594, 17.705167770385742, 33.321205139160156, 40.25178909301758, 37.401756286621094, 32.872684478759766, 47.012935638427734, 46.41507339477539, 21.543180465698242, 43.413455963134766, 35.90403747558594, 33.23059844970703, 46.79899597167969, 31.813295364379883, 34.688682556152344, 30.068918228149414, 30.1109676361084, 40.77542495727539, 92.59391784667969, 31.54745864868164, 37.38408279418945, 18.19864273071289, 31.022064208984375, 129.62289428710938, 53.437007904052734, 34.133426666259766, 100.86268615722656, 22.08159065246582, 40.66505432128906, 142.91677856445312, 87.55396270751953, 21.962799072265625, 40.918601989746094, 29.807153701782227, 103.57091522216797, 42.30852127075195, 30.89344024658203, 32.70840072631836, 31.08995246887207, 53.925376892089844, 76.94599914550781, 50.74443817138672, 37.959564208984375, 29.886354446411133, 39.06748580932617, 38.87835693359375, 23.732877731323242, 30.397706985473633, 23.180761337280273, 33.84279251098633, 28.81161880493164, 40.80027770996094, 39.486114501953125, 74.226806640625, 26.57419204711914, 44.6264762878418, 58.96181106567383, 32.30899429321289, 92.26957702636719, 53.1236572265625, 34.30788803100586, 44.01497268676758, 34.128379821777344, 33.72410202026367, 28.50408363342285, 77.89739990234375, 26.04608154296875, 108.26152801513672, 34.14802551269531, 44.97121810913086, 87.49461364746094, 24.85416030883789, 36.86250686645508, 22.68680191040039, 35.7938117980957, 31.069868087768555, 34.93771743774414, 81.41194915771484, 26.231098175048828, 24.118356704711914, 19.944910049438477, 34.177486419677734, 32.04520034790039, 29.490381240844727, 43.266807556152344, 27.991836547851562, 69.56871795654297, 37.46359634399414, 42.582115173339844, 33.74928665161133, 35.871315002441406, 22.73617935180664, 70.27972412109375, 23.561466217041016, 38.08076095581055, 41.77176284790039, 32.227203369140625, 34.321529388427734, 86.42330932617188, 25.253644943237305, 24.945335388183594, 28.46613883972168, 35.09850311279297, 191.52139282226562, 42.53120040893555, 43.66657257080078, 27.240680694580078, 31.48923110961914, 27.840181350708008, 97.79208374023438, 25.4504337310791, 173.1224365234375, 48.430912017822266, 36.677589416503906, 29.16836929321289, 36.1738395690918, 47.43526077270508, 41.88711166381836, 34.60821533203125, 38.72091293334961, 82.60183715820312, 29.711017608642578, 44.983463287353516, 45.27797317504883, 32.27481460571289, 39.731571197509766, 20.007963180541992, 32.91794967651367, 37.14897918701172, 25.51991081237793, 29.456045150756836, 35.01457214355469, 27.81516456604004, 55.47235107421875, 23.16097068786621, 36.49235153198242, 39.69773864746094, 60.68345642089844, 33.39249038696289, 22.36460304260254, 23.857650756835938, 45.90564727783203, 54.430049896240234, 147.21826171875, 26.711299896240234, 26.719581604003906, 36.14607238769531, 38.143226623535156, 72.68106079101562, 45.002071380615234, 49.831783294677734, 19.89780616760254, 20.622833251953125, 42.88529968261719, 20.605871200561523, 26.61219024658203, 42.111881256103516, 31.902368545532227, 22.444047927856445, 24.88564682006836, 32.64899444580078, 116.24575805664062, 71.57547760009766, 73.62652587890625, 68.37650299072266, 33.64114761352539, 37.6606559753418, 42.00359344482422, 28.797794342041016, 27.260967254638672, 28.194517135620117, 34.13132095336914, 45.505699157714844, 26.147531509399414, 27.26831817626953, 34.143550872802734, 48.609928131103516, 87.10344696044922, 42.4951057434082, 85.57372283935547, 36.334285736083984, 47.25508117675781, 40.4542350769043, 37.6228141784668, 26.21002769470215, 28.161720275878906, 38.45732498168945, 117.60994720458984, 33.419700622558594, 32.0599365234375, 43.06938171386719, 69.00070190429688, 38.20671844482422, 70.56932067871094, 32.00814437866211, 129.4380645751953, 49.259178161621094, 42.43473434448242, 33.14784240722656, 52.781890869140625, 52.969482421875, 41.13722229003906, 45.34519958496094, 34.94820022583008, 65.94737243652344, 189.36181640625, 57.65113067626953, 37.50395202636719, 54.74724197387695, 24.4169979095459, 157.2813720703125, 92.09099578857422, 172.0199737548828, 82.13973999023438, 39.543941497802734, 38.84181213378906, 22.7251033782959, 32.662803649902344, 21.871047973632812, 47.4474983215332, 28.228572845458984, 28.427759170532227, 38.63206481933594, 56.19822692871094, 45.39827346801758, 63.433204650878906, 32.17424392700195, 43.706607818603516, 20.99441146850586, 42.08887481689453, 71.64190673828125, 28.4325008392334, 55.929500579833984, 23.260658264160156, 19.263492584228516, 33.90813064575195, 25.981225967407227, 66.1121826171875, 25.974098205566406, 37.589141845703125, 19.980243682861328, 20.09679412841797, 26.250699996948242, 39.37389373779297, 35.24454116821289, 29.37511444091797, 49.0050163269043, 114.9214096069336, 31.047822952270508, 41.71923065185547, 49.31147003173828, 46.61954116821289, 127.37956237792969, 49.813270568847656, 29.991044998168945, 44.6804084777832, 51.19755554199219, 42.379791259765625, 179.62265014648438, 48.44725036621094, 44.15336227416992, 29.248397827148438, 20.112459182739258, 36.10118103027344, 32.295982360839844, 75.26937866210938, 48.71986770629883, 31.763336181640625, 49.36449432373047, 40.329593658447266, 70.04264831542969, 28.81744384765625, 46.423282623291016, 32.985862731933594, 50.98536682128906, 20.023115158081055, 30.975936889648438, 45.48633575439453, 52.0643310546875, 53.04060363769531, 53.01470184326172, 60.31371307373047, 40.71592712402344, 43.82551956176758, 38.519317626953125, 54.347572326660156, 65.9664306640625, 29.35788917541504, 37.34961700439453, 43.371917724609375, 30.011682510375977, 39.18291473388672, 59.0689697265625, 39.914676666259766, 30.056612014770508, 42.180519104003906, 22.684629440307617, 48.22801971435547, 32.45611572265625, 31.737407684326172, 26.669355392456055, 31.93072509765625, 30.73969841003418, 88.22377014160156, 33.7635612487793, 36.45618438720703, 30.16731071472168, 38.36387252807617, 42.14910888671875, 71.17404174804688, 34.87674331665039, 67.54362487792969, 85.588623046875, 29.59429359436035, 31.051687240600586, 25.83302116394043, 37.011497497558594, 37.23400115966797, 25.33971405029297, 29.68238067626953, 46.70702362060547, 19.46820831298828, 43.2503662109375, 36.29697036743164, 123.78710174560547, 30.647764205932617, 36.680233001708984, 46.081634521484375, 34.51884460449219, 31.523263931274414, 32.20888137817383, 36.15669250488281, 27.16547393798828, 30.225404739379883, 65.4933090209961, 98.2466049194336, 32.54564666748047, 31.22641372680664, 41.76810073852539, 60.095767974853516, 36.8319091796875, 143.9583740234375, 46.002166748046875, 29.117332458496094, 94.69700622558594, 180.1056365966797, 26.56866455078125, 58.83076858520508, 28.972822189331055, 45.190975189208984, 16.46864128112793, 40.85220718383789, 30.066883087158203, 29.629056930541992, 58.161376953125, 31.996902465820312, 21.94134521484375, 28.731611251831055, 38.02002716064453, 27.295757293701172, 30.441740036010742, 54.06633377075195, 32.88459014892578, 74.7890853881836, 51.56766891479492, 40.33019256591797, 43.21268844604492, 44.553680419921875, 39.484683990478516, 40.12910461425781, 35.87169647216797, 39.63290786743164, 27.353071212768555, 38.34890365600586, 54.81416702270508, 36.96320343017578, 29.445775985717773, 32.33298110961914, 39.26025390625, 40.15970230102539, 20.258716583251953, 25.974061965942383, 24.80506134033203, 39.809791564941406, 112.35957336425781, 22.595457077026367, 22.637226104736328, 31.652517318725586, 54.306339263916016, 47.63274383544922, 54.86537551879883, 32.36738586425781, 151.603515625, 37.31253433227539, 39.28279113769531, 30.759614944458008, 25.03964614868164, 71.61891174316406, 39.53544235229492, 56.428466796875, 25.620914459228516, 26.96770668029785, 31.002582550048828, 29.617839813232422, 32.978023529052734, 27.26952362060547, 26.458017349243164, 46.770851135253906, 27.432327270507812, 18.329702377319336, 39.25532531738281, 31.69141387939453, 60.003623962402344, 25.777978897094727, 33.27519607543945, 39.78968811035156, 52.09138870239258, 80.29116821289062, 27.100439071655273, 32.03783416748047, 31.279876708984375, 47.14962387084961, 37.00371551513672, 41.43642807006836, 68.31653594970703, 90.27545928955078, 34.218013763427734, 109.23192596435547, 32.26873016357422, 36.678611755371094, 45.876277923583984, 25.06346893310547, 83.38543701171875, 25.916664123535156, 39.15847396850586, 28.24127960205078, 71.400390625, 43.39382553100586, 33.03875732421875, 40.096248626708984, 32.63671112060547, 53.119564056396484, 110.38723754882812, 24.98065185546875, 64.99072265625, 39.998199462890625, 114.2687759399414, 60.21214294433594, 19.07630157470703, 39.18475341796875, 56.58984375, 34.125953674316406, 36.56085968017578, 35.91546630859375, 36.81718063354492, 33.647422790527344, 36.30295944213867, 29.165830612182617, 46.17669677734375, 71.0506362915039, 112.70682525634766, 34.2423210144043, 14.611998558044434, 38.596771240234375, 36.300167083740234, 35.937740325927734, 32.91447067260742, 23.366291046142578, 58.664642333984375, 29.161848068237305, 50.79043960571289, 24.216888427734375, 68.623779296875, 262.0441589355469, 170.9498748779297, 29.672868728637695, 22.9815731048584, 31.107927322387695, 30.50046730041504, 92.7689437866211, 32.425262451171875, 38.62184143066406, 38.6096076965332, 35.23484420776367, 36.63904571533203, 154.90350341796875, 40.49583435058594]\n"
     ],
     "output_type": "stream"
    },
    {
     "data": {
      "image/png": "[encoded data removed]",
      "text/plain": "<Figure size 720x1440 with 1 Axes>"
     },
     "metadata": {
      "needs_background": "light"
     },
     "output_type": "display_data"
    },
    {
     "data": {
      "image/png": "[encoded data removed]",
      "text/plain": "<Figure size 720x1440 with 1 Axes>"
     },
     "metadata": {
      "needs_background": "light"
     },
     "output_type": "display_data"
    },
    {
     "data": {
      "image/png": "[encoded data removed]",
      "text/plain": "<Figure size 720x1440 with 1 Axes>"
     },
     "metadata": {
      "needs_background": "light"
     },
     "output_type": "display_data"
    },
    {
     "data": {
      "image/png": "[encoded data removed]",
      "text/plain": "<Figure size 720x1440 with 1 Axes>"
     },
     "metadata": {
      "needs_background": "light"
     },
     "output_type": "display_data"
    },
    {
     "data": {
      "image/png": "[encoded data removed]",
      "text/plain": "<Figure size 720x1440 with 1 Axes>"
     },
     "metadata": {
      "needs_background": "light"
     },
     "output_type": "display_data"
    },
    {
     "data": {
      "text/plain": "<Figure size 720x1440 with 0 Axes>"
     },
     "metadata": {},
     "output_type": "display_data"
    }
   ],
   "source": [
    "DarkFile.HistPt()"
   ],
   "metadata": {
    "collapsed": false,
    "pycharm": {
     "name": "#%%\n",
     "is_executing": false
    }
   }
  },
  {
   "cell_type": "code",
   "execution_count": 6,
   "outputs": [
    {
     "ename": "SyntaxError",
     "evalue": "invalid syntax (<ipython-input-6-29cf44665fd8>, line 1)",
     "traceback": [
      "\u001b[0;36m  File \u001b[0;32m\"<ipython-input-6-29cf44665fd8>\"\u001b[0;36m, line \u001b[0;32m1\u001b[0m\n\u001b[0;31m    D  arkFile.Config_Hist2D.xlim\u001b[0m\n\u001b[0m             ^\u001b[0m\n\u001b[0;31mSyntaxError\u001b[0m\u001b[0;31m:\u001b[0m invalid syntax\n"
     ],
     "output_type": "error"
    }
   ],
   "source": [
    "DarkFile.Config_Hist2D.xlim\n",
    "DarkFile.Config_Hist2D.bins"
   ],
   "metadata": {
    "collapsed": false,
    "pycharm": {
     "name": "#%%\n",
     "is_executing": false
    }
   }
  },
  {
   "cell_type": "code",
   "execution_count": 11,
   "outputs": [
    {
     "name": "stdout",
     "text": [
      "[]\n"
     ],
     "output_type": "stream"
    }
   ],
   "source": [
    "name = \"data/darkphoton_5GeV_ctau0.h5\"\n",
    "# ENTRAR LA INFORMACION DESDE UN ARCHIVO EXTERNO\n",
    "FILE  = h.File(name, 'r')\n",
    "print(FILE.attrs.keys())"
   ],
   "metadata": {
    "collapsed": false,
    "pycharm": {
     "name": "#%%\n",
     "is_executing": false
    }
   }
  },
  {
   "cell_type": "code",
   "execution_count": null,
   "outputs": [],
   "source": [
    "INPUT = np.vstack([FILE[\"qcd/images\"][:], FILE[\"wprime/images\"][:]]); INPUT=INPUT/np.max(INPUT) # SE NORMALIZA\n",
    "INPUT1 =FILE[\"qcd/images\"][:] ;  INPUT2 =FILE[\"wprime/images\"][:] ; \n",
    "LABEL = np.hstack([FILE[\"qcd/labels\"][:], FILE[\"wprime/labels\"][:]])\n",
    "OUTPUT_LINEAL = np.ones((len(LABEL), 2));\n",
    "OUTPUT_LINEAL[:,0] = LABEL < 1    ;     OUTPUT_LINEAL[:,1] = LABEL > 0'''\n"
   ],
   "metadata": {
    "collapsed": false,
    "pycharm": {
     "name": "#%%\n"
    }
   }
  }
 ],
 "metadata": {
  "kernelspec": {
   "name": "python2",
   "language": "python",
   "display_name": "Python 2"
  },
  "language_info": {
   "codemirror_mode": {
    "name": "ipython",
    "version": 3
   },
   "file_extension": ".py",
   "mimetype": "text/x-python",
   "name": "python",
   "nbconvert_exporter": "python",
   "pygments_lexer": "ipython3",
   "version": "3.7.5"
  },
  "pycharm": {
   "stem_cell": {
    "cell_type": "raw",
    "source": [],
    "metadata": {
     "collapsed": false
    }
   }
  }
 },
 "nbformat": 4,
 "nbformat_minor": 1
}