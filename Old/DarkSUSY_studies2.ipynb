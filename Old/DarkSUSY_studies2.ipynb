{
 "cells": [
  {
   "cell_type": "code",
   "execution_count": 1,
   "outputs": [
    {
     "name": "stdout",
     "text": [
      "Welcome to JupyROOT 6.19/01\n"
     ],
     "output_type": "stream"
    }
   ],
   "source": [
    "## ============================== || BEGIN : DIR || ============================== ## \n",
    "Delphes_DIR = \"/home/franky8939/PROGRAMAS/MG5_aMC_v2_6_7/Delphes/\"\n",
    "ROOT_DIR = \"/home/franky8939/PROGRAMAS/root-6.18.02/\"\n",
    "inputFileROOT = \"darkphoton_5GeV_ctau0\" # + .root\n",
    "## ============================== || END   : DIR || ============================== ## \n",
    "import sys\n",
    "## ======================== || BEGIN : PATH IN PROYECT || ======================== ## \n",
    "\"\"\" \n",
    "This is necesary for import path for the bash because in the Jupyter of Pycharm \n",
    "not charge this bash include in the environment and is necessary por import the \n",
    "module of the program ROOT CERN \n",
    "\"\"\"\n",
    "# not necesary for the moment\n",
    "sys.path.extend([ Delphes_DIR ])  \n",
    "sys.path.extend([ Delphes_DIR + \"classes\" ])\n",
    "sys.path.extend([ Delphes_DIR + \"external\" ])\n",
    "sys.path.extend([ Delphes_DIR + \"external/ExRootAnalysis\" ])\n",
    "# necesary in the different configuration of installation of ROOT\n",
    "sys.path.extend([ ROOT_DIR    + \"lib\" ])\n",
    "sys.path.extend([ ROOT_DIR    + \"root/lib\" ])\n",
    "sys.path.extend([ ROOT_DIR    + \"build/lib\" ])\n",
    "## ======================== || END   : PATH IN PROYECT || ======================== ## \n",
    "import ROOT \n",
    "## ===================== || BEGIN : PYTHONPATH IN PROYECT || ===================== ## \n",
    "\"\"\"\n",
    "This is necesary for import the path for the library of ROOT CERN and Delphes  \n",
    "\"\"\"\n",
    "ROOT.gInterpreter.AddIncludePath( Delphes_DIR )\n",
    "ROOT.gInterpreter.AddIncludePath( Delphes_DIR + \"classes\" )\n",
    "ROOT.gInterpreter.AddIncludePath( Delphes_DIR + \"external/\" )\n",
    "ROOT.gInterpreter.AddIncludePath( Delphes_DIR + \"external/ExRootAnalysis/\" )\n",
    "ROOT.gSystem.Load( Delphes_DIR + \"libDelphes\")\n",
    "\n",
    "ROOT.gInterpreter.Declare('#include \"DelphesClasses.h\"')\n",
    "ROOT.gInterpreter.Declare('#include \"ExRootTreeReader.h\"')\n",
    "ROOT.gInterpreter.Declare('#include \"SortableObject.h\"')\n",
    "ROOT.gInterpreter.Declare('#include \"ExRootTask.h\"')\n",
    "## ===================== || END   : PYTHONPATH IN PROYECT || ===================== ## \n",
    "## ============================ || BEGIN : MODULES || ============================ ## \n",
    "\"\"\" Modules using \"\"\"\n",
    "import os\n",
    "#import plotly.graph_objects as go \n",
    "import matplotlib.pyplot as plt\n",
    "import numpy as np\n",
    "#import statistics as stats # usar media o desviacion estandar\n",
    "## ============================ || END   : MODULES || ============================ ## "
   ],
   "metadata": {
    "collapsed": false,
    "pycharm": {
     "name": "#%%\n",
     "is_executing": false
    }
   }
  },
  {
   "cell_type": "code",
   "execution_count": null,
   "outputs": [],
   "source": [
    "## ========================== || BEGIN : DEFINITION || =========================== ## \n",
    "class darkSUSY:\n",
    "    def __init__(self):\n",
    "        self.File = ROOT.TChain(\"Delphes;1\")\n",
    "        self.config = None                                  # type: object\n",
    "        self.config.registro.name = \"DarkSUSY Event Log\"    # type: str\n",
    "        self.config.registro.dir  = \"Log/\"                  # type: str \n",
    "        \n",
    "    def AddFile(self, \n",
    "                name,           # type: str\n",
    "                action = 1      # type: bool\n",
    "                ):\n",
    "        # type : (str, bool) -> bool\n",
    "        \"\"\" ========================================================================\n",
    "            || Charge the file type XXX.root output of caracterization of Delphes ||\n",
    "            ========================================================================  \"\"\"\n",
    "        output = 0\n",
    "        if isinstance(name,str):\n",
    "            if  len(name)>0:\n",
    "                \n",
    "            else:\n",
    "                print(\" The file \" + name + \" has not been successfully loaded, input is empty.\")\n",
    "                output = 1\n",
    "        else:\n",
    "            print(\" The file \" + name + \" has not been successfully loaded, input is not string.\")\n",
    "            output = 1\n",
    "        return output \n",
    "            "
   ],
   "metadata": {
    "collapsed": false,
    "pycharm": {
     "name": "#%%\n"
    }
   }
  },
  {
   "cell_type": "code",
   "execution_count": null,
   "outputs": [],
   "source": [
    "            '''if  os.path.isfile(name) :\n",
    "                \n",
    "                archivo.write(\" File \" + name + \" has been successfully loaded.\")\n",
    "            elif:\n",
    "                \n",
    "            else:'''\n",
    "                \n",
    "                        \n",
    "        self.File.Add(inputFileROOT + \".root\")\n",
    "        \n",
    "        # CREATE TXT FILE TO SAVE THE CHARACTERIZATION PROCESS INFO\n",
    "        f = open(config.registro.name,'w') \n",
    "        \n",
    "        \n",
    "        ALL_DMuon_ForEvent = []\n",
    "        entries = File.GetEntries() # Number of Event "
   ],
   "metadata": {
    "collapsed": false,
    "pycharm": {
     "name": "#%%        \n"
    }
   }
  },
  {
   "cell_type": "code",
   "execution_count": null,
   "outputs": [],
   "source": [
    "    "
   ],
   "metadata": {
    "collapsed": false,
    "pycharm": {
     "name": "#%%\n"
    }
   }
  },
  {
   "cell_type": "code",
   "execution_count": 8,
   "outputs": [
    {
     "ename": "NameError",
     "evalue": "global name 'name' is not defined",
     "traceback": [
      "\u001b[0;31m\u001b[0m",
      "\u001b[0;31mNameError\u001b[0mTraceback (most recent call last)",
      "\u001b[0;32m<ipython-input-8-853ae90b3c0f>\u001b[0m in \u001b[0;36m<module>\u001b[0;34m()\u001b[0m\n\u001b[1;32m      3\u001b[0m         \u001b[0mself\u001b[0m\u001b[0;34m.\u001b[0m\u001b[0mregistro\u001b[0m\u001b[0;34m.\u001b[0m\u001b[0mname\u001b[0m \u001b[0;34m=\u001b[0m  \u001b[0mname\u001b[0m\u001b[0;34m\u001b[0m\u001b[0m\n\u001b[1;32m      4\u001b[0m \u001b[0;34m\u001b[0m\u001b[0m\n\u001b[0;32m----> 5\u001b[0;31m \u001b[0mconfig\u001b[0m \u001b[0;34m=\u001b[0m \u001b[0mDarkSUSY_config\u001b[0m\u001b[0;34m(\u001b[0m\u001b[0;34m)\u001b[0m\u001b[0;34m\u001b[0m\u001b[0m\n\u001b[0m\u001b[1;32m      6\u001b[0m \u001b[0;31m#config.registro.name = \"Registro de Eventos de DarkSUSY\"\u001b[0m\u001b[0;34m\u001b[0m\u001b[0;34m\u001b[0m\u001b[0m\n\u001b[1;32m      7\u001b[0m \u001b[0;31m#config.registro.name\u001b[0m\u001b[0;34m\u001b[0m\u001b[0;34m\u001b[0m\u001b[0m\n",
      "\u001b[0;32m<ipython-input-8-853ae90b3c0f>\u001b[0m in \u001b[0;36m__init__\u001b[0;34m(self)\u001b[0m\n\u001b[1;32m      1\u001b[0m \u001b[0;32mclass\u001b[0m \u001b[0mDarkSUSY_config\u001b[0m\u001b[0;34m:\u001b[0m\u001b[0;34m\u001b[0m\u001b[0m\n\u001b[1;32m      2\u001b[0m     \u001b[0;32mdef\u001b[0m \u001b[0m__init__\u001b[0m\u001b[0;34m(\u001b[0m\u001b[0mself\u001b[0m\u001b[0;34m)\u001b[0m\u001b[0;34m:\u001b[0m\u001b[0;34m\u001b[0m\u001b[0m\n\u001b[0;32m----> 3\u001b[0;31m         \u001b[0mself\u001b[0m\u001b[0;34m.\u001b[0m\u001b[0mregistro\u001b[0m\u001b[0;34m.\u001b[0m\u001b[0mname\u001b[0m \u001b[0;34m=\u001b[0m  \u001b[0mname\u001b[0m\u001b[0;34m\u001b[0m\u001b[0m\n\u001b[0m\u001b[1;32m      4\u001b[0m \u001b[0;34m\u001b[0m\u001b[0m\n\u001b[1;32m      5\u001b[0m \u001b[0mconfig\u001b[0m \u001b[0;34m=\u001b[0m \u001b[0mDarkSUSY_config\u001b[0m\u001b[0;34m(\u001b[0m\u001b[0;34m)\u001b[0m\u001b[0;34m\u001b[0m\u001b[0m\n",
      "\u001b[0;31mNameError\u001b[0m: global name 'name' is not defined"
     ],
     "output_type": "error"
    }
   ],
   "source": [
    "class DarkSUSY_config:\n",
    "    def __init__(self):\n",
    "        \n",
    "        class registro:\n",
    "            def __init__(self , name , txtdir ):\n",
    "                self.name = name\n",
    "                self.dir =  txtdir\n",
    "\n",
    "config = DarkSUSY_config()               \n",
    "#config.registro.name = \"Registro de Eventos de DarkSUSY\"\n",
    "#config.registro.name"
   ],
   "metadata": {
    "collapsed": false,
    "pycharm": {
     "name": "#%%\n",
     "is_executing": false
    }
   }
  },
  {
   "cell_type": "code",
   "execution_count": null,
   "outputs": [],
   "source": [
    "    \n",
    "        \n",
    "    \n",
    "    def __init__(self):\n",
    "        self.grid = True \n",
    "        self.bins = 50 \n",
    "        self.percentil = 5\n",
    "        self.ylabel = \" Frecuencia \"\n",
    "        self.start = True\n",
    "    \n",
    "    def SepareForCharge( entrada , leng):\n",
    "        salida = []\n",
    "        for one in range(leng) :\n",
    "            for  two in range( one , leng ) :\n",
    "                if  entrada[one] + entrada[two] == 0:\n",
    "                    salida.append( [ one , two ] )\n",
    "        return salida\n",
    "\n",
    "## =========================== || END : DEFINITION || ============================ ## \n"
   ],
   "metadata": {
    "collapsed": false,
    "pycharm": {
     "name": "#%%    \n"
    }
   }
  },
  {
   "cell_type": "code",
   "execution_count": 3,
   "outputs": [],
   "source": [
    "## FUNCTIONS ##sys.getdefaulencoding()\n",
    "## SELECCIONA LOS POSIBLES DI-MUONES EN DEPENDENCIA DE SU CARGA ##\n",
    "def di_muon_Charge( entrada , leng):\n",
    "    salida = []\n",
    "    for one in range(leng) :\n",
    "        for  two in range( one , leng ) :\n",
    "            if  entrada[one] + entrada[two] == 0:\n",
    "                salida.append( [ one , two ] )\n",
    "    return salida\n",
    "## SELECCIONAR EL PAR CON MENOR MASA INVARIANTE\n",
    "def Select_two_di_muon(entrada , muones , archivo):\n",
    "    AllDiffInvMass = np.array( [ ] )\n",
    "    AllInvMass     = np.array( [ ] )\n",
    "    Alltwo_di_muon = np.array( [ ] )\n",
    "    # COMBINATION OF TWO DI-MUONS\n",
    "    for one in range( len(entrada) ):\n",
    "        for two in range(one + 1, len(entrada) ):\n",
    "            if entrada[one][0] != entrada[two][0] and entrada[one][0] != entrada[two][1]  and \\\n",
    "                    entrada[one][1] != entrada[two][0] and entrada[one][1] != entrada[two][1] :\n",
    "                mass1 = ( muones.At(entrada[one][0]).P4() + muones.At(entrada[one][1]).P4() ).M()\n",
    "                mass2 = ( muones.At(entrada[two][0]).P4() + muones.At(entrada[two][1]).P4() ).M()\n",
    "                AllDiffInvMass = np.append( AllDiffInvMass , np.abs( mass1 - mass2 ) )\n",
    "                two_di_muon = np.array([ entrada[one][0] , entrada[one][1] , entrada[two][0] , entrada[two][1] ])\n",
    "                #print(two_di_muon)\n",
    "                if len(Alltwo_di_muon) == 0 :\n",
    "                    Alltwo_di_muon = two_di_muon\n",
    "                    AllInvMass     = [mass1 , mass2 ]\n",
    "                else :\n",
    "                    Alltwo_di_muon = np.vstack( [ Alltwo_di_muon , two_di_muon      ] )\n",
    "                    AllInvMass     = np.vstack( [ AllInvMass     , [mass1 , mass2 ] ] )\n",
    "                    #print(Alltwo_di_muon)\n",
    "    \n",
    "    archivo.write( \"\\n\" + \"||                                 =======================================                                   ||\")  \n",
    "    archivo.write( \"\\n\" + \"||                                 | All Couple of di-muones for select: |                                   ||\")    \n",
    "    archivo.write( \"\\n\" + \"||                                 =======================================                                   || \")  \n",
    "    for count in range( len( AllInvMass ) ):\n",
    "        archivo.write(\"\\n\" + \"||\"+ \" :: First di-muon: [\"  + str(Alltwo_di_muon[count][0]) + \" , \" + str(Alltwo_di_muon[count][1]) + \"] \" + \n",
    "              \" with M1 : \" + '%.2f' %AllInvMass[count][0] +\n",
    "              \" :: Second di-muon: [\" + str(Alltwo_di_muon[count][2]) + \" , \" + str(Alltwo_di_muon[count][3]) + \"] \" + \n",
    "              \" with M2 : \" + '%.2f' %AllInvMass[count][1] + \n",
    "              \" :: \\u0394 Minv : \"  + '%.3f' %AllDiffInvMass[count])\n",
    "        \n",
    "    archivo.write(\"\\n\" + \"||                                 =======================================                                   ||\")  \n",
    "    archivo.write(\"\\n\" + \"||                                 | The Couple of di-muones select is : |                                   ||\")    \n",
    "    archivo.write(\"\\n\" + \"||                                 =======================================                                   ||\")  \n",
    "    # MIN OF MASS DIF IN THE VECTOR AllInvMAss\n",
    "    logic = np.where(np.min( AllDiffInvMass ) == AllDiffInvMass)[0][0] # MATRIX LOGIC\n",
    "    #print(logic)\n",
    "    salida = (Alltwo_di_muon[logic]) # TWO DI-MUON WITH > (MASS1-MASS2)\n",
    "    #print(salida)\n",
    "    #print( AllInvMass[logic][1] )\n",
    "    archivo.write(\"\\n\" + \"||\"+ \" :: First di-muon: [\" + str(salida[0]) + \" , \" + str(salida[1]) + \"] \" + \n",
    "              \" with M1 : \" + '%.2f' %AllInvMass[logic][0] +\n",
    "              \" :: Second di-muon: [\" + str(salida[2]) + \" , \" + str(salida[3]) + \"] \" + \n",
    "              \" with M2 : \" + '%.2f' %AllInvMass[logic][1])  #'''\n",
    "    \n",
    "    return salida"
   ],
   "metadata": {
    "collapsed": false,
    "pycharm": {
     "name": "#%%\n",
     "is_executing": false
    }
   }
  },
  {
   "cell_type": "code",
   "execution_count": 6,
   "outputs": [],
   "source": [
    "File = ROOT.TChain(\"Delphes;1\")\n",
    "File.Add(inputFileROOT + \".root\")\n",
    "f = open (\"LOG OF SELECCION OF TWO MUONS.txt\",'w') # CREATE TXT FILE TO SAVE THE CHARACTERIZATION PROCESS INFO\n",
    "\n",
    "ALL_DMuon_ForEvent = []\n",
    "entries = File.GetEntries() # Number of Event \n",
    "for entry in range(entries):\n",
    "    Event = File.GetEntry(entry)\n",
    "    if File.Muon.GetEntries() > 3: # Number of Muon in the Event\n",
    "        Nmuon = File.Muon.GetEntries()\n",
    "        Chargemuon = []\n",
    "        f.write( \"\\n\" + \"||===========================================================================================================||\")\n",
    "        f.write( \"\\n\" + \"||                                 || SUMMARY OF EVENT CHARACTERIZATION ||                                   ||\")\n",
    "        f.write( \"\\n\" + \"||===========================================================================================================||\")\n",
    "        f.write( \"\\n\" + \"||                                   EVENT : \"  + str(entry)  + \" :: NUMBER OF MUONS : \" + str(Nmuon) )\n",
    "        \n",
    "        for imuon in range( Nmuon ): \n",
    "            Chargemuon.append( File.GetLeaf(\"Muon.Charge\").GetValue( imuon ) )\n",
    "        di_muon = di_muon_Charge( Chargemuon , Nmuon)\n",
    "        two_di_muon = Select_two_di_muon( di_muon,  File.Muon , f)\n",
    "        #f.write( \"\\n\" + \"||=========================================================================================================||\")\n",
    "        #f.write( \"\\n\" + \"||                                         || END OF THE EVENT ||                                          ||\")\n",
    "        f.write( \"\\n\" + \"||===========================================================================================================||\")\n",
    "        ## ALL DI-MUON FOR EVENT\n",
    "        if  len(ALL_DMuon_ForEvent)==0:\n",
    "            ALL_DMuon_ForEvent =np.hstack( [ entry , two_di_muon] )\n",
    "        else:\n",
    "            aa=np.hstack([ entry , two_di_muon])\n",
    "            ALL_DMuon_ForEvent = np.vstack( [ ALL_DMuon_ForEvent , aa] )\n",
    "\n",
    "f.close()"
   ],
   "metadata": {
    "collapsed": false,
    "pycharm": {
     "name": "#%%\n",
     "is_executing": false
    }
   }
  },
  {
   "cell_type": "code",
   "execution_count": null,
   "metadata": {
    "pycharm": {
     "is_executing": false,
     "name": "#%%\n"
    }
   },
   "outputs": [],
   "source": [
    "class fhist_config:\n",
    "    def __init__(self):\n",
    "        self.grid = True \n",
    "        self.bins = 50 \n",
    "        self.percentil = 5\n",
    "        self.ylabel = \" Frecuencia \"\n",
    "        self.start = True\n",
    "\n",
    "config = fhist_config()\n",
    "\n",
    "\n",
    "def fhist(entrada,config):\n",
    "    \n",
    "    if config.percentil>0 and config.percentil<100 :\n",
    "        log1 = np.percentile(entrada, config.percentil)  < entrada \n",
    "        log2 = np.percentile(entrada, 100 - config.percentil) > entrada\n",
    "        log =log1*log2\n",
    "        hist = []\n",
    "        for i in range(len(entrada)):\n",
    "            if log[i]:\n",
    "                hist.append(entrada[i])\n",
    "    else:\n",
    "        hist = entrada\n",
    "        log = True\n",
    "    ## GRAF\n",
    "    \n",
    "    if  hasattr(config, \"bins\") : \n",
    "        if hasattr(config, \"xlim\") :\n",
    "            '''print([len(hist), len(entrada)])\n",
    "            print((max(hist)- min(hist)))\n",
    "            print(config.xlim[1]- config.xlim[0])'''\n",
    "            binss=int(round(config.bins*(max(hist)- min(hist))/(config.xlim[1]- config.xlim[0])))\n",
    "            #print(binss)\n",
    "            plt.hist(np.delete(hist, log), bins= binss)\n",
    "        else:\n",
    "            plt.hist(np.delete(hist, log), bins= config.bins)\n",
    "    else:\n",
    "        plt.hist(np.delete(hist, log), bins= 10)                 \n",
    "            \n",
    "    ## PROP\n",
    "    if    hasattr(config, \"xlim\"): plt.xlim( config.xlim[0], config.xlim[1] )\n",
    "    else: plt.xlim( min(hist), max(hist) )\n",
    "    if    hasattr(config, \"ylim\"): plt.ylim( config.ylim[0], config.ylim[1] )\n",
    "    \n",
    "    if    hasattr(config, \"title\") and len(config.title)>0: plt.title(config.title)\n",
    "    \n",
    "    if    hasattr(config, \"grid\"): plt.grid(config.grid)\n",
    "    else: plt.grid(True)\n",
    "    \n",
    "    if    hasattr(config, \"ylabel\") and len(config.ylabel)>0 : plt.ylabel(config.ylabel)\n",
    "    if    hasattr(config, \"xlabel\") and len(config.xlabel)>0 : plt.xlabel(config.xlabel)\n",
    "   \n",
    "    if    config.start : plt.show()\n",
    "    else: print(\" Auto plot is deactivate, change the bool .\\\"start\\\" \")\n",
    "    plt.clf() # closed\n",
    "    return 0"
   ]
  },
  {
   "cell_type": "code",
   "execution_count": null,
   "metadata": {
    "pycharm": {
     "is_executing": false,
     "name": "#%%\n"
    }
   },
   "outputs": [],
   "source": [
    "# GRAFICOS CARACTERISTICOS DE NUESTRA MUESTRA\n",
    "# MASA DE LOS DI-MUONES\n",
    "AllMass_of_photon = []\n",
    "AllminMass_of_photon = []\n",
    "AllmaxMass_of_photon = []\n",
    "ALL_DMuon_ForEvent = np.array(ALL_DMuon_ForEvent)\n",
    "for event_2dark in range( ALL_DMuon_ForEvent.shape[0] ) :#range( entries  ):\n",
    "    #print(event_2dark)\n",
    "    Event = File.GetEntry(ALL_DMuon_ForEvent[ event_2dark,0 ])\n",
    "    muones = File.Muon\n",
    "    mass1 = ( muones.At( int( ALL_DMuon_ForEvent[ event_2dark , 1] ) ).P4() + \n",
    "              muones.At( int( ALL_DMuon_ForEvent[ event_2dark , 2] ) ).P4() ).M()\n",
    "    mass2 = ( muones.At( int( ALL_DMuon_ForEvent[ event_2dark , 3] ) ).P4() + \n",
    "              muones.At( int( ALL_DMuon_ForEvent[ event_2dark , 4] ) ).P4() ).M()\n",
    "    AllMass_of_photon.append(mass1)\n",
    "    AllMass_of_photon.append(mass2)\n",
    "    if mass1>mass2:\n",
    "        AllminMass_of_photon.append(mass2)\n",
    "        AllmaxMass_of_photon.append(mass1)\n",
    "    else:\n",
    "        AllminMass_of_photon.append(mass1)\n",
    "        AllmaxMass_of_photon.append(mass2)  \n",
    "\n",
    "# Histogram of all mass\n",
    "config.xlim = [np.percentile(AllMass_of_photon, 1), np.percentile(AllMass_of_photon, 99)]\n",
    "#plt.figure(1)\n",
    "plt.rcParams['figure.figsize'] = [10, 20]\n",
    "plt.subplot(311); \n",
    "config.title  = 'Masas de todos los DarkPhoton'\n",
    "config.percentil = 2\n",
    "fhist(AllMass_of_photon, config)\n",
    "\n",
    "plt.subplot(312); \n",
    "config.title  = 'Masas mayores de todos los DarkPhoton'\n",
    "config.percentil = 0\n",
    "fhist(AllmaxMass_of_photon, config)\n",
    "\n",
    "plt.subplot(313); \n",
    "config.title  = 'Masas menores de todos los DarkPhoton'\n",
    "config.percentil = 0\n",
    "fhist(AllminMass_of_photon, config)"
   ]
  },
  {
   "cell_type": "code",
   "execution_count": null,
   "metadata": {
    "pycharm": {
     "is_executing": false,
     "name": "#%%\n"
    }
   },
   "outputs": [],
   "source": [
    "# GRAFICOS CARACTERISTICOS DE NUESTRA MUESTRA\n",
    "# PT DE LOS DI-MUONES\n",
    "AllPt_of_photon = []\n",
    "All1Pt_of_photon = []\n",
    "All2Pt_of_photon = []\n",
    "All3Pt_of_photon = []\n",
    "All4Pt_of_photon = []\n",
    "ALL_DMuon_ForEvent = np.array(ALL_DMuon_ForEvent)\n",
    "for event_2dark in range( ALL_DMuon_ForEvent.shape[0] ) :#range( entries  ):\n",
    "    #print(event_2dark)\n",
    "    Event = File.GetEntry(ALL_DMuon_ForEvent[ event_2dark,0 ])\n",
    "    \n",
    "    for imuon in range(4):\n",
    "        AllPt_of_photon.append(File.GetLeaf(\"Muon.PT\").GetValue( imuon ))\n",
    "    AllPt_of_photon_event = np.hstack( [ AllPt_of_photon[-4:-1] , AllPt_of_photon[-1] ] )  \n",
    "    AllPt_of_photon_event = np.sort(AllPt_of_photon_event)\n",
    "    All1Pt_of_photon.append(AllPt_of_photon_event[0])\n",
    "    All2Pt_of_photon.append(AllPt_of_photon_event[1])\n",
    "    All3Pt_of_photon.append(AllPt_of_photon_event[2])\n",
    "    All4Pt_of_photon.append(AllPt_of_photon_event[3])\n",
    "    \n",
    "## HISTOGRAMAS DE TODOS LOS MOMENTOS ANGULARES\n",
    "config.xlim = [ min(AllPt_of_photon_event), max(AllPt_of_photon_event)]\n",
    "#plt.figure(1)\n",
    "plt.rcParams['figure.figsize'] = [10, 20]\n",
    "plt.subplot(511); \n",
    "config.title  = 'Momento Transversal de todos los Muones'\n",
    "fhist(AllPt_of_photon, config)\n",
    "config.xlabel = \" Momento Transversal\"\n",
    "config.percentil = 0\n",
    "plt.subplot(512);\n",
    "config.title = \"Momento Transversal de los Muones en la posicion 1\"#'''\n",
    "fhist(All1Pt_of_photon, config)\n",
    "plt.subplot(513);\n",
    "config.title = \"Momento Transversal de los Muones en la posicion 2\"#'''\n",
    "fhist(All2Pt_of_photon, config)\n",
    "plt.subplot(514);\n",
    "config.title = \"Momento Transversal de los Muones en la posicion 3\"#'''\n",
    "fhist(All3Pt_of_photon, config)\n",
    "plt.subplot(515);\n",
    "config.title = \"Momento Transversal de los Muones en la posicion 4\"#'''\n",
    "fhist(All4Pt_of_photon, config)"
   ]
  },
  {
   "cell_type": "code",
   "execution_count": null,
   "metadata": {
    "pycharm": {
     "is_executing": false,
     "name": "#%%\n"
    }
   },
   "outputs": [],
   "source": [
    "def \n",
    "# COMPROBAR SI UNA COPIA DEL ARCHIVO SE ENCUENTRA EN EL LUGAR PARA HACERLO H5\n",
    "if  os.path.exists(\"delphes-gans-master/\" + inputFile):\n",
    "    print(\"File \" + inputFile + \" found in directory /delphes-gans-master/\")\n",
    "else:\n",
    "    print(\" Copy file \" + inputFile + \" to directory :: /delphes-gans-master/\")\n",
    "    os.system(\"cp \" + inputFile + \" delphes-gans-master/\")\n",
    "#os.path.isfile(\"darkphoton_5GeV_ctau0.root\")"
   ]
  },
  {
   "cell_type": "code",
   "execution_count": null,
   "outputs": [],
   "source": [
    "\n",
    "#ROOT.gSystem.Load(\"/home/franky8939/PROGRAMAS/MG5_aMC_v2_6_7/Delphes/libDelphes\")\n",
    "#ROOT.gSystem.Load(\"/home/franky8939/PROGRAMAS/root-6.18.02/build/lib/libPyROOT\")\n",
    "\n",
    "#ROOT.gInterpreter.Declare('#include \"/home/franky8939/PROGRAMAS/MG5_aMC_v2_6_7/Delphes/classes/SortableObject.h\"')\n",
    "#ROOT.gROOT.ProcessLine('.include .')\n",
    "#ROOT.gInterpreter.Declare('#include \"/home/franky8939/PROGRAMAS/MG5_aMC_v2_6_7/Delphes/classes/DelphesClasses.h\"')\n",
    "#ROOT.gInterpreter.Declare('#include \"/home/franky8939/PROGRAMAS/MG5_aMC_v2_6_7/Delphes/external/ExRootAnalysis/ExRootTreeReader.h\"')\n",
    "#inputFile = \"darkphoton_m0p25_ct0mm.root\"\n",
    "'''sys.path.extend(['/home/franky8939/PROGRAMAS/MG5_aMC_v2_6_7/Delphes'])\n",
    "sys.path.extend(['/home/franky8939/PROGRAMAS/MG5_aMC_v2_6_7/Delphes/classes'])\n",
    "sys.path.extend(['/home/franky8939/PROGRAMAS/MG5_aMC_v2_6_7/Delphes/external'])\n",
    "sys.path.extend(['/home/franky8939/PROGRAMAS/MG5_aMC_v2_6_7/Delphes/external/ExRootAnalysis'])\n",
    "sys.path.extend(['/home/franky8939/PROGRAMAS/root-6.18.02/lib'])\n",
    "sys.path.extend(['/home/franky8939/PROGRAMAS/root-6.18.02/root/lib'])\n",
    "sys.path.extend(['/home/franky8939/PROGRAMAS/root-6.18.02/build/lib'])'''"
   ],
   "metadata": {
    "collapsed": false,
    "pycharm": {
     "name": "#%%\n",
     "is_executing": false
    }
   }
  },
  {
   "cell_type": "code",
   "execution_count": null,
   "outputs": [],
   "source": [
    "import sys\n",
    "sys.path.extend(['/home/franky8939/PROGRAMAS/root-6.18.02/build/lib'])\n",
    "import ROOT \n",
    "\n",
    "\n",
    "'''ROOT.gInterpreter.AddIncludePath(\"/home/franky8939/PROGRAMAS/MG5_aMC_v2_6_7/Delphes/classes\")\n",
    "ROOT.gInterpreter.AddIncludePath(\"/home/franky8939/PROGRAMAS/MG5_aMC_v2_6_7/Delphes/external/ExRootAnalysis/\")\n",
    "ROOT.gInterpreter.AddIncludePath(\"/home/franky8939/PROGRAMAS/MG5_aMC_v2_6_7/Delphes/external/\")\n",
    "ROOT.gInterpreter.AddIncludePath(\"/home/franky8939/PROGRAMAS/MG5_aMC_v2_6_7/Delphes\")'''\n",
    "#ROOT.gInterpreter.AddIncludePath(\"\n",
    "#ROOT.gROOT.ProcessLine('.include ./home/franky8939/PROGRAMAS/MG5_aMC_v2_6_7/Delphes/external/')\n",
    "#ROOT.gInterpreter.Declare('#include \"/home/franky8939/PROGRAMAS/MG5_aMC_v2_6_7/Delphes/external/ExRootAnalysis/ExRootTask.h\"')"
   ],
   "metadata": {
    "collapsed": false,
    "pycharm": {
     "name": "#%%\n",
     "is_executing": false
    }
   }
  },
  {
   "cell_type": "code",
   "execution_count": null,
   "outputs": [],
   "source": [],
   "metadata": {
    "collapsed": false,
    "pycharm": {
     "name": "#%%\n",
     "is_executing": false
    }
   }
  },
  {
   "cell_type": "code",
   "execution_count": null,
   "outputs": [],
   "source": [],
   "metadata": {
    "collapsed": false,
    "pycharm": {
     "name": "#%%",
     "is_executing": false
    }
   }
  }
 ],
 "metadata": {
  "kernelspec": {
   "display_name": "Python 2",
   "language": "python",
   "name": "python2"
  },
  "language_info": {
   "codemirror_mode": {
    "name": "ipython",
    "version": 2
   },
   "file_extension": ".py",
   "mimetype": "text/x-python",
   "name": "python",
   "nbconvert_exporter": "python",
   "pygments_lexer": "ipython2",
   "version": "2.7.15"
  },
  "pycharm": {
   "stem_cell": {
    "cell_type": "raw",
    "source": [],
    "metadata": {
     "collapsed": false
    }
   }
  }
 },
 "nbformat": 4,
 "nbformat_minor": 1
}