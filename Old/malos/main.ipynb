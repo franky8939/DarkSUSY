{
 "cells": [
  {
   "cell_type": "code",
   "execution_count": 1,
   "metadata": {
    "pycharm": {
     "is_executing": false,
     "name": "#%%\n"
    }
   },
   "outputs": [
    {
     "name": "stdout",
     "text": [
      "Welcome to JupyROOT 6.19/01\n"
     ],
     "output_type": "stream"
    }
   ],
   "source": [
    "# ============================== || BEGIN : DIR || ============================== ## \n",
    "from matplotlib.mathtext import List\n",
    "from classDarkSUSY import * \n",
    "\n",
    "Delphes_DIR = \"/home/franky8939/PROGRAMAS/MG5_aMC_v2_6_7/Delphes/\"\n",
    "ROOT_DIR = \"/home/franky8939/PROGRAMAS/root-6.18.02/\"\n",
    "#inputFileROOT = \"data/darkphoton_5GeV_ctau0.root\"\n",
    "ROOT = fbash(Delphes_DIR, ROOT_DIR)  # path in bash\n",
    "# ============================== || END   : DIR || ============================== ## "
   ]
  },
  {
   "cell_type": "code",
   "execution_count": 2,
   "outputs": [
    {
     "name": "stdout",
     "text": [
      "Mu4_darkSUSY_Event_10000_Ma_0.25_Tc_30.root\n",
      "Mu4_darkSUSY_Event_10000_Ma_0.25_Tc_20.root\n",
      "Mu4_darkSUSY_Event_10000_Ma_0.25_Tc_40.root\n",
      "Mu4_darkSUSY_Event_10000_Ma_0.25_Tc_70.root\n",
      "Mu4_darkSUSY_Event_10000_Ma_0.25_Tc_60.root\n",
      "Mu4_darkSUSY_Event_10000_Ma_0.25_Tc_10.root\n",
      "Mu4_darkSUSY_Event_10000_Ma_0.25_Tc_80.root\n",
      "Mu4_darkSUSY_Event_10000_Ma_0.25_Tc_100.root\n",
      "Mu4_darkSUSY_Event_10000_Ma_0.25_Tc_90.root\n",
      "Mu4_darkSUSY_Event_10000_Ma_0.25_Tc_0.root\n",
      "Mu4_darkSUSY_Event_10000_Ma_0.25_Tc_50.root\n",
      "[['Mu4_darkSUSY_Event_10000_Ma_0.25_Tc_30.root', '10000', '10000', '30'], ['Mu4_darkSUSY_Event_10000_Ma_0.25_Tc_20.root', '10000', '10000', '20'], ['Mu4_darkSUSY_Event_10000_Ma_0.25_Tc_40.root', '10000', '10000', '40'], ['Mu4_darkSUSY_Event_10000_Ma_0.25_Tc_70.root', '10000', '10000', '70'], ['Mu4_darkSUSY_Event_10000_Ma_0.25_Tc_60.root', '10000', '10000', '60'], ['Mu4_darkSUSY_Event_10000_Ma_0.25_Tc_10.root', '10000', '10000', '10'], ['Mu4_darkSUSY_Event_10000_Ma_0.25_Tc_80.root', '10000', '10000', '80'], ['Mu4_darkSUSY_Event_10000_Ma_0.25_Tc_100.root', '10000', '10000', '100'], ['Mu4_darkSUSY_Event_10000_Ma_0.25_Tc_90.root', '10000', '10000', '90'], ['Mu4_darkSUSY_Event_10000_Ma_0.25_Tc_0.root', '10000', '10000', '0'], ['Mu4_darkSUSY_Event_10000_Ma_0.25_Tc_50.root', '10000', '10000', '50']]\n"
     ],
     "output_type": "stream"
    }
   ],
   "source": [
    "''' \n",
    "Caraccterizar los datos que se encuentran en la carpeta de datos de forma dinamica \n",
    "'''\n",
    "mphoton = [.25, 1, 2, 3, 4, 5, 6, 7, 8, 9]  # masa de los photons\n",
    "tcphoton = [0.0000001, 25, 50, 100, 250, 500, 1000, 2500, 5000, 10000]  # valores de Tc\n",
    "Event = 10000  # eventos que se generaron para obtener los datos\n",
    "# code para encontrar los valores respectivos\n",
    "V_event = r\"(?<=(_Event_))(\\d+)\"\n",
    "V_mass = r\"(?<=(_Ma_))(\\d+)\"\n",
    "V_tc = r\"(?<=(_Tc_))(\\d+)\"\n",
    "\n",
    "# identificar los archivos segun las condiciones iniciales en que fueron generados\n",
    "ROOTs = []\n",
    "for i in os.listdir(\"datosnew/\"):\n",
    "    #print i\n",
    "    if (i.find(\".root\") != -1) and (i.find(\"Mu4_darkSUSY_\") != -1):\n",
    "        print i \n",
    "        ROOTs.append([i, re.search(V_event, i).group(0) , re.search(V_event, i).group(0), re.search(V_tc, i).group(0)])\n",
    "        #print(i) #ROOTs = i\n",
    "        #print(re.search(V_event, i).group(0))\n",
    "        #print(re.search(V_mass, i).group(0))\n",
    "        #print(re.search(V_tc, i).group(0))\n",
    "#print(ROOTs)\n",
    "#print(ROOTs[0][3])\n",
    "# Selecionar la malla de datos \n",
    "print(ROOTs)"
   ],
   "metadata": {
    "collapsed": false,
    "pycharm": {
     "name": "#%%\n",
     "is_executing": false
    }
   }
  },
  {
   "cell_type": "code",
   "execution_count": 12,
   "outputs": [
    {
     "name": "stdout",
     "text": [
      "The file datosnew/Mu4_darkSUSY_Event_10000_Ma_0.25_Tc_0.root.root has been successfully loaded.\n",
      "The file datosnew/Mu4_darkSUSY_Event_10000_Ma_0.25_Tc_10.root.root has been successfully loaded.\n",
      "The file datosnew/Mu4_darkSUSY_Event_10000_Ma_0.25_Tc_20.root.root has been successfully loaded.\n",
      "The file datosnew/Mu4_darkSUSY_Event_10000_Ma_0.25_Tc_30.root.root has been successfully loaded.\n",
      "The file datosnew/Mu4_darkSUSY_Event_10000_Ma_0.25_Tc_40.root.root has been successfully loaded.\n",
      "The file datosnew/Mu4_darkSUSY_Event_10000_Ma_0.25_Tc_50.root.root has been successfully loaded.\n",
      "The file datosnew/Mu4_darkSUSY_Event_10000_Ma_0.25_Tc_60.root.root has been successfully loaded.\n",
      "The file datosnew/Mu4_darkSUSY_Event_10000_Ma_0.25_Tc_70.root.root has been successfully loaded.\n",
      "The file datosnew/Mu4_darkSUSY_Event_10000_Ma_0.25_Tc_80.root.root has been successfully loaded.\n",
      "The file datosnew/Mu4_darkSUSY_Event_10000_Ma_0.25_Tc_90.root.root has been successfully loaded.\n",
      "The file datosnew/Mu4_darkSUSY_Event_10000_Ma_0.25_Tc_100.root.root has been successfully loaded.\n"
     ],
     "output_type": "stream"
    },
    {
     "data": {
      "text/plain": "array([[0, 0, 3, 1, 2],\n       [1, 0, 1, 2, 3],\n       [2, 0, 2, 1, 3],\n       [3, 0, 3, 1, 2],\n       [4, 0, 2, 1, 3]])"
     },
     "metadata": {},
     "output_type": "execute_result",
     "execution_count": 12
    }
   ],
   "source": [
    "direct = [\n",
    "    \"Mu4_darkSUSY_Event_10000_Ma_0.25_Tc_0.root\",    \n",
    "    \"Mu4_darkSUSY_Event_10000_Ma_0.25_Tc_10.root\",\n",
    "    \"Mu4_darkSUSY_Event_10000_Ma_0.25_Tc_20.root\",      \n",
    "    \"Mu4_darkSUSY_Event_10000_Ma_0.25_Tc_30.root\",\n",
    "    \"Mu4_darkSUSY_Event_10000_Ma_0.25_Tc_40.root\",\n",
    "    \"Mu4_darkSUSY_Event_10000_Ma_0.25_Tc_50.root\",\n",
    "    \"Mu4_darkSUSY_Event_10000_Ma_0.25_Tc_60.root\",   \n",
    "    \"Mu4_darkSUSY_Event_10000_Ma_0.25_Tc_70.root\",    \n",
    "    \"Mu4_darkSUSY_Event_10000_Ma_0.25_Tc_80.root\",\n",
    "    \"Mu4_darkSUSY_Event_10000_Ma_0.25_Tc_90.root\",\n",
    "    \"Mu4_darkSUSY_Event_10000_Ma_0.25_Tc_100.root\"]\n",
    "DarkFile0   = DarkSUSY();   DarkFile0._Add_File(\"datosnew/\" + direct[0])   ; DarkFile0.Select_two_dimuon()\n",
    "DarkFile10  = DarkSUSY();   DarkFile10._Add_File(\"datosnew/\" + direct[1])  ; DarkFile10.Select_two_dimuon() \n",
    "DarkFile20  = DarkSUSY();   DarkFile20._Add_File(\"datosnew/\" + direct[2])  ; DarkFile20.Select_two_dimuon()\n",
    "DarkFile30  = DarkSUSY();   DarkFile30._Add_File(\"datosnew/\" + direct[3])  ; DarkFile30.Select_two_dimuon()\n",
    "DarkFile40  = DarkSUSY();   DarkFile40._Add_File(\"datosnew/\" + direct[4])  ; DarkFile40.Select_two_dimuon()\n",
    "DarkFile50  = DarkSUSY();   DarkFile50._Add_File(\"datosnew/\" + direct[5])  ; DarkFile50.Select_two_dimuon()\n",
    "DarkFile60  = DarkSUSY();   DarkFile60._Add_File(\"datosnew/\" + direct[6])  ; DarkFile60.Select_two_dimuon()\n",
    "DarkFile70  = DarkSUSY();   DarkFile70._Add_File(\"datosnew/\" + direct[7])  ; DarkFile70.Select_two_dimuon()\n",
    "DarkFile80  = DarkSUSY();   DarkFile80._Add_File(\"datosnew/\" + direct[8])  ; DarkFile80.Select_two_dimuon()\n",
    "DarkFile90  = DarkSUSY();   DarkFile90._Add_File(\"datosnew/\" + direct[9])  ; DarkFile90.Select_two_dimuon()\n",
    "DarkFile100 = DarkSUSY();   DarkFile100._Add_File(\"datosnew/\" + direct[10]); DarkFile100.Select_two_dimuon()"
   ],
   "metadata": {
    "collapsed": false,
    "pycharm": {
     "name": "#%%\n",
     "is_executing": false
    }
   }
  },
  {
   "cell_type": "code",
   "execution_count": 13,
   "outputs": [
    {
     "data": {
      "text/plain": "array([[  0,   0,   1,   2,   3],\n       [  1,   0,   3,   1,   2],\n       [  2,   0,   3,   1,   2],\n       ...,\n       [226,   0,   1,   2,   3],\n       [227,   0,   3,   1,   2],\n       [228,   0,   1,   2,   3]])"
     },
     "metadata": {},
     "output_type": "execute_result",
     "execution_count": 13
    }
   ],
   "source": [
    "DarkFile10.Select_two_dimuon()"
   ],
   "metadata": {
    "collapsed": false,
    "pycharm": {
     "name": "#%%\n",
     "is_executing": false
    }
   }
  },
  {
   "cell_type": "code",
   "execution_count": 14,
   "outputs": [
    {
     "name": "stdout",
     "text": [
      "[[-45.70970535 -29.46549416  16.82074928  21.4803009 ]\n",
      " [-54.37744141 -15.64748764  13.29052067  78.49517822]\n",
      " [-82.81563568 -66.9329834   29.30359459  71.8711853 ]\n",
      " [-69.12996674  -2.94331932   4.96656466  72.68798065]\n",
      " [-43.75388336 -30.5520153   27.91936111  50.17339325]]\n"
     ],
     "output_type": "stream"
    }
   ],
   "source": [
    "config = fObject()   # configuracion basica\n",
    "PropMuon0= DarkFile0._Obtein(\"D0\", \"Muon\",True)\n",
    "PropMuon10= DarkFile10._Obtein(\"D0\", \"Muon\",True)\n",
    "PropMuon20= DarkFile20._Obtein(\"D0\", \"Muon\",True)\n",
    "PropMuon30= DarkFile30._Obtein(\"D0\", \"Muon\",True)\n",
    "PropMuon40= DarkFile40._Obtein(\"D0\", \"Muon\",True)\n",
    "PropMuon50= DarkFile50._Obtein(\"D0\", \"Muon\",True)\n",
    "PropMuon60= DarkFile60._Obtein(\"D0\", \"Muon\",True)\n",
    "PropMuon70= DarkFile70._Obtein(\"D0\", \"Muon\",True)\n",
    "PropMuon80= DarkFile80._Obtein(\"D0\", \"Muon\",True)\n",
    "PropMuon90= DarkFile90._Obtein(\"D0\", \"Muon\",True)\n",
    "PropMuon100= DarkFile100._Obtein(\"D0\", \"Muon\",True)\n",
    "print PropMuon100"
   ],
   "metadata": {
    "collapsed": false,
    "pycharm": {
     "name": "#%%\n",
     "is_executing": false
    }
   }
  },
  {
   "cell_type": "code",
   "execution_count": 15,
   "outputs": [
    {
     "name": "stdout",
     "text": [
      "00\n",
      "Pbar\n",
      "00\n",
      "bar\n"
     ],
     "output_type": "stream"
    },
    {
     "data": {
      "image/png": "[encoded data removed]",
      "text/plain": "<Figure size 432x288 with 1 Axes>"
     },
     "metadata": {
      "needs_background": "light"
     },
     "output_type": "display_data"
    },
    {
     "data": {
      "image/png": "[encoded data removed]",
      "text/plain": "<Figure size 432x288 with 1 Axes>"
     },
     "metadata": {
      "needs_background": "light"
     },
     "output_type": "display_data"
    }
   ],
   "source": [
    "#dir(config)\n",
    "#print(PTMuon.reshape(1,PTMuon.shape[0]*PTMuon.shape[1]))\n",
    "#graph = Graph( PTMuon.reshape(1,PTMuon.shape[0]*PTMuon.shape[1]) )\n",
    "#print(PTMuon.reshape(1,PTMuon.shape[0]*PTMuon.shape[1]))\n",
    "# print( dir(config) )\n",
    "hist1D(PropMuon0, PropMuon10, PropMuon20, PropMuon30, PropMuon40, PropMuon50, \n",
    "       PropMuon60, PropMuon70, PropMuon80, PropMuon90, PropMuon100,\n",
    "       conf=config,\n",
    "       title=\"D0\",\n",
    "       xlabel = 'Rangos',\n",
    "       ylabel = 'Frecuencia',\n",
    "       savefile = \"Frecuencia D0.pdf\",\n",
    "       start = True,\n",
    "       type = \"Pbar\",\n",
    "       legend = [\"Tc 0\", \"Tc 20\", \"Tc 30\", \"Tc 40\", \"Tc 50\", \"Tc 60\", \"Tc 70\", \"Tc 80\", \"Tc 90\", \"Tc 100\"])\n",
    "\n",
    "hist1D( PropMuon10, PropMuon100,\n",
    "       conf=config,\n",
    "       title=\"D0\",\n",
    "       xlabel = 'Rangos',\n",
    "       ylabel = 'Frecuencia',\n",
    "       savefile = \"Frecuencia D0.pdf\",\n",
    "       start = True,\n",
    "       type = \"bar\",\n",
    "       legend = [\"ct = 10\", \"ct = 100\"])\n",
    "#graph = Graph( PTMuon )\n",
    "#graph.__AddProp__(\"xlabel\", 'Momento Angular')\n",
    "#graph.__AddProp__(\"xlim\",[0,100])\n",
    "#graph.showGraph()"
   ],
   "metadata": {
    "collapsed": false,
    "pycharm": {
     "name": "#%%\n",
     "is_executing": false
    }
   }
  },
  {
   "cell_type": "code",
   "execution_count": 16,
   "outputs": [
    {
     "ename": "NameError",
     "evalue": "name 'PTMuon0' is not defined",
     "traceback": [
      "\u001b[0;31m\u001b[0m",
      "\u001b[0;31mNameError\u001b[0mTraceback (most recent call last)",
      "\u001b[0;32m<ipython-input-16-64cfa65293a0>\u001b[0m in \u001b[0;36m<module>\u001b[0;34m()\u001b[0m\n\u001b[1;32m      1\u001b[0m \u001b[0;34m\u001b[0m\u001b[0m\n\u001b[1;32m      2\u001b[0m \u001b[0ma\u001b[0m\u001b[0;34m=\u001b[0m \u001b[0;34m\"a3\"\u001b[0m\u001b[0;34m\u001b[0m\u001b[0m\n\u001b[0;32m----> 3\u001b[0;31m \u001b[0;32mprint\u001b[0m\u001b[0;34m(\u001b[0m\u001b[0mPTMuon0\u001b[0m\u001b[0;34m.\u001b[0m\u001b[0mreshape\u001b[0m\u001b[0;34m(\u001b[0m\u001b[0;36m1\u001b[0m\u001b[0;34m,\u001b[0m\u001b[0mPTMuon0\u001b[0m\u001b[0;34m.\u001b[0m\u001b[0mshape\u001b[0m\u001b[0;34m[\u001b[0m\u001b[0;36m0\u001b[0m\u001b[0;34m]\u001b[0m\u001b[0;34m*\u001b[0m\u001b[0mPTMuon0\u001b[0m\u001b[0;34m.\u001b[0m\u001b[0mshape\u001b[0m\u001b[0;34m[\u001b[0m\u001b[0;36m1\u001b[0m\u001b[0;34m]\u001b[0m\u001b[0;34m)\u001b[0m\u001b[0;34m)\u001b[0m\u001b[0;34m\u001b[0m\u001b[0m\n\u001b[0m\u001b[1;32m      4\u001b[0m \u001b[0;32mprint\u001b[0m\u001b[0;34m(\u001b[0m\u001b[0mPTMuon0\u001b[0m\u001b[0;34m.\u001b[0m\u001b[0mreshape\u001b[0m\u001b[0;34m(\u001b[0m\u001b[0;36m1\u001b[0m\u001b[0;34m,\u001b[0m\u001b[0mPTMuon0\u001b[0m\u001b[0;34m.\u001b[0m\u001b[0mshape\u001b[0m\u001b[0;34m[\u001b[0m\u001b[0;36m0\u001b[0m\u001b[0;34m]\u001b[0m\u001b[0;34m*\u001b[0m\u001b[0mPTMuon0\u001b[0m\u001b[0;34m.\u001b[0m\u001b[0mshape\u001b[0m\u001b[0;34m[\u001b[0m\u001b[0;36m1\u001b[0m\u001b[0;34m]\u001b[0m\u001b[0;34m)\u001b[0m\u001b[0;34m+\u001b[0m\u001b[0;36m1\u001b[0m\u001b[0;34m)\u001b[0m\u001b[0;34m\u001b[0m\u001b[0m\n",
      "\u001b[0;31mNameError\u001b[0m: name 'PTMuon0' is not defined"
     ],
     "output_type": "error"
    }
   ],
   "source": [
    "a= \"a3\"\n",
    "print(PTMuon0.reshape(1,PTMuon0.shape[0]*PTMuon0.shape[1]))\n",
    "print(PTMuon0.reshape(1,PTMuon0.shape[0]*PTMuon0.shape[1])+1)"
   ],
   "metadata": {
    "collapsed": false,
    "pycharm": {
     "name": "#%%\n",
     "is_executing": false
    }
   }
  },
  {
   "cell_type": "code",
   "execution_count": null,
   "outputs": [],
   "source": [
    "a={\"a1\":[1,2,3],\n",
    "   \"a2\": \"hola\"  \n",
    "}\n",
    "a(\"a1\")\n",
    "\n"
   ],
   "metadata": {
    "collapsed": false,
    "pycharm": {
     "name": "#%%\n",
     "is_executing": false
    }
   }
  },
  {
   "cell_type": "code",
   "execution_count": null,
   "outputs": [],
   "source": [
    "DarkFile = DarkSUSY()\n",
    "DarkFile._Add_File(\"data/\" + ROOTs[0][0])\n",
    "DarkFile.Select_two_dimuon()\n",
    "#print \"hola\"\n",
    "class Graph:\n",
    "    \"\"\" Configure of object general for Graphic \"\"\"\n",
    "    def __init__(self, X = None, Y = None, Z = None, **kwargs):\n",
    "        # basic options\n",
    "        self.plt = None\n",
    "        self.config = fObject() # propiedades de los graficos, clase generica\n",
    "        self.config.__AddProp__(\"percentil\", 5)  #Default, float, en el rango 0<x<100, corta la informacion correspondiente\n",
    "        self.config.__AddProp__(\"type\", None)\n",
    "        self.config.__AddProp__(\"bins\", 30)\n",
    "        self.start = False  # automaticamente genera los datos\n",
    "        self.config.__AddProp__(\"grid\", True)  # \"Default, bool que describe is el grafico tendra la propiedad grid o no\"\n",
    "        # include todas las entradas respectivas\n",
    "        for name, value in kwargs.items():\n",
    "            self.config.__dict__[name] = value\n",
    "\n",
    "        if Z is not None or Y is not None or X is not None:\n",
    "            self.__input__(X, Y, Z)  # va a la respectiva funcion\n",
    "\n",
    "    def __AddProp__(self, name, value=None):\n",
    "        \"\"\"\n",
    "        :param name: declara el nombre la la nueva variable a incluir\n",
    "        :param value: optional, declara el valor de la nueva variable a incluir\n",
    "        :return: no tiene\n",
    "        \"\"\"\n",
    "        self.config.__dict__[name] = value\n",
    "\n",
    "    def __input__(self, X = None, Y = None, Z=None):\n",
    "        if  X is None and Y is None and Z is None:\n",
    "            print(\" :: Ninguna entrada Valida, no graficos posibles :: \")\n",
    "        else:\n",
    "            if (X is None and Y is None) and Z is not None:\n",
    "                inp=Z\n",
    "                print(\" :: Entrada unica, declaracion como eje Z :: \")\n",
    "            elif X is None and Z is None and Y is not None:\n",
    "                inp=Y\n",
    "                print(\" :: Entrada unica, declaracion como eje Y :: \")\n",
    "            elif Z is None and Y is None and X is not None:\n",
    "                inp=X\n",
    "                print(\" :: Entrada unica, declaracion como eje X :: \")\n",
    "            elif Z is not None and Y is not None and X is not None:\n",
    "                inp = \"xyz\"\n",
    "                print(\" :: Entrada de los 3 ejes ::\")\n",
    "            else:\n",
    "                inp = None\n",
    "                print(\" :: Entrada de datos invalida ::\")\n",
    "            #print(inp)\n",
    "            if inp is not None:\n",
    "                if inp == \"xyz\":\n",
    "                    print(\" :: Entrada de todos los datos X, Y y Z para tratar::\")\n",
    "                else:\n",
    "                    print(\" :: Entrada unica, se procesaran los datos:: \")\n",
    "                    if inp.shape[0]==1 or inp.shape[1]==1:\n",
    "                        if inp.shape[0]==1:\n",
    "                            inp = inp.T\n",
    "                        print(\" :: Datos con forma de vector ::\")\n",
    "                        # cortar datos si estan considerados en config.percentil\n",
    "                        #print self.percentil\n",
    "                        if hasattr(self, \"percentil\") and \\\n",
    "                                0 < self.config.percentil < 50:\n",
    "                            # solo los datos en el rago especifico\n",
    "                            log1 = np.percentile(inp, self.config.percentil) < inp\n",
    "                            log2 = np.percentile(inp, 100 - self.config.percentil) > inp\n",
    "                            log = log1*log2\n",
    "                        else:\n",
    "                            # todos los datos\n",
    "                            log = True\n",
    "                        #  Show Graph\n",
    "                        #print log1\n",
    "                        #print log1*1\n",
    "                        #print np.max(np.delete(inp, log))\n",
    "                        plt.hist( inp[log] )\n",
    "                    else:\n",
    "                        print(\" :: Datos con mas de una dimension, multiples graficos a tratar ::\")\n",
    "                        #plt.rcParams['figure.figsize'] = [10, 20]  # Grafico General\n",
    "                        # PRIMERO - NUMERO DE LINEAS GRAFICO\n",
    "                        for i in range(inp.shape[1]+1):\n",
    "                            print(\"grafico\" + str(i))\n",
    "                            plt.subplot(str(inp.shape[1]+1) + \"1\"+ str(i+1))\n",
    "                            if i==0:\n",
    "                                inpnew = inp.reshape(1,inp.shape[0]*inp.shape[1])\n",
    "                            else:\n",
    "                                inpnew = inp[:,i-1]\n",
    "                            if inpnew.shape[0]==1:\n",
    "                                inpnew = inpnew.T\n",
    "                            if hasattr(self.config, \"percentil\") and \\\n",
    "                                    0 < self.config.percentil < 50:\n",
    "                                # solo los datos en el rago especifico\n",
    "                                log1 = np.percentile(inpnew, self.config.percentil) < inpnew\n",
    "                                log2 = np.percentile(inpnew, 100 - self.config.percentil) > inpnew\n",
    "                                log = log1*log2\n",
    "                            else:\n",
    "                                # todos los datos\n",
    "                                log = True\n",
    "                            plt.hist( inpnew[log] )\n",
    "\n",
    "                # guardar grafico\n",
    "                self.plt = plt\n",
    "                if self.config.start:\n",
    "                    print(self.config.start)\n",
    "                    self.showGraph()\n",
    "\n",
    "        return self  # sacar el grafico para elegir que hacer con el\n",
    "    def showGraph(self):\n",
    "        self.start = True\n",
    "        # Propiedades\n",
    "        for name in dir(self.config):\n",
    "            #print(\"===\")\n",
    "            #print(name)\n",
    "            #print(name.find(\"_\"))\n",
    "            if name in dir(self.plt) and (name.find(\"__\") != 0):\n",
    "                print(self.plt.__dict__[name])\n",
    "                self.plt.__dict__[name] = self.config.__dict__[name]\n",
    "\n",
    "        if self.plt != None:\n",
    "            self.plt.show()\n",
    "        else:\n",
    "            print(\" :: No se ha introducido datos correctos para graficar, use __input__::\")\n",
    "        self.start = False\n",
    "        self.plt.savefig('books_read.png')\n",
    "        return 0\n",
    "\n",
    "    "
   ],
   "metadata": {
    "collapsed": false,
    "pycharm": {
     "name": "#%%\n"
    }
   }
  },
  {
   "cell_type": "code",
   "execution_count": 4,
   "outputs": [
    {
     "name": "stdout",
     "text": [
      " :: Entrada unica, declaracion como eje X :: \n",
      " :: Entrada unica, se procesaran los datos:: \n",
      " :: Datos con mas de una dimension, multiples graficos a tratar ::\n",
      "grafico0\n",
      "grafico1\n",
      "grafico2\n",
      "grafico3\n",
      "grafico4\n",
      "True\n",
      "<function grid at 0x7f349931eb50>\n",
      "True\n",
      "<function xlabel at 0x7f349931bdd0>\n"
     ],
     "output_type": "stream"
    },
    {
     "name": "stderr",
     "text": [
      "/home/franky8939/PROGRAMAS/anaconda3/envs/py27/lib/python2.7/site-packages/ipykernel_launcher.py:53: FutureWarning: elementwise comparison failed; returning scalar instead, but in the future will perform elementwise comparison\n"
     ],
     "output_type": "stream"
    },
    {
     "data": {
      "image/png": "[encoded data removed]",
      "text/plain": "<Figure size 432x288 with 5 Axes>"
     },
     "metadata": {
      "needs_background": "light"
     },
     "output_type": "display_data"
    },
    {
     "data": {
      "text/plain": "<Figure size 432x288 with 0 Axes>"
     },
     "metadata": {},
     "output_type": "display_data"
    },
    {
     "data": {
      "text/plain": "0"
     },
     "metadata": {},
     "output_type": "execute_result",
     "execution_count": 4
    },
    {
     "data": {
      "text/plain": "<Figure size 432x288 with 0 Axes>"
     },
     "metadata": {},
     "output_type": "display_data"
    }
   ],
   "source": [
    "#def graph1D\n",
    "#config = fObject() \n",
    "#dir(config)\n",
    "#print(PTMuon.reshape(1,PTMuon.shape[0]*PTMuon.shape[1]))\n",
    "#graph = Graph( PTMuon.reshape(1,PTMuon.shape[0]*PTMuon.shape[1]) )\n",
    "PTMuon= DarkFile._Obtein(\"PT\", \"Muon\",True)\n",
    "graph = Graph( PTMuon )\n",
    "graph.__AddProp__(\"xlabel\", 'Momento Angular')\n",
    "#graph.__AddProp__(\"xlim\",[0,100])\n",
    "graph.showGraph()"
   ],
   "metadata": {
    "collapsed": false,
    "pycharm": {
     "name": "#%%\n",
     "is_executing": false
    }
   }
  },
  {
   "cell_type": "code",
   "execution_count": 48,
   "outputs": [],
   "source": [
    " #dir(plt)"
   ],
   "metadata": {
    "collapsed": false,
    "pycharm": {
     "name": "#%%\n",
     "is_executing": false
    }
   }
  },
  {
   "cell_type": "code",
   "execution_count": null,
   "outputs": [],
   "source": [],
   "metadata": {
    "collapsed": false,
    "pycharm": {
     "name": "#%%\n"
    }
   }
  },
  {
   "cell_type": "code",
   "execution_count": 18,
   "outputs": [
    {
     "name": "stdout",
     "text": [
      "The file data/Mu4_darkSUSY_Event_10000_Ma_1_Tc_5000.root.root has been successfully loaded.\n",
      "(498,)\n",
      "(499,)\n"
     ],
     "output_type": "stream"
    },
    {
     "name": "stderr",
     "text": [
      "/home/franky8939/PROGRAMAS/anaconda3/envs/py27/lib/python2.7/site-packages/ipykernel_launcher.py:38: FutureWarning: in the future insert will treat boolean arrays and array-likes as boolean index instead of casting it to integer\n",
      "/home/franky8939/PROGRAMAS/anaconda3/envs/py27/lib/python2.7/site-packages/ipykernel_launcher.py:42: FutureWarning: in the future insert will treat boolean arrays and array-likes as boolean index instead of casting it to integer\n"
     ],
     "output_type": "stream"
    },
    {
     "ename": "AxisError",
     "evalue": "axis 1 is out of bounds for array of dimension 1",
     "traceback": [
      "\u001b[0;31m\u001b[0m",
      "\u001b[0;31mAxisError\u001b[0mTraceback (most recent call last)",
      "\u001b[0;32m<ipython-input-18-3a48245cf711>\u001b[0m in \u001b[0;36m<module>\u001b[0;34m()\u001b[0m\n\u001b[1;32m      8\u001b[0m \u001b[0;31m#print(aa)\u001b[0m\u001b[0;34m\u001b[0m\u001b[0;34m\u001b[0m\u001b[0m\n\u001b[1;32m      9\u001b[0m \u001b[0;34m\u001b[0m\u001b[0m\n\u001b[0;32m---> 10\u001b[0;31m \u001b[0mfgraf\u001b[0m\u001b[0;34m(\u001b[0m\u001b[0minput\u001b[0m\u001b[0;34m,\u001b[0m\u001b[0mconfig\u001b[0m\u001b[0;34m)\u001b[0m\u001b[0;34m\u001b[0m\u001b[0m\n\u001b[0m\u001b[1;32m     11\u001b[0m \u001b[0;34m\u001b[0m\u001b[0m\n",
      "\u001b[0;32m<ipython-input-17-ab627dec5b97>\u001b[0m in \u001b[0;36mfgraf\u001b[0;34m(input, config, **kwargs)\u001b[0m\n\u001b[1;32m     40\u001b[0m             \u001b[0;32mprint\u001b[0m\u001b[0;34m(\u001b[0m\u001b[0mhist\u001b[0m\u001b[0;34m.\u001b[0m\u001b[0mshape\u001b[0m\u001b[0;34m)\u001b[0m\u001b[0;34m\u001b[0m\u001b[0m\n\u001b[1;32m     41\u001b[0m             \u001b[0;32mprint\u001b[0m\u001b[0;34m(\u001b[0m\u001b[0mhist0\u001b[0m\u001b[0;34m.\u001b[0m\u001b[0mshape\u001b[0m\u001b[0;34m)\u001b[0m\u001b[0;34m\u001b[0m\u001b[0m\n\u001b[0;32m---> 42\u001b[0;31m             \u001b[0mhist\u001b[0m \u001b[0;34m=\u001b[0m \u001b[0mnp\u001b[0m\u001b[0;34m.\u001b[0m\u001b[0mconcatenate\u001b[0m\u001b[0;34m(\u001b[0m \u001b[0;34m(\u001b[0m\u001b[0mhist0\u001b[0m\u001b[0;34m,\u001b[0m \u001b[0mnp\u001b[0m\u001b[0;34m.\u001b[0m\u001b[0mdelete\u001b[0m\u001b[0;34m(\u001b[0m\u001b[0mhist0\u001b[0m\u001b[0;34m,\u001b[0m \u001b[0mlog\u001b[0m\u001b[0;34m)\u001b[0m\u001b[0;34m.\u001b[0m\u001b[0mT\u001b[0m\u001b[0;34m)\u001b[0m\u001b[0;34m,\u001b[0m \u001b[0maxis\u001b[0m\u001b[0;34m=\u001b[0m\u001b[0;36m1\u001b[0m\u001b[0;34m)\u001b[0m\u001b[0;34m\u001b[0m\u001b[0m\n\u001b[0m\u001b[1;32m     43\u001b[0m \u001b[0;34m\u001b[0m\u001b[0m\n\u001b[1;32m     44\u001b[0m     \u001b[0;32mprint\u001b[0m\u001b[0;34m(\u001b[0m\u001b[0mhist\u001b[0m\u001b[0;34m)\u001b[0m\u001b[0;34m\u001b[0m\u001b[0m\n",
      "\u001b[0;31mAxisError\u001b[0m: axis 1 is out of bounds for array of dimension 1"
     ],
     "output_type": "error"
    }
   ],
   "source": [
    "config = fObject()  # propiedades de los graficos\n",
    "DarkFile = DarkSUSY()\n",
    "DarkFile._Add_File(\"data/\" + ROOTs[0][0])\n",
    "#print(DarkFile._Add_File(inputFileROOT))\n",
    "aa=DarkFile.Select_two_di_muon()\n",
    "input= DarkFile._Obtein(\"PT\", \"Muon\",True)\n",
    "#print(aa)\n",
    "\n",
    "fgraf(input,config)"
   ],
   "metadata": {
    "collapsed": false,
    "pycharm": {
     "name": "#%%\n",
     "is_executing": false
    }
   }
  },
  {
   "cell_type": "code",
   "execution_count": null,
   "outputs": [],
   "source": [
    "\n"
   ],
   "metadata": {
    "collapsed": false,
    "pycharm": {
     "name": "#%%\n"
    }
   }
  },
  {
   "cell_type": "code",
   "execution_count": 25,
   "outputs": [
    {
     "name": "stdout",
     "text": [
      "[[27.58731651 12.39823151 19.56886482 14.99482059]\n",
      " [25.28609085 11.41467857 23.89503098 22.79404259]\n",
      " [70.2628479  38.31157684 48.44433975 34.73410034]\n",
      " ...\n",
      " [34.57374191 31.00688744 19.05659103 17.66292953]\n",
      " [53.42513657 13.87209415 12.71182346 12.62301445]\n",
      " [31.46525002 11.03592396 24.15844345 11.41875935]]\n",
      "======\n",
      "[[12.39823151 14.99482059 19.56886482 27.58731651]\n",
      " [11.41467857 22.79404259 23.89503098 25.28609085]\n",
      " [34.73410034 38.31157684 48.44433975 70.2628479 ]\n",
      " ...\n",
      " [17.66292953 19.05659103 31.00688744 34.57374191]\n",
      " [12.62301445 12.71182346 13.87209415 53.42513657]\n",
      " [11.03592396 11.41875935 24.15844345 31.46525002]]\n"
     ],
     "output_type": "stream"
    },
    {
     "data": {
      "text/plain": "array([12.39823151, 14.99482059, 19.56886482, 27.58731651])"
     },
     "metadata": {},
     "output_type": "execute_result",
     "execution_count": 25
    }
   ],
   "source": [
    "aa= DarkFile._Obtein(\"PT\", \"Muon\")\n",
    "aar= DarkFile._Obtein(\"PT\", \"Muon\",True)\n",
    "print(aa)\n",
    "print(\"======\")\n",
    "print(aar)\n",
    "(aa[0,aa[0,:].argsort()])"
   ],
   "metadata": {
    "collapsed": false,
    "pycharm": {
     "name": "#%%\n",
     "is_executing": false
    }
   }
  },
  {
   "cell_type": "code",
   "execution_count": 8,
   "outputs": [
    {
     "name": "stdout",
     "text": [
      "[[-1.  1.  1. -1.]\n",
      " [ 1. -1.  1. -1.]\n",
      " [-1.  1.  1. -1.]\n",
      " ...\n",
      " [ 1. -1. -1.  1.]\n",
      " [ 1. -1.  1. -1.]\n",
      " [ 1. -1. -1.  1.]]\n"
     ],
     "output_type": "stream"
    }
   ],
   "source": [
    "print(DarkFile._Obtein(\"Charge\", \"Muon\"))"
   ],
   "metadata": {
    "collapsed": false,
    "pycharm": {
     "name": "#%%\n",
     "is_executing": false
    }
   }
  },
  {
   "cell_type": "code",
   "execution_count": 9,
   "outputs": [
    {
     "name": "stdout",
     "text": [
      "499\n"
     ],
     "output_type": "stream"
    }
   ],
   "source": [
    "print(DarkFile._Obtein(\"Entries\"))"
   ],
   "metadata": {
    "collapsed": false,
    "pycharm": {
     "name": "#%%\n",
     "is_executing": false
    }
   }
  },
  {
   "cell_type": "code",
   "execution_count": null,
   "outputs": [],
   "source": [
    "#print(DarkFile._Obtein(\"MassInv\"))"
   ],
   "metadata": {
    "collapsed": false,
    "pycharm": {
     "name": "#%%\n",
     "is_executing": false
    }
   }
  },
  {
   "cell_type": "code",
   "execution_count": null,
   "outputs": [],
   "source": [],
   "metadata": {
    "collapsed": false,
    "pycharm": {
     "name": "#%%\n"
    }
   }
  },
  {
   "cell_type": "code",
   "execution_count": null,
   "outputs": [],
   "source": [
    "from mpl_toolkits.mplot3d import Axes3D\n",
    "# HISTOGRAMAS DE FRECUENCIA 3D\n",
    "#plt.rcParams['figure.figsize'] = [20, 5]\n",
    "#fig = plt.figure()\n",
    "#pl.bar(X[0], Y[0], facecolor='#ff9999', edgecolor='white')\n",
    "#ax = fig.add_subplot(121, projection='2d')\n",
    "#div = \n",
    "#frecZ1 = np.zeros(PTMuon.shape)\n",
    "#for i in range(INPUT1.shape[1]):\n",
    "#    for j in range(INPUT1.shape[2]):\n",
    "#        frecZ1[i,j] = np.sum(INPUT1[:,i,j]>0) \n",
    "#frecX, frecY = np.meshgrid(range(INPUT1.shape[1]) , range(INPUT1.shape[2]) , sparse=False, indexing='ij') ; # MATRIX COMBINADA\n",
    "# bar3d(x, y, z, dx, dy, dz, color='b', zsort='average', *args, **kwargs)\n",
    "import pylab as pl # SE TARDA \n",
    "pl.bar(bin_edges[:-1]+np.diff(bin_edges), hist, 50)#, zsort='average')\n",
    "#plt.title(' Analisis de frecuencias 3D para la muestra qcd') ;"
   ],
   "metadata": {
    "collapsed": false,
    "pycharm": {
     "name": "#%%\n"
    }
   }
  }
 ],
 "metadata": {
  "kernelspec": {
   "name": "python2",
   "language": "python",
   "display_name": "Python 2"
  },
  "language_info": {
   "codemirror_mode": {
    "name": "ipython",
    "version": 3
   },
   "file_extension": ".py",
   "mimetype": "text/x-python",
   "name": "python",
   "nbconvert_exporter": "python",
   "pygments_lexer": "ipython3",
   "version": "3.7.5"
  },
  "pycharm": {
   "stem_cell": {
    "cell_type": "raw",
    "source": [],
    "metadata": {
     "collapsed": false
    }
   }
  }
 },
 "nbformat": 4,
 "nbformat_minor": 1
}