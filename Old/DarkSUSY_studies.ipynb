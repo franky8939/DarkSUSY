{
 "cells": [
  {
   "cell_type": "code",
   "execution_count": 11,
   "metadata": {
    "pycharm": {
     "is_executing": false,
     "name": "#%%\n"
    }
   },
   "outputs": [
    {
     "data": {
      "text/plain": [
       "0"
      ]
     },
     "execution_count": 11,
     "metadata": {},
     "output_type": "execute_result"
    }
   ],
   "source": [
    "import ROOT \n",
    "ROOT.gSystem.Load(\"/home/franky8939/PROGRAMAS/MG5_aMC_v2_6_7/Delphes/libDelphes.so\")\n",
    "ROOT.gInterpreter.Declare('#include \"/home/franky8939/PROGRAMAS/MG5_aMC_v2_6_7/Delphes/classes/SortableObject.h\"')\n",
    "ROOT.gROOT.ProcessLine('.include .')\n",
    "ROOT.gInterpreter.Declare('#include \"/home/franky8939/PROGRAMAS/MG5_aMC_v2_6_7/Delphes/classes/DelphesClasses.h\"')\n",
    "ROOT.gInterpreter.Declare('#include \"/home/franky8939/PROGRAMAS/MG5_aMC_v2_6_7/Delphes/external/ExRootAnalysis/ExRootTreeReader.h\"')\n",
    "ROOT.gROOT.ProcessLine('.include .')"
   ]
  },
  {
   "cell_type": "code",
   "execution_count": 12,
   "metadata": {
    "pycharm": {
     "is_executing": false,
     "name": "#%%\n"
    }
   },
   "outputs": [],
   "source": [
    "import numpy\n",
    "import random\n",
    "import ROOT\n",
    "import pickle # PARA GUARDAR LOS DATOS EN UN ARCHIVO EXTERNO\n",
    "#import plotly.graph_objects as go # FIG APILADAS Y SLIDERS"
   ]
  },
  {
   "cell_type": "code",
   "execution_count": 13,
   "metadata": {
    "pycharm": {
     "is_executing": false,
     "name": "#%%\n"
    }
   },
   "outputs": [
    {
     "name": "stdout",
     "output_type": "stream",
     "text": [
      "10000\n"
     ]
    },
    {
     "name": "stderr",
     "output_type": "stream",
     "text": [
      "ExRootAnalysisDict dictionary payload:14:10: fatal error: 'ExRootAnalysis/ExRootTreeReader.h' file not found\n",
      "#include \"ExRootAnalysis/ExRootTreeReader.h\"\n",
      "         ^~~~~~~~~~~~~~~~~~~~~~~~~~~~~~~~~~~\n",
      "Error in <TInterpreter::AutoParse>: Error parsing payload code for class ExRootTreeReader with content:\n",
      "\n",
      "#line 1 \"ExRootAnalysisDict dictionary payload\"\n",
      "\n",
      "\n",
      "#define _BACKWARD_BACKWARD_WARNING_H\n",
      "// Inline headers\n",
      "\n",
      "/** \\class ExRootAnalysisLinkDef\n",
      " *\n",
      " *  Lists classes to be included in cint dicitonary\n",
      " *\n",
      " *  \\author P. Demin - UCL, Louvain-la-Neuve\n",
      " *\n",
      " */\n",
      "\n",
      "#include \"ExRootAnalysis/ExRootTreeReader.h\"\n",
      "#include \"ExRootAnalysis/ExRootTreeWriter.h\"\n",
      "#include \"ExRootAnalysis/ExRootTreeBranch.h\"\n",
      "#include \"ExRootAnalysis/ExRootResult.h\"\n",
      "#include \"ExRootAnalysis/ExRootUtilities.h\"\n",
      "#include \"ExRootAnalysis/ExRootClassifier.h\"\n",
      "#include \"ExRootAnalysis/ExRootFilter.h\"\n",
      "\n",
      "#include \"ExRootAnalysis/ExRootProgressBar.h\"\n",
      "#include \"ExRootAnalysis/ExRootConfReader.h\"\n",
      "#include \"ExRootAnalysis/ExRootTask.h\"\n",
      "\n",
      "#ifdef __CINT__\n",
      "\n",
      "#pragma link off all globals;\n",
      "#pragma link off all classes;\n",
      "#pragma link off all functions;\n",
      "\n",
      "#pragma link C++ class ExRootTreeReader+;\n",
      "#pragma link C++ class ExRootTreeBranch+;\n",
      "#pragma link C++ class ExRootTreeWriter+;\n",
      "#pragma link C++ class ExRootResult+;\n",
      "#pragma link C++ class ExRootClassifier+;\n",
      "#pragma link C++ class ExRootFilter+;\n",
      "\n",
      "#pragma link C++ class ExRootProgressBar+;\n",
      "#pragma link C++ class ExRootConfReader+;\n",
      "#pragma link C++ class ExRootConfParam+;\n",
      "#pragma link C++ class ExRootTask+;\n",
      "\n",
      "#pragma link C++ function HistStyle;\n",
      "#pragma link C++ function FillChain;\n",
      "\n",
      "#endif\n",
      "\n",
      "\n",
      "#undef  _BACKWARD_BACKWARD_WARNING_H\n",
      "\n"
     ]
    }
   ],
   "source": [
    "#inputFile = \"darkphoton_m0p25_ct0mm.root\"\n",
    "inputFile = \"darkphoton_5GeV_ctau0.root\"\n",
    "chain = ROOT.TChain(\"Delphes;1\")\n",
    "chain.Add(inputFile)\n",
    "treeReader = ROOT.ExRootTreeReader(chain)\n",
    "numberOfEntries = treeReader.GetEntries()\n",
    "print(numberOfEntries)"
   ]
  },
  {
   "cell_type": "code",
   "execution_count": 14,
   "metadata": {
    "pycharm": {
     "is_executing": false,
     "name": "#%%\n"
    }
   },
   "outputs": [
    {
     "data": {
      "text/plain": [
       "<ROOT.TClonesArray object at 0x(nil)>"
      ]
     },
     "execution_count": 14,
     "metadata": {},
     "output_type": "execute_result"
    },
    {
     "name": "stdout",
     "output_type": "stream",
     "text": [
      "** WARNING: cannot access branch 'Muon', return NULL pointer\n"
     ]
    }
   ],
   "source": [
    "#treeReader.ReadEntry(10)\n",
    "#treeReader.GetListOfKeys()\n",
    "treeReader.UseBranch(\"Muon\")\n",
    "#branchMuon = treeReader.GetBranch(\"Muon\")"
   ]
  },
  {
   "cell_type": "code",
   "execution_count": null,
   "metadata": {
    "pycharm": {
     "name": "#%%\n"
    }
   },
   "outputs": [],
   "source": [
    "#print(branchMuon.GetEntries())\n",
    "branchmuon = ROOT.ExRootTreeReader(chain).UseBranch(\"Muon\")\n",
    "branchmuon.At(0)\n",
    "#branchJet = treeReader.UseBranch(\"Jet\")\n",
    "'''for entry in range(0, numberOfEntries):\n",
    "  # Load selected branches with data from specified event\n",
    "  treeReader.ReadEntry(entry)\n",
    "\n",
    "  # If event contains at least 1 jet\n",
    "  if branchMuon.GetEntries() > 0:\n",
    "  # If event contains at least 2 electrons\n",
    "  #if branchElectron.GetEntries() > 1:\n",
    "    # Take first two electrons\n",
    "    #elec1 = branchElectron.At(0)\n",
    "    #elec2 = branchElectron.At(1)\n",
    "#print(numberOfEntries)\n",
    "print(treeReader)\n",
    "'''"
   ]
  },
  {
   "cell_type": "code",
   "execution_count": 6,
   "metadata": {
    "pycharm": {
     "is_executing": false,
     "name": "#%%\n"
    }
   },
   "outputs": [
    {
     "name": "stdout",
     "output_type": "stream",
     "text": [
      "Name: Event Title: Event_\n",
      "Name: Event_size Title: Event_size/I\n",
      "Name: Weight Title: Weight_\n",
      "Name: Weight_size Title: Weight_size/I\n",
      "Name: Particle Title: Particle_\n",
      "Name: Particle_size Title: Particle_size/I\n",
      "Name: Track Title: Track_\n",
      "Name: Track_size Title: Track_size/I\n",
      "Name: Tower Title: Tower_\n",
      "Name: Tower_size Title: Tower_size/I\n",
      "Name: EFlowTrack Title: EFlowTrack_\n",
      "Name: EFlowTrack_size Title: EFlowTrack_size/I\n",
      "Name: EFlowPhoton Title: EFlowPhoton_\n",
      "Name: EFlowPhoton_size Title: EFlowPhoton_size/I\n",
      "Name: EFlowNeutralHadron Title: EFlowNeutralHadron_\n",
      "Name: EFlowNeutralHadron_size Title: EFlowNeutralHadron_size/I\n",
      "Name: GenJet Title: GenJet_\n",
      "Name: GenJet_size Title: GenJet_size/I\n",
      "Name: GenMissingET Title: GenMissingET_\n",
      "Name: GenMissingET_size Title: GenMissingET_size/I\n",
      "Name: Jet Title: Jet_\n",
      "Name: Jet_size Title: Jet_size/I\n",
      "Name: Electron Title: Electron_\n",
      "Name: Electron_size Title: Electron_size/I\n",
      "Name: Photon Title: Photon_\n",
      "Name: Photon_size Title: Photon_size/I\n",
      "Name: Muon Title: Muon_\n",
      "Name: Muon_size Title: Muon_size/I\n",
      "Name: FatJet Title: FatJet_\n",
      "Name: FatJet_size Title: FatJet_size/I\n",
      "Name: MissingET Title: MissingET_\n",
      "Name: MissingET_size Title: MissingET_size/I\n",
      "Name: ScalarHT Title: ScalarHT_\n",
      "Name: ScalarHT_size Title: ScalarHT_size/I\n"
     ]
    }
   ],
   "source": [
    "for i in range(chain.GetNbranches ()):\n",
    "    print(chain.GetListOfBranches()[i])"
   ]
  },
  {
   "cell_type": "code",
   "execution_count": null,
   "metadata": {
    "pycharm": {
     "name": "#%%\n"
    }
   },
   "outputs": [],
   "source": [
    "\n"
   ]
  }
 ],
 "metadata": {
  "kernelspec": {
   "display_name": "PyCharm (Analisis DarkSusy)",
   "language": "python",
   "name": "pycharm-19f009a9"
  },
  "language_info": {
   "codemirror_mode": {
    "name": "ipython",
    "version": 2
   },
   "file_extension": ".py",
   "mimetype": "text/x-python",
   "name": "python",
   "nbconvert_exporter": "python",
   "pygments_lexer": "ipython2",
   "version": "2.7.17"
  },
  "pycharm": {
   "stem_cell": {
    "cell_type": "raw",
    "metadata": {
     "collapsed": false
    },
    "source": []
   }
  }
 },
 "nbformat": 4,
 "nbformat_minor": 1
}
