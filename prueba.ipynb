{
 "cells": [
  {
   "cell_type": "code",
   "execution_count": 8,
   "outputs": [
    {
     "name": "stdout",
     "text": [
      "1 1 hola\n",
      "1 1 jj\n",
      "2 1 hola\n",
      "2 1 jj\n",
      "3 1 hola\n",
      "3 1 jj\n"
     ],
     "output_type": "stream"
    },
    {
     "data": {
      "text/plain": "1000.0"
     },
     "metadata": {},
     "output_type": "execute_result",
     "execution_count": 8
    }
   ],
   "source": [
    "import itertools\n",
    "import numpy as np\n",
    "cc1 = np.array([1,2,3])\n",
    "cc2 = np.array([1])\n",
    "cc3 = [\"hola\", \"jj\"]\n",
    "for a,b,c in itertools.product(cc1, cc2, cc3):\n",
    "    print(a,b,c)\n",
    "\n",
    "random(0, 1e5)"
   ],
   "metadata": {
    "collapsed": false,
    "pycharm": {
     "name": "#%%\n",
     "is_executing": false
    }
   }
  },
  {
   "cell_type": "code",
   "execution_count": null,
   "outputs": [],
   "source": [
    "\n"
   ],
   "metadata": {
    "collapsed": false,
    "pycharm": {
     "name": "#%%\n"
    }
   }
  }
 ],
 "metadata": {
  "kernelspec": {
   "name": "python3",
   "language": "python",
   "display_name": "Python 3"
  },
  "language_info": {
   "codemirror_mode": {
    "name": "ipython",
    "version": 2
   },
   "file_extension": ".py",
   "mimetype": "text/x-python",
   "name": "python",
   "nbconvert_exporter": "python",
   "pygments_lexer": "ipython2",
   "version": "2.7.15"
  },
  "pycharm": {
   "stem_cell": {
    "cell_type": "raw",
    "source": [],
    "metadata": {
     "collapsed": false
    }
   }
  }
 },
 "nbformat": 4,
 "nbformat_minor": 1
}