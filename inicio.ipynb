{
 "cells": [
  {
   "cell_type": "code",
   "execution_count": 1,
   "outputs": [
    {
     "ename": "TypeError",
     "evalue": "'int' object is not iterable",
     "traceback": [
      "\u001b[0;31m\u001b[0m",
      "\u001b[0;31mTypeError\u001b[0mTraceback (most recent call last)",
      "\u001b[0;32m<ipython-input-1-3467cad5d3f0>\u001b[0m in \u001b[0;36m<module>\u001b[0;34m()\u001b[0m\n\u001b[1;32m     23\u001b[0m \u001b[0mi_MNeuL\u001b[0m \u001b[0;34m=\u001b[0m \u001b[0;34m[\u001b[0m\u001b[0;34m-\u001b[0m\u001b[0;36m1\u001b[0m\u001b[0;34m]\u001b[0m\u001b[0;34m\u001b[0m\u001b[0m\n\u001b[1;32m     24\u001b[0m \u001b[0;32mfor\u001b[0m \u001b[0mMNeuL\u001b[0m \u001b[0;32min\u001b[0m \u001b[0mVect_MNeuL\u001b[0m\u001b[0;34m:\u001b[0m\u001b[0;34m\u001b[0m\u001b[0m\n\u001b[0;32m---> 25\u001b[0;31m     \u001b[0mi_MNeuL\u001b[0m \u001b[0;34m+=\u001b[0m \u001b[0;36m1\u001b[0m\u001b[0;34m\u001b[0m\u001b[0m\n\u001b[0m\u001b[1;32m     26\u001b[0m     \u001b[0mi_MNeuD\u001b[0m \u001b[0;34m=\u001b[0m \u001b[0;34m[\u001b[0m\u001b[0;34m-\u001b[0m\u001b[0;36m1\u001b[0m\u001b[0;34m]\u001b[0m\u001b[0;34m\u001b[0m\u001b[0m\n\u001b[1;32m     27\u001b[0m     \u001b[0;32mfor\u001b[0m \u001b[0mMNeuD\u001b[0m \u001b[0;32min\u001b[0m \u001b[0mVect_MNeuD\u001b[0m\u001b[0;34m:\u001b[0m\u001b[0;34m\u001b[0m\u001b[0m\n",
      "\u001b[0;31mTypeError\u001b[0m: 'int' object is not iterable"
     ],
     "output_type": "error"
    }
   ],
   "source": [
    "import numpy as np\n",
    "import h5py\n",
    "import os\n",
    "\n",
    "# Localization of h5 for all data\n",
    "directory = 'data/DarkSUSY.h5'\n",
    "# Open file *.h5 of data\n",
    "hf = h5py.File(directory, 'r')\n",
    "\n",
    "Vect_MNeuL = [10]\n",
    "Vect_MNeuD = [0.25, 1, 2, 3, 4, 5, 6, 7, 8, 9, 10]  # mass of dark neutrino\n",
    "Vect_MPhoD = [0.25, 1, 2, 3, 4, 5, 6, 7, 8, 9, 10]  # mass of  dark photon\n",
    "Vect_TcPhoD = [0, 5, 10, 20, 30, 40, 50, 60, 70, 80, 90, 100]  # values of life time (Tc)\n",
    "Vect_Card = [\"HL\", \"CMS\"]\n",
    "\n",
    "out_CMS = np.zeros([len(Vect_MNeuL), len(Vect_MNeuD),\n",
    "                    len(Vect_MPhoD), len(Vect_TcPhoD)], dtype=int)\n",
    "out_HL  = np.zeros([len(Vect_MNeuL), len(Vect_MNeuD),\n",
    "                    len(Vect_MPhoD), len(Vect_TcPhoD)], dtype=int)\n",
    "\n",
    "#print out_CMS\n",
    "\n",
    "i_MNeuL = [-1]\n",
    "for MNeuL in Vect_MNeuL:\n",
    "    i_MNeuL += 1\n",
    "    i_MNeuD = [-1]\n",
    "    for MNeuD in Vect_MNeuD:\n",
    "        i_MPhoD = [0]\n",
    "        for MPhoD in Vect_MPhoD:\n",
    "            if MNeuD + MPhoD <= MNeuL:  # condition mass equilibrium\n",
    "                i_TcPhoD = [0]\n",
    "                for TcPhoD in Vect_TcPhoD:\n",
    "                    for Card in [\"HL\", \"CMS\"]:\n",
    "                        direction = \"MNeuL_\" + str(MNeuL) + \"/MNeuD_\" + str(MNeuD) + \\\n",
    "                                    \"/MPhoD_\" + str(MPhoD) + \"/LifeTime/TcPhoD_\" + str(TcPhoD) + \\\n",
    "                                    \"/Card_\" + Card\n",
    "                        # print direction\n",
    "                        group = hf.get(direction)\n",
    "                        print np.array(group.get('Entries')), type(int(np.array(group.get('Entries'))))\n",
    "                        if Card is \"HL\":\n",
    "                            out_HL[i_MNeuL, i_MNeuD, i_MPhoD, i_TcPhoD] = int(np.array(group.get('Entries')))\n",
    "                        elif Card is \"CMS\":\n",
    "                            out_CMS[i_MNeuL, i_MNeuD, i_MPhoD, i_TcPhoD] = int(np.array(group.get('Entries')))\n",
    "\n",
    "hf.close()\n",
    "\n",
    "print out_HL\n",
    "print out_CMS\n"
   ],
   "metadata": {
    "collapsed": false,
    "pycharm": {
     "name": "#%%\n",
     "is_executing": false
    }
   }
  },
  {
   "cell_type": "code",
   "execution_count": null,
   "outputs": [],
   "source": [
    "from modules.darkSUSY.classDarkSUSY import *\n",
    "from modules.general.F_search import *\n",
    "from modules.graph.histograms import *\n",
    "\n",
    "from IPython.display import clear_output\n",
    "import matplotlib.pyplot as plt\n",
    "from matplotlib import cm\n",
    "import numpy as np\n",
    "import h5py\n",
    "import os"
   ],
   "metadata": {
    "collapsed": false,
    "pycharm": {
     "name": "#%%\n"
    }
   }
  },
  {
   "cell_type": "code",
   "execution_count": null,
   "outputs": [],
   "source": [
    "name = \"data/ALL//LOG_Mu4_DarkSUSY_HL_Event_10000_MNeuL_10_MNeuD_0.25_MPhoD_2_TcPhoD_5_.txt\"\n",
    "FileROOT = open(name, 'r')\n",
    "Reduction_Event = []\n",
    "for line in FileROOT:\n",
    "    try:\n",
    "        float(line)\n",
    "        Reduction_Event.append(float(line))\n",
    "        #print str(line)\n",
    "    except ValueError:\n",
    "        continue\n",
    "        \n",
    "FileROOT.close()\n",
    "print Reduction_Event\n",
    "# DarkFileTemp.Obtein(var, order=False)\n",
    "#DarkFileTemp.Mu_DiMu[:,0]"
   ],
   "metadata": {
    "collapsed": false,
    "pycharm": {
     "name": "#%%\n"
    }
   }
  },
  {
   "cell_type": "code",
   "execution_count": null,
   "outputs": [],
   "source": [
    "directory = 'data/DarkSUSY.h5'\n",
    "hf = h5py.File(directory, 'w')\n",
    "#direction = \"MNeuL_\" + str(MNeuL) + \"/MNeuD_\" + str(MNeuD) + \"/MPhoD_\" + str(MPhoD)\n",
    "#hf.create_group(direction)\n",
    "gg=hf.require_group(\"directionn\")\n",
    "hf.close()\n",
    "print gg"
   ],
   "metadata": {
    "collapsed": false,
    "pycharm": {
     "name": "#%%\n"
    }
   }
  },
  {
   "cell_type": "code",
   "execution_count": null,
   "outputs": [],
   "source": [],
   "metadata": {
    "collapsed": false,
    "pycharm": {
     "name": "#%%\n"
    }
   }
  },
  {
   "cell_type": "code",
   "execution_count": null,
   "outputs": [],
   "source": [
    "from modules.darkSUSY.classDarkSUSY import *\n",
    "from modules.general.F_search import *\n",
    "from modules.graph.histograms import *\n",
    "\n",
    "import matplotlib.pyplot as plt\n",
    "from matplotlib import cm\n",
    "import numpy as np\n",
    "\n",
    "Delphes_DIR = \"/home/franky8939/PROGRAMAS/MG5_aMC_v2_6_7/Delphes/\"  # Directory local of Delphes\n",
    "ROOT_DIR = \"/home/franky8939/PROGRAMAS/root-6.18.02/\"  # Directory local of Root\n",
    "fbash(Delphes_DIR, ROOT_DIR)  # path in bash of Delphes and Root\n",
    "\n",
    "# CLASE DARKSUSY\n",
    "DarkFile = DarkSUSY()  # inicializar la clase"
   ],
   "metadata": {
    "collapsed": false,
    "pycharm": {
     "name": "#%%\n"
    }
   }
  },
  {
   "cell_type": "code",
   "execution_count": 3,
   "outputs": [
    {
     "name": "stdout",
     "text": [
      " :: File localizado correctamente :: \n",
      " :: archivo :: Mu4_DarkSUSY_HL_Event_10000_MNeuL_10_MNeuD_0.25_MPhoD_0.25_TcPhoD_0_.root\n",
      " :: File localizado correctamente :: \n",
      " :: archivo :: Mu4_DarkSUSY_HL_Event_10000_MNeuL_10_MNeuD_0.25_MPhoD_0.25_TcPhoD_5_.root\n",
      " :: File localizado correctamente :: \n",
      " :: archivo :: Mu4_DarkSUSY_HL_Event_10000_MNeuL_10_MNeuD_0.25_MPhoD_0.25_TcPhoD_10_.root\n",
      " :: File localizado correctamente :: \n",
      " :: archivo :: Mu4_DarkSUSY_HL_Event_10000_MNeuL_10_MNeuD_0.25_MPhoD_0.25_TcPhoD_20_.root\n",
      " :: File localizado correctamente :: \n",
      " :: archivo :: Mu4_DarkSUSY_HL_Event_10000_MNeuL_10_MNeuD_0.25_MPhoD_0.25_TcPhoD_30_.root\n",
      " :: File localizado correctamente :: \n",
      " :: archivo :: Mu4_DarkSUSY_HL_Event_10000_MNeuL_10_MNeuD_0.25_MPhoD_0.25_TcPhoD_40_.root\n",
      " :: File localizado correctamente :: \n",
      " :: archivo :: Mu4_DarkSUSY_HL_Event_10000_MNeuL_10_MNeuD_0.25_MPhoD_0.25_TcPhoD_50_.root\n",
      " :: File localizado correctamente :: \n",
      " :: archivo :: Mu4_DarkSUSY_HL_Event_10000_MNeuL_10_MNeuD_0.25_MPhoD_0.25_TcPhoD_60_.root\n",
      " :: File localizado correctamente :: \n",
      " :: archivo :: Mu4_DarkSUSY_HL_Event_10000_MNeuL_10_MNeuD_0.25_MPhoD_0.25_TcPhoD_70_.root\n",
      " :: File localizado correctamente :: \n",
      " :: archivo :: Mu4_DarkSUSY_HL_Event_10000_MNeuL_10_MNeuD_0.25_MPhoD_0.25_TcPhoD_80_.root\n",
      " :: File localizado correctamente :: \n",
      " :: archivo :: Mu4_DarkSUSY_HL_Event_10000_MNeuL_10_MNeuD_0.25_MPhoD_0.25_TcPhoD_90_.root\n",
      " :: File localizado correctamente :: \n",
      " :: archivo :: Mu4_DarkSUSY_HL_Event_10000_MNeuL_10_MNeuD_0.25_MPhoD_0.25_TcPhoD_100_.root\n"
     ],
     "output_type": "stream"
    }
   ],
   "source": [
    "# BUSCAR DATA\n",
    "Event = 10000\n",
    "Vect_MNeuL = [10]\n",
    "Vect_MNeuD = [0.25]\n",
    "Vect_MPhoD = [0.25]  # [0.25, 1, 2, 3, 4, 5]  # masa de los photons\n",
    "Vect_TcPhoD = [0, 5, 10, 20, 30, 40, 50, 60, 70, 80, 90, 100]  # valores de Tc\n",
    "Vect_Card = [\"HL\", \"CMS\"]\n",
    "# BUSCANDO ARCHIVO DEFAULT\n",
    "directory = \"data/ALL/\"\n",
    "particle = \"Muon\"\n",
    "var = \"Eta\"\n",
    "for MNeuL in Vect_MNeuL:\n",
    "    for MNeuD in Vect_MNeuD:\n",
    "        for MPhoD in Vect_MPhoD:\n",
    "            for TcPhoD in Vect_TcPhoD:\n",
    "                #for Card in Vect_Card:\n",
    "                fileROOT = FindROOT(Event=Event,\n",
    "                                    Card=None, \n",
    "                                    MNeuL=MNeuL, \n",
    "                                    MNeuD=MNeuD, \n",
    "                                    MPhoD=MPhoD, \n",
    "                                    TcPhoD=TcPhoD, \n",
    "                                    include=[\"Mu4_DarkSUSY\", \"_.root\", \"HL\"], \n",
    "                                    directory=\"data/ALL/\")\n",
    "\n",
    "\n",
    "plt.grid(True)\n",
    "plt.xlabel('Value of Eta')\n",
    "plt.ylabel('Normalize Probability')\n",
    "plt.xlim(-4,4)\n",
    "plt.legend([\"Card = HL\",\"Card = CMS\"])\n",
    "plt.savefig(\"Change of eta.pdf\")\n",
    "plt.savefig(\"Change of eta.png\")\n",
    "plt.show()\n",
    "                    #fileROOT = FindROOT(Event, Card, MNeuL, MNeuD, MPhoD, TcPhoD, directory)"
   ],
   "metadata": {
    "collapsed": false,
    "pycharm": {
     "name": "#%%\n",
     "is_executing": false
    }
   }
  },
  {
   "cell_type": "code",
   "execution_count": null,
   "outputs": [],
   "source": [
    "for fill in fileROOT:\n",
    "    if fileROOT is not None:\n",
    "        DarkFileN = DarkFile  # new\n",
    "        DarkFileN.Add_File(\"data/ALL/\" + fileROOT)\n",
    "        DarkFileN.Select_two_dimuon()\n",
    "        Var = DarkFileN.Obtein(var, particle=\"Muon\", order=False)\n",
    "        \n",
    "        print(Var.flatten())\n",
    "        plt.hist(Var.flatten(),  bins=40, alpha=0.7, normed=1)\n",
    "\n"
   ],
   "metadata": {
    "collapsed": false,
    "pycharm": {
     "name": "#%%    \n"
    }
   }
  },
  {
   "cell_type": "code",
   "execution_count": 11,
   "outputs": [
    {
     "data": {
      "text/plain": "True"
     },
     "metadata": {},
     "output_type": "execute_result",
     "execution_count": 11
    }
   ],
   "source": [
    "\"_.root\" not in \"Mu4_DarkSUSY_HL_Event_10000_MNeuL_10_MNeuD_0.25_MPhoD_0.25_TcPhoD_0_.txt\""
   ],
   "metadata": {
    "collapsed": false,
    "pycharm": {
     "name": "#%%\n",
     "is_executing": false
    }
   }
  },
  {
   "cell_type": "code",
   "execution_count": null,
   "outputs": [],
   "source": [
    "# BUSCAR DATA\n",
    "Event = 10000\n",
    "Vect_MNeuL = [10]\n",
    "Vect_MNeuD = [0.25]\n",
    "Vect_MPhoD = [0.25]  # [0.25, 1, 2, 3, 4, 5]  # masa de los photons\n",
    "Vect_TcPhoD = [5, 10, 50]  # [0, 5, 10, 20, 30, 40, 50, 60, 70, 80, 90, 100]  # valores de Tc\n",
    "Vect_Card = [\"HL\"]\n",
    "# BUSCANDO ARCHIVO DEFAULT\n",
    "directory = \"data/ALL/\"\n",
    "particle = \"Muon\"\n",
    "var = \"D0\"\n",
    "for MNeuL in Vect_MNeuL:\n",
    "    for MNeuD in Vect_MNeuD:\n",
    "        for MPhoD in Vect_MPhoD:\n",
    "            for TcPhoD in Vect_TcPhoD:\n",
    "                for Card in Vect_Card:\n",
    "                    fileROOT = FindROOT(Event, Card, MNeuL, MNeuD, MPhoD, TcPhoD, directory)\n",
    "                    if fileROOT is not None:\n",
    "                        # print(fileROOT)\n",
    "                        # clear_output()\n",
    "                        #DarkFileNew = DarkFile  # new\n",
    "                        #DarkFileNew.Add_File(directory + \"/\" + fileROOT)\n",
    "                        #DarkFileNew.Select_two_dimuon()\n",
    "                        #data = DarkFileNew.Obtein(\"Eta\", particle=\"particle\", order=False)\n",
    "                        \n",
    "                        DarkFileN = DarkFile  # new\n",
    "                        DarkFileN.Add_File(\"data/ALL/\" + fileROOT)\n",
    "                        DarkFileN.Select_two_dimuon()\n",
    "                        Var = DarkFileN.Obtein(var, particle=particle, order=False)\n",
    "                        #print Var.flatten()\n",
    "                        plt.hist(Var.flatten(),  bins=120, alpha=0.5, normed=1)\n",
    "\n",
    "plt.grid(True)\n",
    "plt.xlabel('Value of D0')\n",
    "plt.ylabel('Normalize Probability')\n",
    "plt.xlim(-50,50)\n",
    "plt.ylim([0,0.1])\n",
    "plt.legend([\"ct = 5 mm\",\"ct = 10 mm\",\"ct = 50 mm\"])\n",
    "plt.savefig(\"Change of D0.pdf\")\n",
    "plt.savefig(\"Change of D0.png\")\n",
    "plt.show()"
   ],
   "metadata": {
    "collapsed": false,
    "pycharm": {
     "name": "#%%\n"
    }
   }
  },
  {
   "cell_type": "code",
   "execution_count": null,
   "outputs": [],
   "source": [
    "\n",
    "# Para entries\n",
    "# BUSCAR DATA\n",
    "Event = 10000\n",
    "Vect_MNeuL = [10]\n",
    "Vect_MNeuD = [0.25]\n",
    "Vect_MPhoD = [0.25, 1, 2, 3, 4, 5]  # masa de los photons\n",
    "Vect_TcPhoD = [0, 5, 10, 20, 30, 40, 50, 60, 70, 80, 90, 100]  # valores de Tc\n",
    "Vect_Card = [\"CMS\", \"HL\"]\n",
    "# BUSCANDO ARCHIVO DEFAULT\n",
    "directory = \"data/ALL/\"\n",
    "particle = \"Muon\"\n",
    "var = \"Entries\"\n",
    "EntriesCMS=np.zeros((len(Vect_MPhoD), len(Vect_TcPhoD)))\n",
    "EntriesHL=np.zeros((len(Vect_MPhoD), len(Vect_TcPhoD)))\n",
    "print EntriesHL\n",
    "\n",
    "i = 0\n",
    "j = 0\n",
    "for MNeuL in Vect_MNeuL:\n",
    "    for MNeuD in Vect_MNeuD:\n",
    "        for MPhoD in Vect_MPhoD:\n",
    "            if MPhoD is not Vect_MPhoD[0]:\n",
    "                i += 1\n",
    "                j = 0\n",
    "            for TcPhoD in Vect_TcPhoD:\n",
    "                if TcPhoD is not Vect_TcPhoD[0]:\n",
    "                    j +=1\n",
    "                for Card in Vect_Card:\n",
    "                    fileROOT = FindROOT(Event, Card, MNeuL, MNeuD, MPhoD, TcPhoD, directory)\n",
    "                    if fileROOT is not None:mass1 = (self.File.Muon.At(di_muon\n",
    "                        #print i, j                        \n",
    "                        DarkFileN = DarkFile  # new\n",
    "                        DarkFileN.Add_File(\"data/ALL/\" + fileROOT)\n",
    "                        if Card == \"HL\":\n",
    "                            EntriesHL[i,j] = DarkFile.Entries\n",
    "                        if Card == \"CMS\":\n",
    "                            EntriesCMS[i,j] = DarkFile.Entries\n",
    "                        \n",
    "                        \n",
    "                        #DarkFileN.Select_two_dimuon()\n",
    "                        #Var = DarkFileN.Obtein(\"Eta\", particle=\"Muon\", order=False)\n",
    "                        \n",
    "                        #print(Var.flatten())\n",
    "                        #plt.hist(Var.flatten(),  bins=40, alpha=0.7, normed=1)\n",
    "\n",
    "#plt.grid(True)\n",
    "#plt.show()\n",
    "#plt.savefig(\"Variable temporal.pdf\")\n",
    "\n",
    "\n",
    "\n"
   ],
   "metadata": {
    "collapsed": false,
    "pycharm": {
     "name": "#%%\n"
    }
   }
  },
  {
   "cell_type": "code",
   "execution_count": 22,
   "outputs": [
    {
     "name": "stdout",
     "text": [
      "[[881. 500. 227.  72.  41.  25.  16.  15.   8.   5.   9.   2.]\n",
      " [492. 485. 417. 243. 167. 111.  72.  77.  35.  42.  46.  28.]\n",
      " [497. 488. 465. 420. 298. 232. 182. 179. 130. 127.  90.  75.]\n",
      " [470. 476. 480. 438. 376. 318. 284. 232. 199. 178. 163. 143.]\n",
      " [494. 525. 512. 459. 436. 407. 371. 311. 272. 244. 213. 183.]\n",
      " [501. 496. 494. 484. 450. 450. 397. 393. 311. 301. 281. 254.]]\n",
      "[[1625.  902.  433.  179.   77.   47.   39.   44.   17.   16.   11.    6.]\n",
      " [1172. 1053.  902.  592.  411.  348.  212.  162.  139.  106.   91.   76.]\n",
      " [1135. 1102. 1028.  898.  706.  587.  507.  388.  326.  300.  238.  215.]\n",
      " [1117. 1111. 1098.  963.  876.  774.  652.  548.  493.  373.  380.  338.]\n",
      " [1158. 1154. 1149. 1063.  934.  885.  782.  705.  625.  584.  512.  502.]\n",
      " [1204. 1267. 1223. 1220. 1134.  973.  956.  818.  809.  758.  688.  590.]]\n"
     ],
     "output_type": "stream"
    }
   ],
   "source": [
    "print EntriesCMS\n",
    "print EntriesHL\n",
    "\n",
    "\n",
    "\n",
    " "
   ],
   "metadata": {
    "collapsed": false,
    "pycharm": {
     "name": "#%%\n",
     "is_executing": false
    }
   }
  }
 ],
 "metadata": {
  "kernelspec": {
   "display_name": "Python 2",
   "language": "python",
   "name": "python2"
  },
  "language_info": {
   "codemirror_mode": {
    "name": "ipython",
    "version": 2
   },
   "file_extension": ".py",
   "mimetype": "text/x-python",
   "name": "python",
   "nbconvert_exporter": "python",
   "pygments_lexer": "ipython2",
   "version": "2.7.15"
  },
  "pycharm": {
   "stem_cell": {
    "cell_type": "raw",
    "source": [],
    "metadata": {
     "collapsed": false
    }
   }
  }
 },
 "nbformat": 4,
 "nbformat_minor": 1
}