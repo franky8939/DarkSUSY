{
 "cells": [
  {
   "cell_type": "code",
   "execution_count": 36,
   "outputs": [
    {
     "name": "stdout",
     "text": [
      "0.0\n",
      "0.5\n",
      "0\n",
      "0\n",
      "0\n",
      "0\n",
      "0\n",
      "0\n",
      "0\n",
      "0\n",
      "0\n",
      "0\n",
      "0\n",
      "0\n",
      "0\n",
      "0\n",
      "0\n",
      "0\n",
      "0\n",
      "0.5\n",
      "0.0\n"
     ],
     "output_type": "stream"
    }
   ],
   "source": [
    "import numpy as np\n",
    "\n",
    "#import matplotlib as plt\n",
    "\n",
    "def histF(inp, sizes, steps, range):\n",
    "    steps = steps+1\n",
    "    cens = np.linspace(range[0], range[1], steps)\n",
    "    outX = []\n",
    "    outY = []\n",
    "    N = len(inp[(inp<np.max(range))*(inp>np.min(range))])\n",
    "    for cen in cens:\n",
    "        if (cen+sizes)>np.max(range):\n",
    "            sizeC = np.max(range)-cen\n",
    "            log = (inp>(cen-sizes))*((cen+sizeC)>inp)\n",
    "            val = inp[log]\n",
    "            outY.append(len(val)/(N*(sizes+sizeC)))\n",
    "        elif (cen-sizes)<np.min(range):\n",
    "            sizeC = cen - np.min(range)\n",
    "            log = (inp<(cen+sizes))*((cen-sizeC)<inp)\n",
    "            val = inp[log]\n",
    "            outY.append(len(val)/(N*(sizes+sizeC)))\n",
    "        else:\n",
    "            sizeC = 0\n",
    "            log = (inp>(cen-sizes))*((cen+sizes)>inp)\n",
    "            val = inp[log]\n",
    "            outY.append(len(val)/(N*2*sizes))\n",
    "        \n",
    "        #outY.append(len(val)/(N*sizes))\n",
    "        print(sizeC)\n",
    "        outX.append(cen)\n",
    "    return outX, outY\n",
    "\n",
    "\n",
    "a = np.random.rand(1000)*10\n",
    "#a=np.linspace(2.4,-2.2, 101)\n",
    "x, y = histF(a, 1, 20, [0, 10])"
   ],
   "metadata": {
    "collapsed": false,
    "pycharm": {
     "name": "#%%\n",
     "is_executing": false
    }
   }
  },
  {
   "cell_type": "code",
   "execution_count": 37,
   "outputs": [
    {
     "name": "stdout",
     "text": [
      "[0.0, 0.5, 1.0, 1.5, 2.0, 2.5, 3.0, 3.5, 4.0, 4.5, 5.0, 5.5, 6.0, 6.5, 7.0, 7.5, 8.0, 8.5, 9.0, 9.5, 10.0]\n",
      "[0.107, 0.10533333333333333, 0.109, 0.1135, 0.1085, 0.107, 0.102, 0.0945, 0.092, 0.0855, 0.089, 0.09, 0.0855, 0.0985, 0.094, 0.0945, 0.1035, 0.1055, 0.106, 0.11066666666666666, 0.114]\n"
     ],
     "output_type": "stream"
    }
   ],
   "source": [
    "print(x)\n",
    "print(y)\n",
    "#np.linspace(0, 10, 11)\n"
   ],
   "metadata": {
    "collapsed": false,
    "pycharm": {
     "name": "#%%\n",
     "is_executing": false
    }
   }
  },
  {
   "cell_type": "code",
   "execution_count": null,
   "outputs": [],
   "source": [
    "IsolationVar_ALL = IsolationVar.reshape((1, IsolationVar.shape[0] * IsolationVar.shape[1]))\n",
    "plt.plot(IsolationVar_X,IsolationVar_Y); plt.hist(IsolationVar_ALL[IsolationVar_ALL < 0.25].T, bins=20, density=True) ; plt.show()\n"
   ],
   "metadata": {
    "collapsed": false,
    "pycharm": {
     "name": "#%%\n"
    }
   }
  }
 ],
 "metadata": {
  "kernelspec": {
   "name": "python3",
   "language": "python",
   "display_name": "Python 3"
  },
  "language_info": {
   "codemirror_mode": {
    "name": "ipython",
    "version": 2
   },
   "file_extension": ".py",
   "mimetype": "text/x-python",
   "name": "python",
   "nbconvert_exporter": "python",
   "pygments_lexer": "ipython2",
   "version": "2.7.15"
  },
  "pycharm": {
   "stem_cell": {
    "cell_type": "raw",
    "source": [],
    "metadata": {
     "collapsed": false
    }
   }
  }
 },
 "nbformat": 4,
 "nbformat_minor": 1
}