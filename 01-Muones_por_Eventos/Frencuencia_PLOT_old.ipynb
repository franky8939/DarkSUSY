{
 "cells": [
  {
   "cell_type": "code",
   "execution_count": 2,
   "outputs": [],
   "source": [
    "from modules.general.F_search import *\n",
    "from modules.graph.hist1D import *\n",
    "import matplotlib.pyplot as plt\n",
    "from sklearn.model_selection import train_test_split\n",
    "import numpy as np\n",
    "import h5py"
   ],
   "metadata": {
    "collapsed": false,
    "pycharm": {
     "name": "#%%\n"
    }
   }
  },
  {
   "cell_type": "code",
   "execution_count": 49,
   "outputs": [],
   "source": [
    "INPUT = '/home/franky8939/GITHUP/DarkSUSY-master/data/h5_muon_all/DarkSUSY_all_NMuon_USER.h5'\n",
    "hf = h5py.File(INPUT, 'r')\n",
    "\n",
    "def find_Mu_Entries(vector, variable=\"Mu_Entries\", file=hf):\n",
    "    name_local_group = \"MNeuL_\" + str(vector[0]) + \"/MNeuD_\" + str(vector[1]) + \\\n",
    "                       \"/MPhoD_\" + str(vector[2]) + \"/TcPhoD_\" + str(vector[3]) + \\\n",
    "                       \"/\" + vector[4]\n",
    "    # print(name_local_group)\n",
    "    try:\n",
    "        output = np.array(file.get(name_local_group + \"/\" + variable))\n",
    "    except:\n",
    "        output = None\n",
    "    return output\n",
    "\n",
    "def frec(data, number, porciento=.1, repetir=100):\n",
    "    output = np.zeros(repetir)\n",
    "    Nl = len(data)\n",
    "    for i in range(repetir):\n",
    "        if porciento <1:\n",
    "            corte2, corte = train_test_split(data, test_size =porciento, shuffle = True)\n",
    "        else:\n",
    "            corte = data\n",
    "        # print(len(corte), len(corte2))\n",
    "        output[i] = float(np.sum(corte==number))/len(corte)\n",
    "    #print(len(corte))\n",
    "        # print(output[i], corte==number)\n",
    "    return output\n",
    "\n",
    "# graficar histograma especifico para este caso\n",
    "def graficar_HISTG_ENTRIES(ax, vector, color=\"red\"):\n",
    "    Mu_Entries = find_Mu_Entries(vector, variable=\"Mu_Entries\")\n",
    "\n",
    "    ax.hist(frec(Mu_Entries, 0, .1, repetir=10000),  bins=25,\n",
    "            alpha=0.7, density=1, label=\"Sin muones\")\n",
    "    ax.hist(frec(Mu_Entries, 1, .1, repetir=10000),  bins=25,\n",
    "            alpha=0.7, density=1, label=\"1 muones\")\n",
    "    ax.hist(frec(Mu_Entries, 2, .1, repetir=10000),  bins=25,\n",
    "            alpha=0.7, density=1, label=\"2 muones\")\n",
    "    ax.hist(frec(Mu_Entries, 3, .1, repetir=10000),  bins=25,\n",
    "            alpha=0.7, density=1, label=\"3 muones\")\n",
    "    ax.hist(frec(Mu_Entries, 4, .1, repetir=10000),  bins=25,\n",
    "            alpha=0.7, density=1, label=\"4 muones\")\n",
    "    ax.axvline(x=frec(Mu_Entries, 0, 1, repetir=1),\n",
    "               ymin=0, ymax=50, color=color, linestyle=':')\n",
    "    ax.axvline(x=frec(Mu_Entries, 1, 1, repetir=1),\n",
    "               ymin=0, ymax=50, color=color, linestyle=':')\n",
    "    ax.axvline(x=frec(Mu_Entries, 2, 1, repetir=1),\n",
    "               ymin=0, ymax=50, color=color, linestyle=':')\n",
    "    ax.axvline(x=frec(Mu_Entries, 3, 1, repetir=1),\n",
    "               ymin=0, ymax=50, color=color, linestyle=':')\n",
    "    ax.axvline(x=frec(Mu_Entries, 4, 1, repetir=1),\n",
    "               ymin=0, ymax=50, color=color, linestyle=':')\n",
    "    ax.legend(loc='upper center', bbox_to_anchor=(0.5, 1.00), shadow=True, ncol=3)\n",
    "    # ax.set_xlabel(\" Porcentaje de Eventos\")\n",
    "    ax.set_ylabel(\" Frecuencia Normalizada $f_N$\")\n",
    "    # ax.set_title(\" Distribucion de eventos para la configuracion \" + str(vector[4]) + \"\\n\" +\n",
    "    #              \"parametros : MNeuL = \" + str(vector[0]) + \", MNeuD = \" + str(vector[1]) +\n",
    "    #              \", MPhoD = \" + str(vector[2]) + \", TcPhoD = \" + str(vector[3]))\n",
    "    ax.grid(True)\n",
    "    return ax"
   ],
   "metadata": {
    "collapsed": false,
    "pycharm": {
     "name": "#%%\n"
    }
   }
  },
  {
   "cell_type": "code",
   "execution_count": 64,
   "outputs": [],
   "source": [
    "INPUT = '/home/franky8939/GITHUP/DarkSUSY-master/data/h5_muon/DarkSUSY.h5'\n",
    "hf = h5py.File(INPUT, 'r')\n",
    "def dataerror(porciento, total=10000):\n",
    "    out = np.zeros(len(porciento))\n",
    "    for i in range(len(porciento)):\n",
    "        out[i] = 1.65*0.05*(1-0.05)/np.sqrt(porciento[i])*np.sqrt((total - porciento[i])/(total - 1))\n",
    "    return out"
   ],
   "metadata": {
    "collapsed": false,
    "pycharm": {
     "name": "#%%\n"
    }
   }
  },
  {
   "cell_type": "code",
   "execution_count": 77,
   "outputs": [
    {
     "name": "stdout",
     "output_type": "stream",
     "text": [
      "[0.0583]\n",
      "[0.01892484]\n",
      "[0.1391]\n",
      "[0.02923209]\n"
     ]
    }
   ],
   "source": [
    "vector1 = [20, 0.25, 0.25, 0, \"_CMS_\"]\n",
    "vector2 = [20, 0.25, 0.25, 0, \"_HL_\"]\n",
    "\n",
    "Mu_Entries1 = find_Mu_Entries(vector1, variable=\"Mu_Entries\")\n",
    "Mu_Entries2 = find_Mu_Entries(vector2, variable=\"Mu_Entries\")\n",
    "#data1 = [frec(Mu_Entries1, 0, 1, repetir=1)[0], frec(Mu_Entries1, 1, 1, repetir=1)[0],\n",
    "#         frec(Mu_Entries1, 2, 1, repetir=1)[0], frec(Mu_Entries1, 3, 1, repetir=1)[0],\n",
    "#         frec(Mu_Entries1, 4, 1, repetir=1)[0]]\n",
    "data1 = [float(583)/10000]\n",
    "#data2 = [frec(Mu_Entries2, 0, 1, repetir=1)[0], frec(Mu_Entries2, 1, 1, repetir=1)[0],\n",
    "#         frec(Mu_Entries2, 2, 1, repetir=1)[0], frec(Mu_Entries2, 3, 1, repetir=1)[0],\n",
    "#         frec(Mu_Entries2, 4, 1, repetir=1)[0]]\n",
    "data2 = [float(1391)/10000]\n",
    "\n",
    "errordata1 = dataerror(data1)\n",
    "errordata2 = dataerror(data2)\n",
    "\n",
    "print(data1)\n",
    "print(errordata1*data1)\n",
    "print(data2)\n",
    "print(errordata2*data2)"
   ],
   "metadata": {
    "collapsed": false,
    "pycharm": {
     "name": "#%%\n"
    }
   }
  },
  {
   "cell_type": "code",
   "execution_count": 20,
   "outputs": [
    {
     "data": {
      "text/plain": "array([0.41694261, 0.28926701, 0.21811769, 0.24481558, 0.29918196])"
     },
     "execution_count": 20,
     "metadata": {},
     "output_type": "execute_result"
    }
   ],
   "source": [
    "errordata2\n",
    "#dataerror([92])"
   ],
   "metadata": {
    "collapsed": false,
    "pycharm": {
     "name": "#%%\n"
    }
   }
  },
  {
   "cell_type": "code",
   "execution_count": null,
   "outputs": [],
   "source": [
    "color0=\"blue\"\n",
    "color1=\"orange\"\n",
    "color2=\"limegreen\"\n",
    "color3=\"red\"\n",
    "color4=\"purple\"\n",
    "plt.rcParams['figure.figsize'] = [40, 20]\n",
    "fig = plt.figure()\n",
    "\n",
    "\n",
    "X_TcPhoD = [0, 0.5, 1, 2, 3, 4, 5, 10, 20, 30, 40, 50]\n",
    "Y_Entries_CMS_TcPhoD = np.zeros((len(X_TcPhoD), 5))\n",
    "Y_Entries_HL_TcPhoD = np.zeros((len(X_TcPhoD), 5))\n",
    "for iTcPhoD in range(len(X_TcPhoD)):\n",
    "    vector = [10, 0.25, 0.25, X_TcPhoD[iTcPhoD], \"_CMS_\"]\n",
    "    Mu_Entries = find_Mu_Entries(vector, variable=\"Mu_Entries\")\n",
    "    Y_Entries_CMS_TcPhoD[iTcPhoD, :] = [frec(Mu_Entries, 0, 1, repetir=1)[0],\n",
    "                                        frec(Mu_Entries, 1, 1, repetir=1)[0],\n",
    "                                        frec(Mu_Entries, 2, 1, repetir=1)[0],\n",
    "                                        frec(Mu_Entries, 3, 1, repetir=1)[0],\n",
    "                                        frec(Mu_Entries, 4, 1, repetir=1)[0]]\n",
    "\n",
    "    vector = [10, 0.25, 0.25, X_TcPhoD[iTcPhoD], \"_HL_\"]\n",
    "    Mu_Entries = find_Mu_Entries(vector, variable=\"Mu_Entries\")\n",
    "    Y_Entries_HL_TcPhoD[iTcPhoD, :] = [frec(Mu_Entries, 0, 1, repetir=1)[0],\n",
    "                                        frec(Mu_Entries, 1, 1, repetir=1)[0],\n",
    "                                        frec(Mu_Entries, 2, 1, repetir=1)[0],\n",
    "                                        frec(Mu_Entries, 3, 1, repetir=1)[0],\n",
    "                                        frec(Mu_Entries, 4, 1, repetir=1)[0]]\n",
    "\n",
    "ax = fig.add_subplot(3, 5, 1)\n",
    "ax.errorbar(X_TcPhoD, Y_Entries_CMS_TcPhoD[:,0], color=color0, label=\"CMS\",\n",
    "            yerr=Y_Entries_CMS_TcPhoD[:,0]/20, xerr=0, fmt=\"--\")\n",
    "ax.errorbar(X_TcPhoD, Y_Entries_HL_TcPhoD[:,0], color=color0, label=\"HL\",\n",
    "            yerr=Y_Entries_HL_TcPhoD[:,0]/20, xerr=0, fmt=\"\")\n",
    "ax.grid(True)\n",
    "ax.legend(loc='lower right', shadow=True, ncol=4)\n",
    "ax.set_ylabel(\" Frecuencia Central $f_C$\")\n",
    "ax.set_xlabel(\" Valores de TcPhoD (mm) \")\n",
    "ax.set_title(\" Comparacion de los valores $\\gamma f_C$ para diferentes detectores\" + \"\\n\" +\n",
    "             \"correspondiente a las distribuciones sin muones\" + \"\\n\" +\n",
    "             \"parametros : MNeuL = \" + str(vector[0]) + \", MNeuD = \" + str(vector[1]) +\n",
    "             \", MPhoD = \" + str(vector[2]))\n",
    "\n",
    "ax = fig.add_subplot(3, 5, 2)\n",
    "plt.errorbar(X_TcPhoD, Y_Entries_CMS_TcPhoD[:,1], color=color1, label=\"CMS\",\n",
    "             yerr=Y_Entries_CMS_TcPhoD[:,1]/20, xerr=0, fmt=\"--\")\n",
    "plt.errorbar(X_TcPhoD, Y_Entries_HL_TcPhoD[:,1], color=color1, label=\"HL\",\n",
    "             yerr=Y_Entries_HL_TcPhoD[:,1]/20, xerr=0, fmt=\"-\")\n",
    "ax.grid(True)\n",
    "ax.legend(loc='upper right', shadow=True, ncol=4)\n",
    "ax.set_xlabel(\" Valores de TcPhoD (mm) \")\n",
    "ax.set_title(\" Comparacion de los valores $f_C$ para diferentes detectores\" + \"\\n\" +\n",
    "             \"correspondiente a las distribuciones con 1 muon\" + \"\\n\" +\n",
    "             \"parametros : MNeuL = \" + str(vector[0]) + \", MNeuD = \" + str(vector[1]) +\n",
    "             \", MPhoD = \" + str(vector[2]))\n",
    "\n",
    "ax = fig.add_subplot(3, 5, 3)\n",
    "plt.errorbar(X_TcPhoD, Y_Entries_CMS_TcPhoD[:,2], color=color2, label=\"CMS\",\n",
    "             yerr=Y_Entries_CMS_TcPhoD[:,2]/20, xerr=0, fmt=\"--\")\n",
    "plt.errorbar(X_TcPhoD, Y_Entries_HL_TcPhoD[:,2], color=color2, label=\"HL\",\n",
    "             yerr=Y_Entries_HL_TcPhoD[:,2]/20, xerr=0, fmt=\"-\")\n",
    "ax.grid(True)\n",
    "ax.legend(loc='upper right', shadow=True, ncol=4)\n",
    "ax.set_xlabel(\" Valores de TcPhoD (mm) \")\n",
    "ax.set_title(\" Comparacion de los valores $f_C$ para diferentes detectores\" + \"\\n\" +\n",
    "             \"correspondiente a las distribuciones con 2 muon\" + \"\\n\" +\n",
    "             \"parametros : MNeuL = \" + str(vector[0]) + \", MNeuD = \" + str(vector[1]) +\n",
    "             \", MPhoD = \" + str(vector[2]))\n",
    "\n",
    "ax = fig.add_subplot(3, 5, 4)\n",
    "plt.errorbar(X_TcPhoD, Y_Entries_CMS_TcPhoD[:,3],  color=color3, label=\"CMS\",\n",
    "             yerr=Y_Entries_CMS_TcPhoD[:,3]/20, xerr=0, fmt=\"--\")\n",
    "plt.errorbar(X_TcPhoD, Y_Entries_HL_TcPhoD[:,3],  color=color3, label=\"HL\",\n",
    "             yerr=Y_Entries_HL_TcPhoD[:,3]/20, xerr=0, fmt=\"-\")\n",
    "ax.grid(True)\n",
    "ax.legend(loc='upper right', shadow=True, ncol=4)\n",
    "ax.set_xlabel(\" Valores de TcPhoD (mm) \")\n",
    "ax.set_title(\" Comparacion de los valores $f_C$ para diferentes detectores\" + \"\\n\" +\n",
    "             \"correspondiente a las distribuciones con 3 muon\" + \"\\n\" +\n",
    "             \"parametros : MNeuL = \" + str(vector[0]) + \", MNeuD = \" + str(vector[1]) +\n",
    "             \", MPhoD = \" + str(vector[2]))\n",
    "\n",
    "ax = fig.add_subplot(3, 5, 5)\n",
    "plt.errorbar(X_TcPhoD, Y_Entries_CMS_TcPhoD[:,4], color=color4, label=\"CMS\",\n",
    "             yerr=Y_Entries_CMS_TcPhoD[:,4]/20, xerr=0, fmt=\"--\")\n",
    "plt.errorbar(X_TcPhoD, Y_Entries_HL_TcPhoD[:,4], color=color4, label=\"HL\",\n",
    "             yerr=Y_Entries_HL_TcPhoD[:,4]/20, xerr=0, fmt=\"-\")\n",
    "ax.grid(True)\n",
    "ax.legend(loc='upper right', shadow=True, ncol=4)\n",
    "ax.set_xlabel(\" Valores de TcPhoD (mm) \")\n",
    "ax.set_title(\" Comparacion de los valores $f_C$ para diferentes detectores\" + \"\\n\" +\n",
    "             \"correspondiente a las distribuciones con 4 muon\" + \"\\n\" +\n",
    "             \"parametros : MNeuL = \" + str(vector[0]) + \", MNeuD = \" + str(vector[1]) +\n",
    "             \", MPhoD = \" + str(vector[2]))\n",
    "\n",
    "## DATOS PARA LA SEGUNDA FILA ##\n",
    "X_MPhoD = [0.25, 1, 2, 3, 4, 5, 6, 7, 8, 9]\n",
    "Y_Entries_CMS_MPhoD = np.zeros((len(X_MPhoD), 5))\n",
    "Y_Entries_HL_MPhoD = np.zeros((len(X_MPhoD), 5))\n",
    "for iMPhoD in range(len(X_MPhoD)):\n",
    "    vector = [10, 0.25, X_MPhoD[iMPhoD], 0, \"_CMS_\"]\n",
    "    Mu_Entries = find_Mu_Entries(vector, variable=\"Mu_Entries\")\n",
    "    Y_Entries_CMS_MPhoD[iMPhoD, :] = [frec(Mu_Entries, 0, 1, repetir=1)[0],\n",
    "                                      frec(Mu_Entries, 1, 1, repetir=1)[0],\n",
    "                                      frec(Mu_Entries, 2, 1, repetir=1)[0],\n",
    "                                      frec(Mu_Entries, 3, 1, repetir=1)[0],\n",
    "                                      frec(Mu_Entries, 4, 1, repetir=1)[0]]\n",
    "\n",
    "    vector = [10, 0.25, X_MPhoD[iMPhoD], 0, \"_HL_\"]\n",
    "    Mu_Entries = find_Mu_Entries(vector, variable=\"Mu_Entries\")\n",
    "    Y_Entries_HL_MPhoD[iMPhoD, :] = [frec(Mu_Entries, 0, 1, repetir=1)[0],\n",
    "                                      frec(Mu_Entries, 1, 1, repetir=1)[0],\n",
    "                                      frec(Mu_Entries, 2, 1, repetir=1)[0],\n",
    "                                      frec(Mu_Entries, 3, 1, repetir=1)[0],\n",
    "                                      frec(Mu_Entries, 4, 1, repetir=1)[0]]\n",
    "\n",
    "ax = fig.add_subplot(3, 5, 6)\n",
    "ax.errorbar(X_MPhoD, Y_Entries_CMS_MPhoD[:,0], color=color0, label=\"CMS\",\n",
    "            yerr=Y_Entries_CMS_MPhoD[:,0]/20, xerr=0, fmt=\"--\")\n",
    "ax.errorbar(X_MPhoD, Y_Entries_HL_MPhoD[:,0], color=color0, label=\"HL\",\n",
    "            yerr=Y_Entries_HL_MPhoD[:,0]/20, xerr=0, fmt=\"\")\n",
    "ax.grid(True)\n",
    "ax.legend(loc='lower right', shadow=True, ncol=4)\n",
    "ax.set_ylabel(\" Frecuencia Central $f_C$\")\n",
    "ax.set_xlabel(\" Valores de MPhoD (GeV) \")\n",
    "ax.set_title(\"parametros : MNeuL = \" + str(vector[0]) + \", MNeuD = \" +\n",
    "             str(vector[1]) + \", TcPhoD = \" + str(vector[3]))\n",
    "\n",
    "ax = fig.add_subplot(3, 5, 7)\n",
    "plt.errorbar(X_MPhoD, Y_Entries_CMS_MPhoD[:,1], color=color1, label=\"CMS\",\n",
    "             yerr=Y_Entries_CMS_MPhoD[:,1]/20, xerr=0, fmt=\"--\")\n",
    "plt.errorbar(X_MPhoD, Y_Entries_HL_MPhoD[:,1], color=color1, label=\"HL\",\n",
    "             yerr=Y_Entries_HL_MPhoD[:,1]/20, xerr=0, fmt=\"-\")\n",
    "ax.grid(True)\n",
    "ax.legend(loc='upper right', shadow=True, ncol=4)\n",
    "ax.set_xlabel(\" Valores de MPhoD (GeV) \")\n",
    "ax.set_title(\"parametros : MNeuL = \" + str(vector[0]) + \", MNeuD = \" +\n",
    "             str(vector[1]) + \", TcPhoD = \" + str(vector[3]))\n",
    "\n",
    "ax = fig.add_subplot(3, 5, 8)\n",
    "plt.errorbar(X_MPhoD, Y_Entries_CMS_MPhoD[:,2], color=color2, label=\"CMS\",\n",
    "             yerr=Y_Entries_CMS_MPhoD[:,2]/20, xerr=0, fmt=\"--\")\n",
    "plt.errorbar(X_MPhoD, Y_Entries_HL_MPhoD[:,2], color=color2, label=\"HL\",\n",
    "             yerr=Y_Entries_HL_MPhoD[:,2]/20, xerr=0, fmt=\"-\")\n",
    "ax.grid(True)\n",
    "ax.legend(loc='upper right', shadow=True, ncol=4)\n",
    "ax.set_xlabel(\" Valores de MPhoD (GeV) \")\n",
    "ax.set_title(\"parametros : MNeuL = \" + str(vector[0]) + \", MNeuD = \" +\n",
    "             str(vector[1]) + \", TcPhoD = \" + str(vector[3]))\n",
    "\n",
    "ax = fig.add_subplot(3, 5, 9)\n",
    "plt.errorbar(X_MPhoD, Y_Entries_CMS_MPhoD[:,3],  color=color3, label=\"CMS\",\n",
    "             yerr=Y_Entries_CMS_MPhoD[:,3]/20, xerr=0, fmt=\"--\")\n",
    "plt.errorbar(X_MPhoD, Y_Entries_HL_MPhoD[:,3],  color=color3, label=\"HL\",\n",
    "             yerr=Y_Entries_HL_MPhoD[:,3]/20, xerr=0, fmt=\"-\")\n",
    "ax.grid(True)\n",
    "ax.legend(loc='upper right', shadow=True, ncol=4)\n",
    "ax.set_xlabel(\" Valores de MPhoD (GeV) \")\n",
    "ax.set_title(\"parametros : MNeuL = \" + str(vector[0]) + \", MNeuD = \" +\n",
    "             str(vector[1]) + \", TcPhoD = \" + str(vector[3]))\n",
    "\n",
    "ax = fig.add_subplot(3, 5, 10)\n",
    "plt.errorbar(X_MPhoD, Y_Entries_CMS_MPhoD[:,4], color=color4, label=\"CMS\",\n",
    "             yerr=Y_Entries_CMS_MPhoD[:,4]/20, xerr=0, fmt=\"--\")\n",
    "plt.errorbar(X_MPhoD, Y_Entries_HL_MPhoD[:,4], color=color4, label=\"HL\",\n",
    "             yerr=Y_Entries_HL_MPhoD[:,4]/20, xerr=0, fmt=\"-\")\n",
    "ax.grid(True)\n",
    "ax.legend(loc='upper right', shadow=True, ncol=4)\n",
    "ax.set_xlabel(\" Valores de MPhoD (GeV) \")\n",
    "ax.set_title(\"parametros : MNeuL = \" + str(vector[0]) + \", MNeuD = \" +\n",
    "             str(vector[1]) + \", TcPhoD = \" + str(vector[3]))\n",
    "\n",
    "## DATOS PARA LA TERCERO FILA ##\n",
    "X_MNeuD = [0.25, 1, 2, 3, 4, 5, 6, 7, 8, 9]\n",
    "Y_Entries_CMS_MNeuD = np.zeros((len(X_MNeuD), 5))\n",
    "Y_Entries_HL_MNeuD = np.zeros((len(X_MNeuD), 5))\n",
    "for iMNeuD in range(len(X_MNeuD)):\n",
    "    vector = [10, X_MNeuD[iMNeuD],  0.25, 0, \"_CMS_\"]\n",
    "    Mu_Entries = find_Mu_Entries(vector, variable=\"Mu_Entries\")\n",
    "    Y_Entries_CMS_MNeuD[iMNeuD, :] = [frec(Mu_Entries, 0, 1, repetir=1)[0],\n",
    "                                      frec(Mu_Entries, 1, 1, repetir=1)[0],\n",
    "                                      frec(Mu_Entries, 2, 1, repetir=1)[0],\n",
    "                                      frec(Mu_Entries, 3, 1, repetir=1)[0],\n",
    "                                      frec(Mu_Entries, 4, 1, repetir=1)[0]]\n",
    "\n",
    "    vector = [10, X_MNeuD[iMNeuD],  0.25, 0, \"_HL_\"]\n",
    "    Mu_Entries = find_Mu_Entries(vector, variable=\"Mu_Entries\")\n",
    "    Y_Entries_HL_MNeuD[iMNeuD, :] = [frec(Mu_Entries, 0, 1, repetir=1)[0],\n",
    "                                      frec(Mu_Entries, 1, 1, repetir=1)[0],\n",
    "                                      frec(Mu_Entries, 2, 1, repetir=1)[0],\n",
    "                                      frec(Mu_Entries, 3, 1, repetir=1)[0],\n",
    "                                      frec(Mu_Entries, 4, 1, repetir=1)[0]]\n",
    "\n",
    "ax = fig.add_subplot(3, 5, 11)\n",
    "ax.errorbar(X_MNeuD, Y_Entries_CMS_MNeuD[:,0], color=color0, label=\"CMS\",\n",
    "            yerr=Y_Entries_CMS_MNeuD[:,0]/20, xerr=0, fmt=\"--\")\n",
    "ax.errorbar(X_MNeuD, Y_Entries_HL_MNeuD[:,0], color=color0, label=\"HL\",\n",
    "            yerr=Y_Entries_HL_MNeuD[:,0]/20, xerr=0, fmt=\"\")\n",
    "ax.grid(True)\n",
    "ax.legend(loc='lower right', shadow=True, ncol=4)\n",
    "ax.set_ylabel(\" Frecuencia Central $f_C$\")\n",
    "ax.set_xlabel(\" Valores de MNeuD (GeV) \")\n",
    "ax.set_title(\"parametros : MNeuL = \" + str(vector[0]) + \", MPhoD = \" + str(vector[2]) +\n",
    "             \", TcPhoD = \" + str(vector[3]))\n",
    "\n",
    "\n",
    "ax = fig.add_subplot(3, 5, 12)\n",
    "plt.errorbar(X_MNeuD, Y_Entries_CMS_MNeuD[:,1], color=color1, label=\"CMS\",\n",
    "             yerr=Y_Entries_CMS_MNeuD[:,1]/20, xerr=0, fmt=\"--\")\n",
    "plt.errorbar(X_MNeuD, Y_Entries_HL_MNeuD[:,1], color=color1, label=\"HL\",\n",
    "             yerr=Y_Entries_HL_MNeuD[:,1]/20, xerr=0, fmt=\"-\")\n",
    "ax.grid(True)\n",
    "ax.legend(loc='upper right', shadow=True, ncol=4)\n",
    "ax.set_xlabel(\" Valores de MNeuD (GeV) \")\n",
    "ax.set_title(\"parametros : MNeuL = \" + str(vector[0]) + \", MPhoD = \" + str(vector[2]) +\n",
    "             \", TcPhoD = \" + str(vector[3]))\n",
    "\n",
    "ax = fig.add_subplot(3, 5, 13)\n",
    "plt.errorbar(X_MNeuD, Y_Entries_CMS_MNeuD[:,2], color=color2, label=\"CMS\",\n",
    "             yerr=Y_Entries_CMS_MNeuD[:,2]/20, xerr=0, fmt=\"--\")\n",
    "plt.errorbar(X_MNeuD, Y_Entries_HL_MNeuD[:,2], color=color2, label=\"HL\",\n",
    "             yerr=Y_Entries_HL_MNeuD[:,2]/20, xerr=0, fmt=\"-\")\n",
    "ax.grid(True)\n",
    "ax.legend(loc='upper right', shadow=True, ncol=4)\n",
    "ax.set_xlabel(\" Valores de MNeuD (GeV) \")\n",
    "ax.set_title(\"parametros : MNeuL = \" + str(vector[0]) + \", MPhoD = \" + str(vector[2]) +\n",
    "             \", TcPhoD = \" + str(vector[3]))\n",
    "\n",
    "ax = fig.add_subplot(3, 5, 14)\n",
    "plt.errorbar(X_MNeuD, Y_Entries_CMS_MNeuD[:,3],  color=color3, label=\"CMS\",\n",
    "             yerr=Y_Entries_CMS_MNeuD[:,3]/20, xerr=0, fmt=\"--\")\n",
    "plt.errorbar(X_MNeuD, Y_Entries_HL_MNeuD[:,3],  color=color3, label=\"HL\",\n",
    "             yerr=Y_Entries_HL_MNeuD[:,3]/20, xerr=0, fmt=\"-\")\n",
    "ax.grid(True)\n",
    "ax.legend(loc='upper right', shadow=True, ncol=4)\n",
    "ax.set_xlabel(\" Valores de MNeuD (GeV) \")\n",
    "ax.set_title(\"parametros : MNeuL = \" + str(vector[0]) + \", MPhoD = \" + str(vector[2]) +\n",
    "             \", TcPhoD = \" + str(vector[3]))\n",
    "\n",
    "ax = fig.add_subplot(3, 5, 15)\n",
    "plt.errorbar(X_MNeuD, Y_Entries_CMS_MNeuD[:,4], color=color4, label=\"CMS\",\n",
    "             yerr=Y_Entries_CMS_MNeuD[:,4]/20, xerr=0, fmt=\"--\")\n",
    "plt.errorbar(X_MNeuD, Y_Entries_HL_MNeuD[:,4], color=color4, label=\"HL\",\n",
    "             yerr=Y_Entries_HL_MNeuD[:,4]/20, xerr=0, fmt=\"-\")\n",
    "ax.grid(True)\n",
    "ax.legend(loc='upper right', shadow=True, ncol=4)\n",
    "ax.set_xlabel(\" Valores de MNeuD (GeV) \")\n",
    "ax.set_title(\"parametros : MNeuL = \" + str(vector[0]) + \", MPhoD = \" + str(vector[2]) +\n",
    "             \", TcPhoD = \" + str(vector[3]))"
   ],
   "metadata": {
    "collapsed": false,
    "pycharm": {
     "name": "#%%\n"
    }
   }
  },
  {
   "cell_type": "code",
   "execution_count": 6,
   "outputs": [],
   "source": [
    "fig.savefig(\"Comparacion_Distribucion_Entries.pdf\")\n",
    "fig.savefig(\"Comparacion_Distribucion_Entries.png\")\n",
    "plt.show()\n"
   ],
   "metadata": {
    "collapsed": false,
    "pycharm": {
     "name": "#%%\n"
    }
   }
  },
  {
   "cell_type": "code",
   "execution_count": null,
   "outputs": [],
   "source": [
    "color = \"red\"\n",
    "\n",
    "plt.rcParams['figure.figsize'] = [30, 4]\n",
    "fig = plt.figure()\n",
    "\n",
    "ax = fig.add_subplot(1, 3, 1)\n",
    "vector = [10, 0.25, 0.25, 0, \"_CMS_\"]\n",
    "Mu_Entries = find_Mu_Entries(vector, variable=\"Mu_Entries\")\n",
    "\n",
    "ax.hist(frec(Mu_Entries, 0, .1, repetir=10000),  bins=25,\n",
    "        alpha=0.7, density=1, label=\"Sin muones\")\n",
    "ax.hist(frec(Mu_Entries, 1, .1, repetir=10000),  bins=25,\n",
    "        alpha=0.7, density=1, label=\"1 muones\")\n",
    "ax.hist(frec(Mu_Entries, 2, .1, repetir=10000),  bins=25,\n",
    "        alpha=0.7, density=1, label=\"2 muones\")\n",
    "ax.hist(frec(Mu_Entries, 3, .1, repetir=10000),  bins=25,\n",
    "        alpha=0.7, density=1, label=\"3 muones\")\n",
    "ax.hist(frec(Mu_Entries, 4, .1, repetir=10000),  bins=25,\n",
    "        alpha=0.7, density=1, label=\"4 muones\")\n",
    "ax.axvline(x=frec(Mu_Entries, 0, 1, repetir=1),\n",
    "           ymin=0, ymax=50, color=color, linestyle=':')\n",
    "ax.axvline(x=frec(Mu_Entries, 1, 1, repetir=1),\n",
    "           ymin=0, ymax=50, color=color, linestyle=':')\n",
    "ax.axvline(x=frec(Mu_Entries, 2, 1, repetir=1),\n",
    "           ymin=0, ymax=50, color=color, linestyle=':')\n",
    "ax.axvline(x=frec(Mu_Entries, 3, 1, repetir=1),\n",
    "           ymin=0, ymax=50, color=color, linestyle=':')\n",
    "ax.axvline(x=frec(Mu_Entries, 4, 1, repetir=1),\n",
    "           ymin=0, ymax=50, color=color, linestyle=':')\n",
    "ax.legend(loc='upper center', bbox_to_anchor=(0.5, 1.00), shadow=True, ncol=3)\n",
    "ax.set_xlabel(\" Porcentaje de Eventos\")\n",
    "ax.set_ylabel(\" Frecuencia Normalizada $f_N$\")\n",
    "ax.set_title(\" Distribucion de eventos para la configuracion CMS y\" + \"\\n\" +\n",
    "             \"parametros : MNeuL = \" + str(vector[0]) + \", MNeuD = \" + str(vector[1]) +\n",
    "             \", MPhoD = \" + str(vector[2]) + \", TcPhoD = \" + str(vector[3]))\n",
    "ax.grid(True)\n",
    "print(frec(Mu_Entries, 0, 1, repetir=1), frec(Mu_Entries, 1, 1, repetir=1),\n",
    "      frec(Mu_Entries, 2, 1, repetir=1), frec(Mu_Entries, 3, 1, repetir=1),\n",
    "      frec(Mu_Entries, 4, 1, repetir=1))\n",
    "\n",
    "ax = fig.add_subplot(1, 2, 2)\n",
    "vector = [10, 0.25, 0.25, 0, \"_HL_\"]\n",
    "Mu_Entries = find_Mu_Entries(vector, variable=\"Mu_Entries\")\n",
    "\n",
    "ax.hist(frec(Mu_Entries, 0, .1, repetir=10000),  bins=25,\n",
    "        alpha=0.7, density=1, label=\"Sin muones\")\n",
    "ax.hist(frec(Mu_Entries, 1, .1, repetir=10000),  bins=25,\n",
    "        alpha=0.7, density=1, label=\"1 muones\")\n",
    "ax.hist(frec(Mu_Entries, 2, .1, repetir=10000),  bins=25,\n",
    "        alpha=0.7, density=1, label=\"2 muones\")\n",
    "ax.hist(frec(Mu_Entries, 3, .1, repetir=10000),  bins=25,\n",
    "        alpha=0.7, density=1, label=\"3 muones\")\n",
    "ax.hist(frec(Mu_Entries, 4, .1, repetir=10000),  bins=25,\n",
    "        alpha=0.7, density=1, label=\"4 muones\")\n",
    "ax.axvline(x=frec(Mu_Entries, 0, 1, repetir=1),\n",
    "           ymin=0, ymax=50, color=color, linestyle=':')\n",
    "ax.axvline(x=frec(Mu_Entries, 0, 1, repetir=1),\n",
    "           ymin=0, ymax=50, color=color, linestyle=':')\n",
    "ax.axvline(x=frec(Mu_Entries, 1, 1, repetir=1),\n",
    "           ymin=0, ymax=50, color=color, linestyle=':')\n",
    "ax.axvline(x=frec(Mu_Entries, 2, 1, repetir=1),\n",
    "           ymin=0, ymax=50, color=color, linestyle=':')\n",
    "ax.axvline(x=frec(Mu_Entries, 3, 1, repetir=1),\n",
    "           ymin=0, ymax=50, color=color, linestyle=':')\n",
    "ax.axvline(x=frec(Mu_Entries, 4, 1, repetir=1),\n",
    "           ymin=0, ymax=50, color=color, linestyle=':')\n",
    "ax.legend(loc='upper center', bbox_to_anchor=(0.5, 1.00), shadow=True, ncol=3)\n",
    "ax.set_xlabel(\" Porcentaje de Eventos\")\n",
    "ax.set_ylabel(\" Frecuencia Normalizada $f_N$\")\n",
    "ax.set_title(\" Distribucion de eventos para la configuracion HL y\" + \"\\n\" +\n",
    "             \"parametros : MNeuL = \" + str(vector[0]) + \", MNeuD = \" + str(vector[1]) +\n",
    "             \", MPhoD = \" + str(vector[2]) + \", TcPhoD = \" + str(vector[3]))\n",
    "ax.grid(True)\n",
    "plt.show()\n",
    "print(frec(Mu_Entries, 0, 1, repetir=1), frec(Mu_Entries, 1, 1, repetir=1),\n",
    "      frec(Mu_Entries, 2, 1, repetir=1), frec(Mu_Entries, 3, 1, repetir=1),\n",
    "      frec(Mu_Entries, 4, 1, repetir=1))\n",
    "\n",
    "plt.grid(True)"
   ],
   "metadata": {
    "collapsed": false,
    "pycharm": {
     "name": "#%%\n"
    }
   }
  },
  {
   "cell_type": "code",
   "execution_count": 11,
   "outputs": [
    {
     "data": {
      "image/png": "[encoded data removed]",
      "text/plain": "<Figure size 432x288 with 1 Axes>"
     },
     "metadata": {
      "needs_background": "light"
     },
     "output_type": "display_data"
    },
    {
     "name": "stdout",
     "output_type": "stream",
     "text": [
      "(array([0.371]), array([0.2342]), array([0.2687]), array([0.0828]), array([0.0433]))\n",
      "(array([0.8664]), array([0.0727]), array([0.0588]), array([0.0015]), array([0.0006]))\n"
     ]
    },
    {
     "data": {
      "image/png": "[encoded data removed]",
      "text/plain": "<Figure size 432x288 with 1 Axes>"
     },
     "metadata": {
      "needs_background": "light"
     },
     "output_type": "display_data"
    }
   ],
   "source": [],
   "metadata": {
    "collapsed": false,
    "pycharm": {
     "name": "#%%\n"
    }
   }
  },
  {
   "cell_type": "code",
   "execution_count": null,
   "outputs": [],
   "source": [
    "vector = [10, 0.25, 0.25, 10, \"_HL_\"]\n",
    "Mu_Entries = find_Mu_Entries(vector, variable=\"Mu_Entries\")\n",
    "plt.hist(frec(Mu_Entries, 0, .1, repetir=5000),  bins=25, alpha=0.7, normed=1)\n",
    "plt.hist(frec(Mu_Entries, 1, .1, repetir=5000),  bins=25, alpha=0.7, normed=1)\n",
    "plt.hist(frec(Mu_Entries, 2, .1, repetir=5000),  bins=25, alpha=0.7, normed=1)\n",
    "plt.hist(frec(Mu_Entries, 3, .1, repetir=5000),  bins=25, alpha=0.7, normed=1)\n",
    "plt.hist(frec(Mu_Entries, 4, .1, repetir=5000),  bins=25, alpha=0.7, normed=1)\n",
    "plt.legend([\"Muon 0\", \"Muon 1\", \"Muon 2\", \"Muon 3\", \"Muon 4\"])\n",
    "plt.show()\n",
    "print(frec(Mu_Entries, 0, 1, repetir=1), frec(Mu_Entries, 1, 1, repetir=1),\n",
    "      frec(Mu_Entries, 2, 1, repetir=1), frec(Mu_Entries, 3, 1, repetir=1),\n",
    "      frec(Mu_Entries, 4, 1, repetir=1))\n",
    "\n",
    "vector = [10, 0.25, 0.25, 100, \"_HL_\"]\n",
    "Mu_Entries = find_Mu_Entries(vector, variable=\"Mu_Entries\")\n",
    "#plt.hist(frec(Mu_Entries, 0, .1, repetir=5000),  bins=25, alpha=0.7, normed=1)\n",
    "#plt.hist(frec(Mu_Entries, 1, .1, repetir=5000),  bins=25, alpha=0.7, normed=1)\n",
    "#plt.hist(frec(Mu_Entries, 2, .1, repetir=5000),  bins=25, alpha=0.7, normed=1)\n",
    "#plt.hist(frec(Mu_Entries, 3, .1, repetir=5000),  bins=25, alpha=0.7, normed=1)\n",
    "plt.hist(frec(Mu_Entries, 4, .5, repetir=5000),  bins=20, alpha=0.7, normed=1)\n",
    "plt.legend([\"Muon 4\"])\n",
    "plt.show()\n",
    "print(frec(Mu_Entries, 0, 1, repetir=1), frec(Mu_Entries, 1, 1, repetir=1),\n",
    "      frec(Mu_Entries, 2, 1, repetir=1), frec(Mu_Entries, 3, 1, repetir=1),\n",
    "      frec(Mu_Entries, 4, 1, repetir=1))"
   ],
   "metadata": {
    "collapsed": false,
    "pycharm": {
     "name": "#%%\n"
    }
   }
  },
  {
   "cell_type": "code",
   "execution_count": 49,
   "outputs": [
    {
     "data": {
      "text/plain": "(array([  1.08695652,   1.08695652,   9.7826087 ,  19.56521739,\n         56.52173913, 116.30434783,  90.2173913 , 285.86956522,\n        377.17391304, 528.26086957, 644.56521739, 759.7826087 ,\n        329.34782609, 622.82608696, 525.        , 408.69565217,\n        302.17391304, 154.34782609,  53.26086957,  78.26086957,\n         40.2173913 ,  16.30434783,   9.7826087 ,   3.26086957,\n          1.08695652]),\n array([0.0021  , 0.002284, 0.002468, 0.002652, 0.002836, 0.00302 ,\n        0.003204, 0.003388, 0.003572, 0.003756, 0.00394 , 0.004124,\n        0.004308, 0.004492, 0.004676, 0.00486 , 0.005044, 0.005228,\n        0.005412, 0.005596, 0.00578 , 0.005964, 0.006148, 0.006332,\n        0.006516, 0.0067  ]),\n <a list of 25 Patch objects>)"
     },
     "execution_count": 49,
     "metadata": {},
     "output_type": "execute_result"
    },
    {
     "data": {
      "image/png": "[encoded data removed]",
      "text/plain": "<Figure size 432x288 with 1 Axes>"
     },
     "metadata": {
      "needs_background": "light"
     },
     "output_type": "display_data"
    }
   ],
   "source": [
    "vector = [10, 0.25, 0.25, 10, \"_HL_\"]\n",
    "Mu_Entries = find_Mu_Entries(vector, variable=\"Mu_Entries\")\n",
    "plt.hist(frec(Mu_Entries, 1, .1, repetir=5000),  bins=25, alpha=0.7, normed=1)\n",
    "plt.hist(frec(Mu_Entries, 2, .1, repetir=5000),  bins=25, alpha=0.7, normed=1)\n",
    "plt.hist(frec(Mu_Entries, 3, .1, repetir=5000),  bins=25, alpha=0.7, normed=1)\n",
    "plt.hist(frec(Mu_Entries, 4, .5, repetir=5000),  bins=25, alpha=0.7, normed=1)"
   ],
   "metadata": {
    "collapsed": false,
    "pycharm": {
     "name": "#%%\n"
    }
   }
  },
  {
   "cell_type": "code",
   "execution_count": 42,
   "outputs": [
    {
     "name": "stdout",
     "output_type": "stream",
     "text": [
      "MNeuL_10/MNeuD_0.25/MPhoD_0.25/TcPhoD_0/_HL_\n",
      "[0.0813]\n",
      "[0.175]\n",
      "[0.3252]\n",
      "[0.256]\n",
      "[0.1622]\n",
      "[0.9997]\n"
     ]
    }
   ],
   "source": [
    "vector = [10, 0.25, 0.25, 0, \"_HL_\"]\n",
    "Mu_Entries = find_Mu_Entries(vector, variable=\"Mu_Entries\")\n",
    "print(frec(Mu_Entries, 0, 1, repetir=1))\n",
    "print(frec(Mu_Entries, 1, 1, repetir=1))\n",
    "print(frec(Mu_Entries, 2, 1, repetir=1))\n",
    "print(frec(Mu_Entries, 3, 1, repetir=1))\n",
    "print(frec(Mu_Entries, 4, 1, repetir=1))\n",
    "\n",
    "print(frec(Mu_Entries, 0, 1, repetir=1) + frec(Mu_Entries, 1, 1, repetir=1)+\n",
    "      frec(Mu_Entries, 2, 1, repetir=1) + frec(Mu_Entries, 3, 1, repetir=1)+\n",
    "      frec(Mu_Entries, 4, 1, repetir=1))"
   ],
   "metadata": {
    "collapsed": false,
    "pycharm": {
     "name": "#%%\n"
    }
   }
  },
  {
   "cell_type": "code",
   "execution_count": null,
   "outputs": [],
   "source": [
    "float(np.sum(Mu_Entries==4))/len(Mu_Entries)"
   ],
   "metadata": {
    "collapsed": false,
    "pycharm": {
     "name": "#%%\n"
    }
   }
  },
  {
   "cell_type": "code",
   "execution_count": null,
   "outputs": [],
   "source": [
    "plt.hist(Mu_Entries-0.5,  bins=5, alpha=0.7, normed=1)\n",
    "\n",
    "print(vector[4])"
   ],
   "metadata": {
    "collapsed": false,
    "pycharm": {
     "name": "#%%\n"
    }
   }
  },
  {
   "cell_type": "code",
   "execution_count": 29,
   "outputs": [
    {
     "ename": "NameError",
     "evalue": "name 'train_test_split' is not defined",
     "output_type": "error",
     "traceback": [
      "\u001B[0;31m\u001B[0m",
      "\u001B[0;31mNameError\u001B[0mTraceback (most recent call last)",
      "\u001B[0;32m<ipython-input-29-79864c4abefa>\u001B[0m in \u001B[0;36m<module>\u001B[0;34m()\u001B[0m\n\u001B[0;32m----> 1\u001B[0;31m \u001B[0mtrain_test_split\u001B[0m\u001B[0;34m(\u001B[0m\u001B[0mMu_Entries\u001B[0m\u001B[0;34m,\u001B[0m \u001B[0mtest_size\u001B[0m \u001B[0;34m=\u001B[0m\u001B[0;36m.1\u001B[0m\u001B[0;34m,\u001B[0m \u001B[0mshuffle\u001B[0m \u001B[0;34m=\u001B[0m \u001B[0mTrue\u001B[0m\u001B[0;34m)\u001B[0m\u001B[0;34m\u001B[0m\u001B[0m\n\u001B[0m",
      "\u001B[0;31mNameError\u001B[0m: name 'train_test_split' is not defined"
     ]
    }
   ],
   "source": [
    "train_test_split(Mu_Entries, test_size =.1, shuffle = True)"
   ],
   "metadata": {
    "collapsed": false,
    "pycharm": {
     "name": "#%%\n"
    }
   }
  }
 ],
 "metadata": {
  "kernelspec": {
   "name": "pycharm-535726c5",
   "language": "python",
   "display_name": "PyCharm (DarkSUSY-master)"
  },
  "language_info": {
   "codemirror_mode": {
    "name": "ipython",
    "version": 2
   },
   "file_extension": ".py",
   "mimetype": "text/x-python",
   "name": "python",
   "nbconvert_exporter": "python",
   "pygments_lexer": "ipython2",
   "version": "2.7.15"
  }
 },
 "nbformat": 4,
 "nbformat_minor": 1
}