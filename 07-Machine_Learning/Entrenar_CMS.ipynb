{
 "cells": [
  {
   "cell_type": "markdown",
   "source": [
    "**PAQUETERIAS NECESARIAS**"
   ],
   "metadata": {
    "collapsed": false,
    "pycharm": {
     "name": "#%% md\n",
     "is_executing": false
    }
   }
  },
  {
   "cell_type": "code",
   "execution_count": 1,
   "outputs": [],
   "source": [
    "from modules.maquine_learning.Paq_ML import *"
   ],
   "metadata": {
    "collapsed": false,
    "pycharm": {
     "name": "#%%\n"
    }
   }
  },
  {
   "cell_type": "markdown",
   "source": [
    "**CONDICIONES INICIALES DE NUESTRA SIMULACION**"
   ],
   "metadata": {
    "collapsed": false
   }
  },
  {
   "cell_type": "code",
   "execution_count": 3,
   "outputs": [
    {
     "name": "stdout",
     "output_type": "stream",
     "text": [
      "(1619, 4)\n",
      "(1619, 1)\n",
      "(180, 4)\n",
      "(180, 1)\n"
     ]
    }
   ],
   "source": [
    "time_input = timeit.default_timer()  # tic del PROCESO INICIAL\n",
    "## CLASE DE LOS VALORES A TENER EN CUENTA\n",
    "tf.compat.v1.disable_eager_execution()\n",
    "config = tf.compat.v1.placeholder(\"float\", [None])\n",
    "config.cross_entropy = 1  \n",
    "config.n_iterations  = 3000\n",
    "config.dropout = 0.5\n",
    "config.n_step_visual_process = 10\n",
    "config.ite_corte = 1000\n",
    "config.n_iterations_resul_mean = 10  # NUMERO DE VECES EN QUE SE REALIZARA LA MISMA OPERACION PARA OBTENER VALORES MEDIOS\n",
    "## DEFINIR QUE PORCIENTO DE NUESTROS DATOSS SERAN UTILIZADOS\n",
    "config.datos_porciento = .1 \n",
    "config.datos_eleccion  = 1  # Se permutaran los valores para una corrida mas rapida\n",
    "\n",
    "##  ENTRADA DE DATOS**\n",
    "\n",
    "INPUT = \"/home/franky8939/GITHUP/DarkSUSY-master/data/h5_muon_histg/DarkSUSY_histg.h5\"\n",
    "if os.path.exists(INPUT):\n",
    "    hf = h5py.File(INPUT, 'r')\n",
    "else:\n",
    "    print(\" :: Datos de entrada inexistentes:: \"); sys.exit()\n",
    "\n",
    "## ORGANIZAR LA ENTRADA DE DATOS**\n",
    "\n",
    "variable = \"Entries\"  # Variable de interes\n",
    "Card_config = \"_CMS_\"  # Configuración de la card\n",
    "INPUT = None\n",
    "OUTPUT = None\n",
    "\n",
    "for MNeuL in hf.keys(): \n",
    "    MNeuD_all = hf.require_group(MNeuL)\n",
    "    for MNeuD in MNeuD_all.keys():\n",
    "        MPhoD_all = hf.require_group(MNeuL + \"/\" + MNeuD)\n",
    "        for MPhoD in MPhoD_all.keys():\n",
    "            TcPhoD_all = hf.require_group(MNeuL + \"/\" + MNeuD + \"/\" + MPhoD)\n",
    "            for TcPhoD in TcPhoD_all.keys():\n",
    "                Data_Card = hf.require_group(MNeuL + \"/\" + MNeuD + \"/\" + MPhoD + \n",
    "                                             \"/\" + TcPhoD)\n",
    "                for Card in Data_Card.keys():\n",
    "                    FileROOT = hf.require_group(MNeuL + \"/\" + MNeuD + \"/\" + MPhoD + \n",
    "                                                \"/\" + TcPhoD + \"/\" + Card)\n",
    "                    # print(Card)\n",
    "                    if np.array(FileROOT.get(\"Entries\"))<0:\n",
    "                        continue\n",
    "                    if Card==Card_config:\n",
    "                        # var in the respective root\n",
    "                        variable_histg = np.array(FileROOT.get(variable))\n",
    "                        input_local = np.array(FileROOT.get(\"Input\"))\n",
    "                        if variable is \"Entries\":\n",
    "                            if INPUT is None:\n",
    "                                INPUT = input_local\n",
    "                                OUTPUT = variable_histg/100\n",
    "                            else:\n",
    "                                INPUT = np.vstack((INPUT,input_local))\n",
    "                                OUTPUT = np.vstack((OUTPUT, variable_histg/100))\n",
    "                            \n",
    "                        elif variable in [\"PT\", \"Eta\", \"Phi\", \"D0\", \"DZ\", \"T\", \n",
    "                                          \"MassInv\", \"IsolationVar\", \"diMu_Entries\"]:\n",
    "                            for n in range(0, variable_histg.shape[1], round(variable_histg.shape[1]/5)):\n",
    "                                if INPUT is None:\n",
    "                                    INPUT = np.hstack((input_local, variable_histg[0,n]))\n",
    "                                    OUTPUT = variable_histg[1,n]\n",
    "                                else:\n",
    "                                    INPUT = np.vstack((INPUT,\n",
    "                                                       np.hstack((input_local, variable_histg[0,n])) ))\n",
    "                                    OUTPUT = np.vstack((OUTPUT, variable_histg[1,n]))\n",
    "                        else:\n",
    "                            print(\":: Variable no reconocida :: Stop process :: \")\n",
    "                            sys.exit()\n",
    "# hf.close()\n",
    "#REACONDICIONAR LA INFORMACION INPUT EN UNA MATRIX PARA SU RAPIDO ACCESO\n",
    "INPUT_LINEAL, INPUT_LINEAL_TEST, OUTPUT_LINEAL, OUTPUT_LINEAL_TEST = train_test_split(\n",
    "    INPUT, OUTPUT, test_size = config.datos_porciento, shuffle = True)\n",
    "\n",
    "print(INPUT_LINEAL.shape)\n",
    "print(OUTPUT_LINEAL.shape)\n",
    "print(INPUT_LINEAL_TEST.shape)\n",
    "print(OUTPUT_LINEAL_TEST.shape)"
   ],
   "metadata": {
    "collapsed": false,
    "pycharm": {
     "name": "#%%\n"
    }
   }
  },
  {
   "cell_type": "markdown",
   "source": [
    "**ENTRENAMIENTO**"
   ],
   "metadata": {
    "collapsed": false,
    "pycharm": {
     "name": "#%% md\n"
    }
   }
  },
  {
   "cell_type": "code",
   "execution_count": 4,
   "outputs": [
    {
     "name": "stdout",
     "output_type": "stream",
     "text": [
      "The model performance for the training set\n",
      "-------------------------------------------\n",
      "RMSE of training set is 0.4008715915974191\n",
      "R2 score of training set is 0.9694627831373765\n",
      "\n",
      "\n",
      "The model performance for the test set\n",
      "-------------------------------------------\n",
      "RMSE of test set is 0.44783961144827267\n",
      "R2 score of test set is 0.972057750423308\n"
     ]
    },
    {
     "data": {
      "text/plain": "<Figure size 432x288 with 1 Axes>",
      "image/png": "[encoded data removed]"
     },
     "metadata": {
      "needs_background": "light"
     },
     "output_type": "display_data"
    }
   ],
   "source": [
    "import pandas as pd\n",
    "from sklearn import linear_model\n",
    "import operator\n",
    "from sklearn.linear_model import LinearRegression\n",
    "from sklearn.metrics import mean_squared_error, r2_score\n",
    "from sklearn.preprocessing import PolynomialFeatures\n",
    "\n",
    "X_train = INPUT_LINEAL\n",
    "X_test = INPUT_LINEAL_TEST\n",
    "Y_train = OUTPUT_LINEAL\n",
    "Y_test = OUTPUT_LINEAL_TEST\n",
    "\n",
    "\"Creates a polynomial regression model for the given degree\"\n",
    "degree = 5\n",
    "\n",
    "poly_features = PolynomialFeatures(degree=degree)\n",
    "\n",
    "# transforms the existing features to higher degree features.\n",
    "X_train_poly = poly_features.fit_transform(X_train)\n",
    "\n",
    "# fit the transformed features to Linear Regression\n",
    "poly_model = LinearRegression()\n",
    "poly_model.fit(X_train_poly, Y_train)\n",
    "\n",
    "# predicting on training data-set\n",
    "y_train_predicted = poly_model.predict(X_train_poly)\n",
    "\n",
    "# predicting on test data-set\n",
    "y_test_predict = poly_model.predict(poly_features.fit_transform(X_test))\n",
    "\n",
    "# evaluating the model on training dataset\n",
    "rmse_train = np.sqrt(mean_squared_error(Y_train, y_train_predicted))\n",
    "r2_train = r2_score(Y_train, y_train_predicted)\n",
    "\n",
    "# evaluating the model on test dataset\n",
    "rmse_test = np.sqrt(mean_squared_error(Y_test, y_test_predict))\n",
    "r2_test = r2_score(Y_test, y_test_predict)\n",
    "\n",
    "print(\"The model performance for the training set\")\n",
    "print(\"-------------------------------------------\")\n",
    "print(\"RMSE of training set is {}\".format(rmse_train))\n",
    "print(\"R2 score of training set is {}\".format(r2_train))\n",
    "\n",
    "print(\"\\n\")\n",
    "\n",
    "print(\"The model performance for the test set\")\n",
    "print(\"-------------------------------------------\")\n",
    "print(\"RMSE of test set is {}\".format(rmse_test))\n",
    "print(\"R2 score of test set is {}\".format(r2_test))\n",
    "\n",
    "plt.plot(OUTPUT_LINEAL_TEST, y_test_predict, 'o')\n",
    "plt.show()"
   ],
   "metadata": {
    "collapsed": false,
    "pycharm": {
     "name": "#%%\n"
    }
   }
  },
  {
   "cell_type": "code",
   "execution_count": 6,
   "outputs": [
    {
     "traceback": [
      "\u001B[0;31m---------------------------------------------------------------------------\u001B[0m",
      "\u001B[0;31mValueError\u001B[0m                                Traceback (most recent call last)",
      "\u001B[0;32m<ipython-input-6-4db025c52806>\u001B[0m in \u001B[0;36m<module>\u001B[0;34m\u001B[0m\n\u001B[0;32m----> 1\u001B[0;31m \u001B[0mpoly_model\u001B[0m\u001B[0;34m.\u001B[0m\u001B[0mpredict\u001B[0m\u001B[0;34m(\u001B[0m\u001B[0mpoly_features\u001B[0m\u001B[0;34m.\u001B[0m\u001B[0mfit_transform\u001B[0m\u001B[0;34m(\u001B[0m\u001B[0;34m[\u001B[0m\u001B[0;34m[\u001B[0m\u001B[0;36m10\u001B[0m\u001B[0;34m,\u001B[0m \u001B[0;36m9\u001B[0m\u001B[0;34m,\u001B[0m \u001B[0;36m1\u001B[0m\u001B[0;34m,\u001B[0m \u001B[0;36m0\u001B[0m\u001B[0;34m,\u001B[0m \u001B[0;36m10\u001B[0m\u001B[0;34m]\u001B[0m\u001B[0;34m]\u001B[0m\u001B[0;34m)\u001B[0m\u001B[0;34m)\u001B[0m\u001B[0;34m\u001B[0m\u001B[0;34m\u001B[0m\u001B[0m\n\u001B[0m\u001B[1;32m      2\u001B[0m \u001B[0;31m# np.max(OUTPUT_LINEAL)\u001B[0m\u001B[0;34m\u001B[0m\u001B[0;34m\u001B[0m\u001B[0;34m\u001B[0m\u001B[0m\n\u001B[1;32m      3\u001B[0m \u001B[0;31m# INPUT_LINEAL\u001B[0m\u001B[0;34m\u001B[0m\u001B[0;34m\u001B[0m\u001B[0;34m\u001B[0m\u001B[0m\n",
      "\u001B[0;32m~/anaconda3/envs/DarkSUSY.git/lib/python3.7/site-packages/sklearn/linear_model/_base.py\u001B[0m in \u001B[0;36mpredict\u001B[0;34m(self, X)\u001B[0m\n\u001B[1;32m    223\u001B[0m             \u001B[0mReturns\u001B[0m \u001B[0mpredicted\u001B[0m \u001B[0mvalues\u001B[0m\u001B[0;34m.\u001B[0m\u001B[0;34m\u001B[0m\u001B[0;34m\u001B[0m\u001B[0m\n\u001B[1;32m    224\u001B[0m         \"\"\"\n\u001B[0;32m--> 225\u001B[0;31m         \u001B[0;32mreturn\u001B[0m \u001B[0mself\u001B[0m\u001B[0;34m.\u001B[0m\u001B[0m_decision_function\u001B[0m\u001B[0;34m(\u001B[0m\u001B[0mX\u001B[0m\u001B[0;34m)\u001B[0m\u001B[0;34m\u001B[0m\u001B[0;34m\u001B[0m\u001B[0m\n\u001B[0m\u001B[1;32m    226\u001B[0m \u001B[0;34m\u001B[0m\u001B[0m\n\u001B[1;32m    227\u001B[0m     \u001B[0m_preprocess_data\u001B[0m \u001B[0;34m=\u001B[0m \u001B[0mstaticmethod\u001B[0m\u001B[0;34m(\u001B[0m\u001B[0m_preprocess_data\u001B[0m\u001B[0;34m)\u001B[0m\u001B[0;34m\u001B[0m\u001B[0;34m\u001B[0m\u001B[0m\n",
      "\u001B[0;32m~/anaconda3/envs/DarkSUSY.git/lib/python3.7/site-packages/sklearn/linear_model/_base.py\u001B[0m in \u001B[0;36m_decision_function\u001B[0;34m(self, X)\u001B[0m\n\u001B[1;32m    207\u001B[0m         \u001B[0mX\u001B[0m \u001B[0;34m=\u001B[0m \u001B[0mcheck_array\u001B[0m\u001B[0;34m(\u001B[0m\u001B[0mX\u001B[0m\u001B[0;34m,\u001B[0m \u001B[0maccept_sparse\u001B[0m\u001B[0;34m=\u001B[0m\u001B[0;34m[\u001B[0m\u001B[0;34m'csr'\u001B[0m\u001B[0;34m,\u001B[0m \u001B[0;34m'csc'\u001B[0m\u001B[0;34m,\u001B[0m \u001B[0;34m'coo'\u001B[0m\u001B[0;34m]\u001B[0m\u001B[0;34m)\u001B[0m\u001B[0;34m\u001B[0m\u001B[0;34m\u001B[0m\u001B[0m\n\u001B[1;32m    208\u001B[0m         return safe_sparse_dot(X, self.coef_.T,\n\u001B[0;32m--> 209\u001B[0;31m                                dense_output=True) + self.intercept_\n\u001B[0m\u001B[1;32m    210\u001B[0m \u001B[0;34m\u001B[0m\u001B[0m\n\u001B[1;32m    211\u001B[0m     \u001B[0;32mdef\u001B[0m \u001B[0mpredict\u001B[0m\u001B[0;34m(\u001B[0m\u001B[0mself\u001B[0m\u001B[0;34m,\u001B[0m \u001B[0mX\u001B[0m\u001B[0;34m)\u001B[0m\u001B[0;34m:\u001B[0m\u001B[0;34m\u001B[0m\u001B[0;34m\u001B[0m\u001B[0m\n",
      "\u001B[0;32m~/anaconda3/envs/DarkSUSY.git/lib/python3.7/site-packages/sklearn/utils/extmath.py\u001B[0m in \u001B[0;36msafe_sparse_dot\u001B[0;34m(a, b, dense_output)\u001B[0m\n\u001B[1;32m    149\u001B[0m             \u001B[0mret\u001B[0m \u001B[0;34m=\u001B[0m \u001B[0mnp\u001B[0m\u001B[0;34m.\u001B[0m\u001B[0mdot\u001B[0m\u001B[0;34m(\u001B[0m\u001B[0ma\u001B[0m\u001B[0;34m,\u001B[0m \u001B[0mb\u001B[0m\u001B[0;34m)\u001B[0m\u001B[0;34m\u001B[0m\u001B[0;34m\u001B[0m\u001B[0m\n\u001B[1;32m    150\u001B[0m     \u001B[0;32melse\u001B[0m\u001B[0;34m:\u001B[0m\u001B[0;34m\u001B[0m\u001B[0;34m\u001B[0m\u001B[0m\n\u001B[0;32m--> 151\u001B[0;31m         \u001B[0mret\u001B[0m \u001B[0;34m=\u001B[0m \u001B[0ma\u001B[0m \u001B[0;34m@\u001B[0m \u001B[0mb\u001B[0m\u001B[0;34m\u001B[0m\u001B[0;34m\u001B[0m\u001B[0m\n\u001B[0m\u001B[1;32m    152\u001B[0m \u001B[0;34m\u001B[0m\u001B[0m\n\u001B[1;32m    153\u001B[0m     if (sparse.issparse(a) and sparse.issparse(b)\n",
      "\u001B[0;31mValueError\u001B[0m: matmul: Input operand 1 has a mismatch in its core dimension 0, with gufunc signature (n?,k),(k,m?)->(n?,m?) (size 126 is different from 252)"
     ],
     "ename": "ValueError",
     "evalue": "matmul: Input operand 1 has a mismatch in its core dimension 0, with gufunc signature (n?,k),(k,m?)->(n?,m?) (size 126 is different from 252)",
     "output_type": "error"
    }
   ],
   "source": [
    "poly_model.predict(poly_features.fit_transform([[10, 9, 1, 0, 10]]))\n",
    "# np.max(OUTPUT_LINEAL)\n",
    "# INPUT_LINEAL"
   ],
   "metadata": {
    "collapsed": false,
    "pycharm": {
     "name": "#%%\n",
     "is_executing": false
    }
   }
  },
  {
   "cell_type": "code",
   "execution_count": null,
   "outputs": [],
   "source": [
    "import pandas as pd\n",
    "from sklearn import linear_model\n",
    "from sklearn.metrics import mean_squared_error, r2_score\n",
    "\n",
    "import statsmodels.api as sm\n",
    "import sklearn\n",
    "\n",
    "\n",
    "regr = linear_model.LinearRegression()\n",
    "regr.fit(INPUT_LINEAL, OUTPUT_LINEAL)\n",
    "print('Intercept: \\n', regr.intercept_)\n",
    "print('Coefficients: \\n', regr.coef_)\n",
    "\n",
    "predict = regr.predict(INPUT_LINEAL_TEST)\n",
    "\n",
    "plt.plot(predict, OUTPUT_LINEAL_TEST, \"o\")\n",
    "plt.show()\n",
    "# prediction with sklearn\n",
    "#print ('Predicted Stock Index Price: \\n', regr.predict(INPUT_LINEAL_TEST))\n",
    "\n",
    "# OTRA FORMA DE REGRESION \n",
    "# with statsmodels\n",
    "model = sm.OLS(OUTPUT_LINEAL, sm.add_constant(INPUT_LINEAL)).fit()\n",
    "predictions = model.predict(sm.add_constant(INPUT_LINEAL_TEST)) \n",
    " \n",
    "print_model = model.summary()\n",
    "print(print_model)\n",
    "\n",
    "plt.plot(predictions, OUTPUT_LINEAL_TEST, \"o\")\n",
    "plt.show()\n",
    "print(r2_score(predictions, OUTPUT_LINEAL_TEST))"
   ],
   "metadata": {
    "collapsed": false,
    "pycharm": {
     "name": "#%%\n",
     "is_executing": false
    }
   }
  },
  {
   "cell_type": "code",
   "execution_count": null,
   "outputs": [],
   "source": [
    "print(INPUT_LINEAL)\n",
    "print(sm.add_constant(INPUT_LINEAL))\n"
   ],
   "metadata": {
    "collapsed": false,
    "pycharm": {
     "name": "#%%\n",
     "is_executing": false
    }
   }
  },
  {
   "cell_type": "code",
   "execution_count": 25,
   "outputs": [
    {
     "data": {
      "text/plain": "<keras.callbacks.callbacks.History at 0x7f85b454df90>"
     },
     "metadata": {},
     "output_type": "execute_result",
     "execution_count": 25
    }
   ],
   "source": [
    "# example of making predictions for a regression problem\n",
    "from keras.models import Sequential\n",
    "from keras.layers import Dense\n",
    "from sklearn.datasets import make_regression\n",
    "from sklearn.preprocessing import MinMaxScaler\n",
    "from numpy import array\n",
    "# generate regression dataset\n",
    "# X, y = make_regression(n_samples=100, n_features=2, noise=0.1, random_state=1)\n",
    "X = INPUT_LINEAL\n",
    "y = OUTPUT_LINEAL\n",
    "#scalarX, scalarY = MinMaxScaler(), MinMaxScaler()\n",
    "#scalarX.fit(X)\n",
    "#scalarY.fit(y)\n",
    "#X = scalarX.transform(X)\n",
    "#y = scalarY.transform(y)\n",
    "# define and fit the final model\n",
    "model = Sequential()\n",
    "model.add(Dense(10, input_dim=X.shape[1], activation='relu'))\n",
    "model.add(Dense(7, activation='relu'))\n",
    "model.add(Dense(5, activation='relu'))\n",
    "model.add(Dense(3, activation='relu'))\n",
    "model.add(Dense(1, activation='linear'))\n",
    "model.compile(loss='mse', optimizer='adam')\n",
    "model.fit(X, y, epochs=1000, verbose=0)"
   ],
   "metadata": {
    "collapsed": false,
    "pycharm": {
     "name": "#%%\n",
     "is_executing": false
    }
   }
  },
  {
   "cell_type": "code",
   "execution_count": 27,
   "outputs": [
    {
     "data": {
      "text/plain": "array([[10.  ,  0.25,  0.25,  0.  ],\n       [10.  ,  0.25,  0.25,  0.5 ],\n       [10.  ,  0.25,  0.25,  1.  ],\n       ...,\n       [20.  ,  5.  ,  5.  , 40.  ],\n       [20.  ,  5.  ,  5.  ,  5.  ],\n       [20.  ,  5.  ,  5.  , 50.  ]])"
     },
     "metadata": {},
     "output_type": "execute_result",
     "execution_count": 27
    }
   ],
   "source": [
    "INPUT"
   ],
   "metadata": {
    "collapsed": false,
    "pycharm": {
     "name": "#%%\n",
     "is_executing": false
    }
   }
  },
  {
   "cell_type": "code",
   "execution_count": null,
   "outputs": [],
   "source": [
    "# print(X.shape)\n",
    "print(model.predict(np.array([[10, 10, 0.25, 100]])))\n",
    "plt.plot(model.predict(INPUT_LINEAL_TEST),OUTPUT_LINEAL_TEST, \"o\")\n",
    "print(r2_score(model.predict(INPUT_LINEAL_TEST), OUTPUT_LINEAL_TEST))"
   ],
   "metadata": {
    "collapsed": false,
    "pycharm": {
     "name": "#%%\n"
    }
   }
  },
  {
   "cell_type": "code",
   "execution_count": 19,
   "outputs": [
    {
     "name": "stdout",
     "text": [
      "[[0.3025449]]\n"
     ],
     "output_type": "stream"
    },
    {
     "data": {
      "text/plain": "[<matplotlib.lines.Line2D at 0x7f89be9d32d0>]"
     },
     "metadata": {},
     "output_type": "execute_result",
     "execution_count": 19
    },
    {
     "data": {
      "text/plain": "<Figure size 432x288 with 1 Axes>",
      "image/png": "[encoded data removed]"
     },
     "metadata": {
      "needs_background": "light"
     },
     "output_type": "display_data"
    }
   ],
   "source": [
    "#print(X.shape)\n",
    "print(model.predict(np.array([[20, 10, 0.25, 100]])))\n",
    "plt.plot(model.predict(INPUT_LINEAL_TEST),OUTPUT_LINEAL_TEST, \"o\")\n",
    "plot"
   ],
   "metadata": {
    "collapsed": false,
    "pycharm": {
     "name": "#%%\n",
     "is_executing": false
    }
   }
  },
  {
   "cell_type": "code",
   "execution_count": 15,
   "outputs": [
    {
     "data": {
      "text/plain": "array([[20.,  1.,  5., 20.]])"
     },
     "metadata": {},
     "output_type": "execute_result",
     "execution_count": 15
    }
   ],
   "source": [
    "INPUT_LINEAL_TEST[:1,:]\n",
    "#"
   ],
   "metadata": {
    "collapsed": false,
    "pycharm": {
     "name": "#%%\n",
     "is_executing": false
    }
   }
  }
 ],
 "metadata": {
  "kernelspec": {
   "name": "python3",
   "language": "python",
   "display_name": "Python 3"
  },
  "language_info": {
   "codemirror_mode": {
    "name": "ipython",
    "version": 2
   },
   "file_extension": ".py",
   "mimetype": "text/x-python",
   "name": "python",
   "nbconvert_exporter": "python",
   "pygments_lexer": "ipython2",
   "version": "2.7.15"
  }
 },
 "nbformat": 4,
 "nbformat_minor": 1
}