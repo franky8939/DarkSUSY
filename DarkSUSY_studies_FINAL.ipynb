{
 "cells": [
  {
   "cell_type": "code",
   "execution_count": 68,
   "metadata": {
    "pycharm": {
     "is_executing": false,
     "name": "#%%\n"
    }
   },
   "outputs": [],
   "source": [
    "## ============================== || BEGIN : DIR || ============================== ## \n",
    "Delphes_DIR = \"/home/franky8939/PROGRAMAS/MG5_aMC_v2_6_7/Delphes/\"\n",
    "ROOT_DIR = \"/home/franky8939/PROGRAMAS/root-6.18.02/\"\n",
    "inputFileROOT = \"darkphoton_5GeV_ctau0\" # + .root\n",
    "## ============================== || END   : DIR || ============================== ## \n",
    "import sys\n",
    "## ======================== || BEGIN : PATH IN PROYECT || ======================== ## \n",
    "\"\"\" \n",
    "This is necesary for import path for the bash because in the Jupyter of Pycharm \n",
    "not charge this bash include in the environment and is necessary por import the \n",
    "module of the program ROOT CERN \n",
    "\"\"\"\n",
    "# not necesary for the moment\n",
    "sys.path.extend([ Delphes_DIR ])  \n",
    "sys.path.extend([ Delphes_DIR + \"classes\" ])\n",
    "sys.path.extend([ Delphes_DIR + \"external\" ])\n",
    "sys.path.extend([ Delphes_DIR + \"external/ExRootAnalysis\" ])\n",
    "# necesary in the different configuration of installation of ROOT\n",
    "sys.path.extend([ ROOT_DIR    + \"lib\" ])\n",
    "sys.path.extend([ ROOT_DIR    + \"root/lib\" ])\n",
    "sys.path.extend([ ROOT_DIR    + \"build/lib\" ])\n",
    "## ======================== || END   : PATH IN PROYECT || ======================== ## \n",
    "import ROOT \n",
    "## ===================== || BEGIN : PYTHONPATH IN PROYECT || ===================== ## \n",
    "\"\"\"\n",
    "This is necesary for import the path for the library of ROOT CERN and Delphes  \n",
    "\"\"\"\n",
    "ROOT.gInterpreter.AddIncludePath( Delphes_DIR )\n",
    "ROOT.gInterpreter.AddIncludePath( Delphes_DIR + \"classes\" )\n",
    "ROOT.gInterpreter.AddIncludePath( Delphes_DIR + \"external/\" )\n",
    "ROOT.gInterpreter.AddIncludePath( Delphes_DIR + \"external/ExRootAnalysis/\" )\n",
    "ROOT.gSystem.Load( Delphes_DIR + \"libDelphes\")\n",
    "\n",
    "ROOT.gInterpreter.Declare('#include \"DelphesClasses.h\"')\n",
    "ROOT.gInterpreter.Declare('#include \"ExRootTreeReader.h\"')\n",
    "ROOT.gInterpreter.Declare('#include \"SortableObject.h\"')\n",
    "ROOT.gInterpreter.Declare('#include \"ExRootTask.h\"')\n",
    "## ===================== || END   : PYTHONPATH IN PROYECT || ===================== ## \n",
    "## ============================ || BEGIN : MODULES || ============================ ## \n",
    "''' Modules using '''\n",
    "import os\n",
    "#import plotly.graph_objects as go \n",
    "import matplotlib.pyplot as plt\n",
    "import numpy as np\n",
    "#import statistics as stats # usar media o desviacion estandar\n",
    "## ============================ || END   : MODULES || ============================ ## "
   ]
  },
  {
   "cell_type": "code",
   "execution_count": 91,
   "metadata": {
    "pycharm": {
     "name": "#%%\n",
     "is_executing": false
    }
   },
   "outputs": [],
   "source": [
    "## ========================== || BEGIN : DEFINITION || =========================== ## \n",
    "class darkSUSY:\n",
    "    def __init__(self):\n",
    "        #self.config = None                             # type: object\n",
    "        #self.registro = None                           # type: object\n",
    "        self.registroName = \"DarkSUSY Event Log\"        # type: str\n",
    "        self.registroDir  = \"Log/\"                      # type: str \n",
    "        self.File = None\n",
    "        self.Entries = None\n",
    "        self.Nmuon = None\n",
    "        self.MaxMuon = 4\n",
    "        self.DiMuon2 = None\n",
    "        self.MinDiMuon2 = None\n",
    "        self.ArchivoMuon = \"LOG OF SELECCION OF TWO MUONS.txt\"\n",
    "        self.ArchivoMuonLOG = 1\n",
    "        \"\"\" \"\"\"\n",
    "        self.Hgrid = True \n",
    "        self.Hbins = 50 \n",
    "        self.Hpercentil = 5\n",
    "        self.Hylabel = \" Frecuencia \"\n",
    "        self.Hstart = True\n",
    "        \n",
    "    def AddFile(self, \n",
    "                name           # type: str\n",
    "                ):\n",
    "        # type : (str, bool) -> bool\n",
    "        \"\"\" ========================================================================\n",
    "            || Charge the file type XXX.root output of caracterization of Delphes ||\n",
    "            ========================================================================  \"\"\"\n",
    "        output = 1\n",
    "        self.File = ROOT.TChain(\"Delphes;1\")\n",
    "        \n",
    "        if isinstance(name,str) or isinstance(name + \".root\",str): # existence of .root file\n",
    "            if os.path.isfile(name) or os.path.isfile(name + \".root\"):\n",
    "                if  name[-5:]=='.root' :\n",
    "                    self.File.Add(name)\n",
    "                    print(\"The file \" + name + \".root has been successfully loaded.\")\n",
    "                else:\n",
    "                    self.File.Add(name + \".root\")\n",
    "                    print(\"The file \" + name + \" has been successfully loaded.\")\n",
    "            else:\n",
    "                print(\"Error: The file \" + name + \" has not been successfully loaded, input dir is not exist.\")\n",
    "                output = 0\n",
    "        else:\n",
    "            print(\"Error: The file \" + name + \" has not been successfully loaded, input is not string.\")\n",
    "            output = 0\n",
    "        \n",
    "        # Variables necesarias para trabajar\n",
    "        self.Entries = self.File.GetEntries() # Number of entrance\n",
    "        self.Nmuon = np.array([])\n",
    "        \n",
    "        for entry in range(self.Entries):\n",
    "            Event = self.File.GetEntry(entry)\n",
    "            self.Nmuon = np.append(self.Nmuon, self.File.Muon.GetEntries())\n",
    "\n",
    "        return output\n",
    "    \n",
    "    def Select_two_di_muon(self\n",
    "                           ):\n",
    "        \n",
    "        f = open (\"LOG OF SELECCION OF TWO MUONS.txt\",'w') # CREATE TXT FILE TO SAVE THE CHARACTERIZATION PROCESS INFO\n",
    "        output = []\n",
    "        \n",
    "        for entry in range(self.Entries):\n",
    "            Event = self.File.GetEntry(entry)\n",
    "            if  self.File.Muon.GetEntries() > self.MaxMuon - 1:\n",
    "                Nmuon = self.File.Muon.GetEntries()\n",
    "                Chargemuon = []\n",
    "                f.write( \"\\n\" + \"||===========================================================================================================||\")\n",
    "                f.write( \"\\n\" + \"||                                 || SUMMARY OF EVENT CHARACTERIZATION ||                                   ||\")\n",
    "                f.write( \"\\n\" + \"||===========================================================================================================||\")\n",
    "                f.write( \"\\n\" + \"||                                   EVENT : \"  + str(entry)  + \" :: NUMBER OF MUONS : \" + str(Nmuon) )\n",
    "                \n",
    "                for imuon in range(Nmuon):\n",
    "                    Chargemuon.append(self.File.GetLeaf(\"Muon.Charge\").GetValue( imuon ) )\n",
    "                \n",
    "                \"\"\" ===========================================================\n",
    "                    || SELECT THE POSSIBLE DI-MUONES IN DEPENDENCE OF CHARGE ||\n",
    "                    ===========================================================  \"\"\"\n",
    "                di_muon = []\n",
    "                for one in range(len(Chargemuon)) :\n",
    "                    for  two in range( one , len(Chargemuon) ) :\n",
    "                        if  Chargemuon[one] + Chargemuon[two] == 0:\n",
    "                            di_muon.append( [ one , two ] )\n",
    "\n",
    "                \"\"\" ===========================================================\n",
    "                             || ** SELECT THE PAIR WITH LOWER MASS ** ||\n",
    "                    ===========================================================  \"\"\"\n",
    "                AllDiffInvMass = np.array([])        # type: float # 1D # Diff of Inv Mass\n",
    "                AllInvMass     = np.array([])        # type: float # 2D # Values od Inv Mass\n",
    "                Alltwo_di_muon = np.array([])        # type: float # 1D # All combination of Di-muon\n",
    "                \n",
    "                \"\"\"\" =================================\n",
    "                     || COMBINATION OF TWO DI-MUONS ||\n",
    "                     =================================  \"\"\"\n",
    "                for one in range( len(di_muon) ):\n",
    "                    for two in range(one + 1, len(di_muon) ):\n",
    "                        \"\"\"\" ============================\n",
    "                             || Do not share particles ||\n",
    "                             ============================  \"\"\"\n",
    "                        if di_muon[one][0] != di_muon[two][0] and di_muon[one][0] != di_muon[two][1]  and \\\n",
    "                                di_muon[one][1] != di_muon[two][0] and di_muon[one][1] != di_muon[two][1] :\n",
    "                           \n",
    "                            mass1 = ( self.File.Muon.At(di_muon[one][0]).P4() +\n",
    "                                      self.File.Muon.At(di_muon[one][1]).P4() ).M() # First  Mass\n",
    "                            mass2 = ( self.File.Muon.At(di_muon[two][0]).P4() +\n",
    "                                      self.File.Muon.At(di_muon[two][1]).P4() ).M() # Second Mass\n",
    "                            AllDiffInvMass = np.append( AllDiffInvMass , \n",
    "                                                        np.abs( mass1 - mass2 ) )  # [ (...) , |M1 - M2|]\n",
    "                            # Indices di-muon1 (i,j) ; di-muon2 (n,m) -> [ i, j, n, m ]\n",
    "                            two_di_muon = np.array([ di_muon[one][0] , di_muon[one][1] , \n",
    "                                                     di_muon[two][0] , di_muon[two][1] ])\n",
    "                            if len(Alltwo_di_muon) == 0 :\n",
    "                                Alltwo_di_muon = two_di_muon\n",
    "                                AllInvMass     = [mass1 , mass2 ]\n",
    "                            else:\n",
    "                                Alltwo_di_muon = np.vstack( [ Alltwo_di_muon , two_di_muon      ] )\n",
    "                                AllInvMass     = np.vstack( [ AllInvMass     , [mass1 , mass2 ] ] )\n",
    "                \n",
    "                f.write( \"\\n\" + \"||                                 =======================================                                   ||\")  \n",
    "                f.write( \"\\n\" + \"||                                 | All Couple of di-muones for select: |                                   ||\")    \n",
    "                f.write( \"\\n\" + \"||                                 =======================================                                   || \")  \n",
    "                \n",
    "                for count in range( len( AllInvMass ) ):\n",
    "                    f.write(\"\\n\" + \"||\"+ \" :: First di-muon: [\"  + str(Alltwo_di_muon[count][0]) + \" , \" + str(Alltwo_di_muon[count][1]) + \"] \" + \n",
    "                          \" with M1 : \" + '%.2f' %AllInvMass[count][0] +\n",
    "                          \" :: Second di-muon: [\" + str(Alltwo_di_muon[count][2]) + \" , \" + str(Alltwo_di_muon[count][3]) + \"] \" + \n",
    "                          \" with M2 : \" + '%.2f' %AllInvMass[count][1] + \n",
    "                          \" :: \\u0394 Minv : \"  + '%.3f' %AllDiffInvMass[count])\n",
    "                    \n",
    "                f.write(\"\\n\" + \"||                                 =======================================                                   ||\")  \n",
    "                f.write(\"\\n\" + \"||                                 | The Couple of di-muones select is : |                                   ||\")    \n",
    "                f.write(\"\\n\" + \"||                                 =======================================                                   ||\")  \n",
    "                \n",
    "                # MIN OF MASS DIF IN THE VECTOR AllInvMAss\n",
    "                logic = np.where(np.min( AllDiffInvMass ) == AllDiffInvMass)[0][0] # MATRIX LOGIC\n",
    "                #print(logic)\n",
    "                DiMuon2 = (Alltwo_di_muon[logic]) # TWO DI-MUON WITH > (MASS1-MASS2)\n",
    "\n",
    "                f.write(\"\\n\" + \"||\"+ \" :: First di-muon: [\" + str(DiMuon2[0]) + \" , \" + str(DiMuon2[1]) + \"] \" + \n",
    "                          \" with M1 : \" + '%.2f' %AllInvMass[logic][0] +\n",
    "                          \" :: Second di-muon: [\" + str(DiMuon2[2]) + \" , \" + str(DiMuon2[3]) + \"] \" + \n",
    "                          \" with M2 : \" + '%.2f' %AllInvMass[logic][1])  #'''\n",
    "                f.write( \"\\n\" + \"||===========================================================================================================||\")\n",
    "                \n",
    "                ## ALL DI-MUON FOR EVENT\n",
    "                if  len(output)==0:\n",
    "                    output =np.hstack([entry,DiMuon2])\n",
    "                else:\n",
    "                    intg=np.hstack([ entry , DiMuon2])\n",
    "                    output = np.vstack( [ output , intg] )\n",
    "        f.close()\n",
    "        ## RESUMEN FINAL\n",
    "        '''print(\"De los \", self.Entries , \" eventos procesados, \", sum(self.Nmuon>3) , \" poseen mas de 3 muones y \",\n",
    "              output.shape[0] , \" fueron seleccionados bajo el criterio de minima masa invariante.\")'''\n",
    "        return output\n",
    "    \n",
    "    def fhist(self, entrada):\n",
    "    \n",
    "        if self.Hpercentil>0 and self.Hpercentil<100 :\n",
    "            log1 = np.percentile(entrada, self.Hpercentil)  < entrada \n",
    "            log2 = np.percentile(entrada, 100 - self.Hpercentil) > entrada\n",
    "            log =log1*log2\n",
    "            hist = []\n",
    "            for i in range(len(entrada)):\n",
    "                if log[i]:\n",
    "                    hist.append(entrada[i])\n",
    "        else:\n",
    "            hist = entrada\n",
    "            log = True\n",
    "        ## GRAF\n",
    "        \n",
    "        if  hasattr(self, \"Hbins\") : \n",
    "            if hasattr(self, \"Hxlim\") :\n",
    "                binss=int(round(self.Hbins*(max(hist)- min(hist))/(self.Hxlim[1]- self.Hxlim[0])))\n",
    "                #print(binss)\n",
    "                plt.hist(np.delete(hist, log), bins= binss)\n",
    "            else:\n",
    "                plt.hist(np.delete(hist, log), bins= self.Hbins)\n",
    "        else:\n",
    "            plt.hist(np.delete(hist, log), bins= 10)                 \n",
    "                \n",
    "        ## PROP\n",
    "        if    hasattr(self, \"Hxlim\"): plt.xlim(self.Hxlim[0],self.Hxlim[1] )\n",
    "        else: plt.xlim( min(hist), max(hist) )\n",
    "        if    hasattr(self, \"Hylim\"): plt.ylim(self.Hylim[0],self.Hylim[1] )\n",
    "        \n",
    "        if    hasattr(self, \"Htitle\") and len(self.Htitle)>0: plt.title(self.Htitle)\n",
    "        \n",
    "        if    hasattr(self, \"Hgrid\"): plt.grid(self.Hgrid)\n",
    "        else: plt.grid(True)\n",
    "        \n",
    "        if    hasattr(self, \"Hylabel\") and len(self.Hylabel)>0 : plt.ylabel(self.Hylabel)\n",
    "        if    hasattr(self, \"Hxlabel\") and len(self.Hxlabel)>0 : plt.xlabel(self.Hxlabel)\n",
    "       \n",
    "        if    self.Hstart : plt.show()\n",
    "        else: print(\" Auto plot is deactivate, change the bool .\\\"start\\\" \")\n",
    "        plt.clf() # closed\n",
    "        return 0\n",
    "    \n",
    "    def HistM(self):\n",
    "        # MASA DE LOS DI-MUONES\n",
    "        AllMass_of_photon = []\n",
    "        AllminMass_of_photon = []\n",
    "        AllmaxMass_of_photon = []\n",
    "        ALL_DMuon_ForEvent = np.array(self.MinDiMuon2)\n",
    "        for event_2dark in range( self.MinDiMuon2.shape[0] ) :#range( entries  ):\n",
    "            Event = self.File.GetEntry(ALL_DMuon_ForEvent[ event_2dark,0 ])\n",
    "            muones = self.File.Muon\n",
    "            mass1 = ( muones.At( int( ALL_DMuon_ForEvent[ event_2dark , 1] ) ).P4() + \n",
    "                      muones.At( int( ALL_DMuon_ForEvent[ event_2dark , 2] ) ).P4() ).M()\n",
    "            mass2 = ( muones.At( int( ALL_DMuon_ForEvent[ event_2dark , 3] ) ).P4() + \n",
    "                      muones.At( int( ALL_DMuon_ForEvent[ event_2dark , 4] ) ).P4() ).M()\n",
    "            AllMass_of_photon.append(mass1)\n",
    "            AllMass_of_photon.append(mass2)\n",
    "            if mass1 > mass2:\n",
    "                AllminMass_of_photon.append(mass2)\n",
    "                AllmaxMass_of_photon.append(mass1)\n",
    "            else:\n",
    "                AllminMass_of_photon.append(mass1)\n",
    "                AllmaxMass_of_photon.append(mass2)\n",
    "                \n",
    "        # Histogram of all mass\n",
    "        self.Hxlim = [np.percentile(AllMass_of_photon, 1), np.percentile(AllMass_of_photon, 99)]\n",
    "        #plt.figure(1)\n",
    "        plt.rcParams['figure.figsize'] = [10, 20]\n",
    "        plt.subplot(311); \n",
    "        self.Htitle  = 'Masas de todos los DarkPhoton'\n",
    "        self.Hpercentil = 2\n",
    "        self.fhist(AllMass_of_photon)\n",
    "        \n",
    "        plt.subplot(312); \n",
    "        self.Htitle  = 'Masas mayores de todos los DarkPhoton'\n",
    "        self.Hpercentil = 0\n",
    "        self.fhist(AllmaxMass_of_photon)\n",
    "        \n",
    "        plt.subplot(313); \n",
    "        self.Htitle  = 'Masas menores de todos los DarkPhoton'\n",
    "        self.Hpercentil = 0\n",
    "        self.fhist(AllminMass_of_photon)\n",
    "        \n",
    "    def HistPt(self):\n",
    "        AllPt_of_photon = []\n",
    "        All1Pt_of_photon = []\n",
    "        All2Pt_of_photon = []\n",
    "        All3Pt_of_photon = []\n",
    "        All4Pt_of_photon = []\n",
    "        ALL_DMuon_ForEvent = np.array(self.MinDiMuon2)\n",
    "        for event_2dark in range( self.MinDiMuon2.shape[0] ) :#range( entries  ):\n",
    "            #print(event_2dark)\n",
    "            Event = self.File.GetEntry(ALL_DMuon_ForEvent[ event_2dark,0 ])\n",
    "            \n",
    "            for imuon in range(4):\n",
    "                AllPt_of_photon.append(self.File.GetLeaf(\"Muon.PT\").GetValue( imuon ))\n",
    "            AllPt_of_photon_event = np.hstack( [ AllPt_of_photon[-4:-1] , AllPt_of_photon[-1] ] )  \n",
    "            AllPt_of_photon_event = np.sort(AllPt_of_photon_event)\n",
    "            All1Pt_of_photon.append(AllPt_of_photon_event[0])\n",
    "            All2Pt_of_photon.append(AllPt_of_photon_event[1])\n",
    "            All3Pt_of_photon.append(AllPt_of_photon_event[2])\n",
    "            All4Pt_of_photon.append(AllPt_of_photon_event[3])\n",
    "            \n",
    "        ## HISTOGRAMAS DE TODOS LOS MOMENTOS ANGULARES\n",
    "        self.Hxlim = [ min(AllPt_of_photon_event), max(AllPt_of_photon_event)]\n",
    "        #plt.figure(1)\n",
    "        plt.rcParams['figure.figsize'] = [10, 20]\n",
    "        plt.subplot(511); \n",
    "        self.Htitle  = 'Momento Transversal de todos los Muones'\n",
    "        self.fhist(AllPt_of_photon)\n",
    "        self.Hxlabel = \" Momento Transversal\"\n",
    "        self.Hpercentil = 0\n",
    "        plt.subplot(512);\n",
    "        self.Htitle = \"Momento Transversal de los Muones en la posicion 1\"#'''\n",
    "        self.fhist(All1Pt_of_photon)\n",
    "        plt.subplot(513);\n",
    "        self.Htitle = \"Momento Transversal de los Muones en la posicion 2\"#'''\n",
    "        self.fhist(All2Pt_of_photon)\n",
    "        plt.subplot(514);\n",
    "        self.Htitle = \"Momento Transversal de los Muones en la posicion 3\"#'''\n",
    "        self.fhist(All3Pt_of_photon)\n",
    "        plt.subplot(515);\n",
    "        self.Htitle = \"Momento Transversal de los Muones en la posicion 4\"#'''\n",
    "        self.fhist(All4Pt_of_photon)"
   ]
  },
  {
   "cell_type": "code",
   "execution_count": 89,
   "outputs": [
    {
     "name": "stdout",
     "text": [
      "The file darkphoton_5GeV_ctau0 has been successfully loaded.\n",
      "1\n",
      "[[  29    0    3    1    2]\n",
      " [  57    0    3    1    2]\n",
      " [  65    0    2    1    3]\n",
      " ...\n",
      " [9973    0    2    1    3]\n",
      " [9986    0    1    2    3]\n",
      " [9989    0    2    1    3]]\n"
     ],
     "output_type": "stream"
    }
   ],
   "source": [],
   "metadata": {
    "collapsed": false,
    "pycharm": {
     "name": "#%%\n",
     "is_executing": false
    }
   }
  },
  {
   "cell_type": "code",
   "execution_count": 92,
   "outputs": [
    {
     "name": "stdout",
     "text": [
      "The file darkphoton_5GeV_ctau0 has been successfully loaded.\n",
      "1\n",
      "('De los ', 10000L, ' eventos procesados, ', 508, ' poseen mas de 3 muones y ', 508, ' fueron seleccionados bajo el criterio de minima masa invariante.')\n",
      "[[  29    0    3    1    2]\n",
      " [  57    0    3    1    2]\n",
      " [  65    0    2    1    3]\n",
      " ...\n",
      " [9973    0    2    1    3]\n",
      " [9986    0    1    2    3]\n",
      " [9989    0    2    1    3]]\n"
     ],
     "output_type": "stream"
    }
   ],
   "source": [
    "        \n",
    "DarkFile = darkSUSY()\n",
    "print(DarkFile.AddFile(inputFileROOT))\n",
    "print(DarkFile.Select_two_di_muon())\n",
    "#print(DarkFile.Nmuon)"
   ],
   "metadata": {
    "collapsed": false,
    "pycharm": {
     "name": "#%%\n",
     "is_executing": false
    }
   }
  },
  {
   "cell_type": "code",
   "execution_count": 83,
   "outputs": [
    {
     "name": "stderr",
     "text": [
      "/home/franky8939/PROGRAMAS/anaconda3/envs/py27/lib/python2.7/site-packages/ipykernel_launcher.py:174: FutureWarning:\n",
      "\n",
      "in the future insert will treat boolean arrays and array-likes as boolean index instead of casting it to integer\n",
      "\n"
     ],
     "output_type": "stream"
    },
    {
     "data": {
      "image/png": "[encoded data removed]",
      "text/plain": "<Figure size 720x1440 with 1 Axes>"
     },
     "metadata": {
      "needs_background": "light"
     },
     "output_type": "display_data"
    },
    {
     "data": {
      "image/png": "[encoded data removed]",
      "text/plain": "<Figure size 720x1440 with 1 Axes>"
     },
     "metadata": {
      "needs_background": "light"
     },
     "output_type": "display_data"
    },
    {
     "data": {
      "image/png": "[encoded data removed]",
      "text/plain": "<Figure size 720x1440 with 1 Axes>"
     },
     "metadata": {
      "needs_background": "light"
     },
     "output_type": "display_data"
    },
    {
     "name": "stdout",
     "text": [
      "None\n"
     ],
     "output_type": "stream"
    },
    {
     "data": {
      "text/plain": "<Figure size 720x1440 with 0 Axes>"
     },
     "metadata": {},
     "output_type": "display_data"
    }
   ],
   "source": [
    "print(DarkFile.HistM())"
   ],
   "metadata": {
    "collapsed": false,
    "pycharm": {
     "name": "#%%\n",
     "is_executing": false
    }
   }
  },
  {
   "cell_type": "code",
   "execution_count": 90,
   "outputs": [
    {
     "name": "stderr",
     "text": [
      "/home/franky8939/PROGRAMAS/anaconda3/envs/py27/lib/python2.7/site-packages/ipykernel_launcher.py:174: FutureWarning:\n",
      "\n",
      "in the future insert will treat boolean arrays and array-likes as boolean index instead of casting it to integer\n",
      "\n"
     ],
     "output_type": "stream"
    },
    {
     "data": {
      "image/png": "[encoded data removed]",
      "text/plain": "<Figure size 720x1440 with 1 Axes>"
     },
     "metadata": {
      "needs_background": "light"
     },
     "output_type": "display_data"
    },
    {
     "data": {
      "image/png": "[encoded data removed]",
      "text/plain": "<Figure size 720x1440 with 1 Axes>"
     },
     "metadata": {
      "needs_background": "light"
     },
     "output_type": "display_data"
    },
    {
     "data": {
      "image/png": "[encoded data removed]",
      "text/plain": "<Figure size 720x1440 with 1 Axes>"
     },
     "metadata": {
      "needs_background": "light"
     },
     "output_type": "display_data"
    },
    {
     "data": {
      "image/png": "[encoded data removed]",
      "text/plain": "<Figure size 720x1440 with 1 Axes>"
     },
     "metadata": {
      "needs_background": "light"
     },
     "output_type": "display_data"
    },
    {
     "data": {
      "image/png": "[encoded data removed]",
      "text/plain": "<Figure size 720x1440 with 1 Axes>"
     },
     "metadata": {
      "needs_background": "light"
     },
     "output_type": "display_data"
    },
    {
     "name": "stdout",
     "text": [
      "None\n"
     ],
     "output_type": "stream"
    },
    {
     "data": {
      "text/plain": "<Figure size 720x1440 with 0 Axes>"
     },
     "metadata": {},
     "output_type": "display_data"
    }
   ],
   "source": [
    "print(DarkFile.HistPt())"
   ],
   "metadata": {
    "collapsed": false,
    "pycharm": {
     "name": "#%%\n",
     "is_executing": false
    }
   }
  },
  {
   "cell_type": "code",
   "execution_count": null,
   "outputs": [],
   "source": [
    "\n"
   ],
   "metadata": {
    "collapsed": false,
    "pycharm": {
     "name": "#%%\n",
     "is_executing": false
    }
   }
  }
 ],
 "metadata": {
  "kernelspec": {
   "name": "python2",
   "language": "python",
   "display_name": "Python 2"
  },
  "language_info": {
   "codemirror_mode": {
    "name": "ipython",
    "version": 3
   },
   "file_extension": ".py",
   "mimetype": "text/x-python",
   "name": "python",
   "nbconvert_exporter": "python",
   "pygments_lexer": "ipython3",
   "version": "3.7.5"
  },
  "pycharm": {
   "stem_cell": {
    "cell_type": "raw",
    "source": [],
    "metadata": {
     "collapsed": false
    }
   }
  }
 },
 "nbformat": 4,
 "nbformat_minor": 1
}