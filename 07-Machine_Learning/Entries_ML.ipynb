{
 "cells": [
  {
   "cell_type": "markdown",
   "source": [
    "**PAQUETERIAS NECESARIAS**"
   ],
   "metadata": {
    "collapsed": false,
    "pycharm": {
     "name": "#%% md\n",
     "is_executing": false
    }
   }
  },
  {
   "cell_type": "code",
   "execution_count": 1,
   "outputs": [],
   "source": [
    "from modules.maquine_learning.Paq_ML import *\n",
    "from modules.general.F_search import *\n",
    "import math\n",
    "\n",
    "INPUT = \"/home/franky8939/GITHUP/DarkSUSY-master/data/h5_muon/DarkSUSY_USER.h5\"\n",
    "if os.path.exists(INPUT):\n",
    "    hf = h5py.File(INPUT, 'r')\n",
    "else:\n",
    "    print(\" :: Datos de entrada inexistentes:: \")\n",
    "    sys.exit()\n",
    "\n",
    "## ORGANIZAR LA ENTRADA DE DATOS**\n",
    "\n",
    "variable = \"Entries\"  # Variable de interes\n",
    "Card_config = \"_CMS_\"  # Configuración de la card\n",
    "INPUT_CMS = None\n",
    "INPUT_HL = None\n",
    "OUTPUT_CMS = None\n",
    "OUTPUT_HL = None\n",
    "\n",
    "for MNeuL in hf.keys(): \n",
    "    MNeuD_all = hf.require_group(MNeuL)\n",
    "    for MNeuD in MNeuD_all.keys():\n",
    "        MPhoD_all = hf.require_group(MNeuL + \"/\" + MNeuD)\n",
    "        for MPhoD in MPhoD_all.keys():\n",
    "            TcPhoD_all = hf.require_group(MNeuL + \"/\" + MNeuD + \"/\" + MPhoD)\n",
    "            for TcPhoD in TcPhoD_all.keys():\n",
    "                Data_Card = hf.require_group(MNeuL + \"/\" + MNeuD + \"/\" + MPhoD + \n",
    "                                             \"/\" + TcPhoD)\n",
    "                for Card in Data_Card.keys():\n",
    "                    FileROOT = hf.require_group(MNeuL + \"/\" + MNeuD + \"/\" + MPhoD + \n",
    "                                                \"/\" + TcPhoD + \"/\" + Card)\n",
    "                    # print(Card)\n",
    "                    if len(np.array(FileROOT.get(\"Mu_Entries\"))) < 1:\n",
    "                        continue\n",
    "                    # var in the respective root\n",
    "                    var = Ob_Value(str(np.array(FileROOT.get(\"Name_of_FileROOT\"))))\n",
    "                    INPUT_TEMP = [var[\"MNeuL\"], var[\"MNeuD\"], var[\"MPhoD\"], var[\"TcPhoD\"]]\n",
    "                    #if float(var[\"MNeuL\"])>0:\n",
    "                    #    continue\n",
    "                    OUTPUT_TEMP = len(np.array(FileROOT.get(\"Mu_Entries\")))\n",
    "\n",
    "                    if var[\"Card\"]=='_CMS_':\n",
    "                        if INPUT_CMS is None:\n",
    "                            INPUT_CMS = INPUT_TEMP\n",
    "                            OUTPUT_CMS = OUTPUT_TEMP\n",
    "                        else:\n",
    "                            INPUT_CMS = np.vstack((INPUT_CMS, INPUT_TEMP ))\n",
    "                            OUTPUT_CMS = np.vstack((OUTPUT_CMS, OUTPUT_TEMP))\n",
    "                    elif var[\"Card\"]=='_HL_':\n",
    "                        if INPUT_HL is None:\n",
    "                            INPUT_HL = INPUT_TEMP\n",
    "                            OUTPUT_HL = OUTPUT_TEMP\n",
    "                        else:\n",
    "                            INPUT_HL = np.vstack((INPUT_HL, INPUT_TEMP ))\n",
    "                            OUTPUT_HL = np.vstack((OUTPUT_HL, OUTPUT_TEMP))\n",
    "                    else:\n",
    "                        print(\" :: Card no identificada :: ERROR ::\")\n",
    "hf.close()"
   ],
   "metadata": {
    "collapsed": false,
    "pycharm": {
     "name": "#%%\n"
    }
   }
  },
  {
   "cell_type": "code",
   "execution_count": 61,
   "outputs": [
    {
     "name": "stdout",
     "output_type": "stream",
     "text": [
      "(1904, 1) (1904, 4)\n",
      "(1817, 1) (1817, 4)\n",
      "(1635, 4) (182, 4)\n",
      "(1635, 1) (182, 1)\n"
     ]
    }
   ],
   "source": [
    "def reduce(data1, data2, min_data):\n",
    "    log = np.where(data2>min_data)[0]\n",
    "    output1 = data1[log,:]\n",
    "    output2 = data2[log]\n",
    "    return output1, output2\n",
    "\n",
    "# INPUT1=np.array(INPUT[:,1])\n",
    "INPUT_CMS_R, OUTPUT_CMS_R = reduce(INPUT_CMS, OUTPUT_CMS, 5)\n",
    "#REACONDICIONAR LA INFORMACION INPUT EN UNA MATRIX PARA SU RAPIDO ACCESO\n",
    "X_train, X_test, Y_train, Y_test = train_test_split(\n",
    "    INPUT_CMS_R, np.log(OUTPUT_CMS_R/100), test_size = .1, shuffle = True)\n",
    "\n",
    "print(OUTPUT_CMS.shape,INPUT_CMS.shape)\n",
    "print(OUTPUT_CMS_R.shape,INPUT_CMS_R.shape)\n",
    "print(X_train.shape, X_test.shape)\n",
    "print(Y_train.shape, Y_test.shape)"
   ],
   "metadata": {
    "collapsed": false,
    "pycharm": {
     "name": "#%%\n"
    }
   }
  },
  {
   "cell_type": "markdown",
   "source": [
    "**ENTRENAMIENTO**"
   ],
   "metadata": {
    "collapsed": false
   }
  },
  {
   "cell_type": "code",
   "execution_count": 127,
   "outputs": [],
   "source": [
    "def regresion(X_train, Y_train, X_test=None, Y_test=None, ax=None, degree=5):\n",
    "    poly_features = PolynomialFeatures(degree=degree)\n",
    "    # transforms the existing features to higher degree features.\n",
    "    X_train_poly = poly_features.fit_transform(X_train)\n",
    "    # fit the transformed features to Linear Regression\n",
    "    poly_model = LinearRegression()\n",
    "    poly_model.fit(X_train_poly, Y_train)\n",
    "    # predicting on training data-set\n",
    "    y_train_predicted = poly_model.predict(X_train_poly)\n",
    "    # predicting on test data-set\n",
    "    y_test_predict = poly_model.predict(poly_features.fit_transform(X_test))\n",
    "\n",
    "    # evaluating the model on training dataset\n",
    "    rmse_train = np.sqrt(mean_squared_error(Y_train, y_train_predicted))\n",
    "    r2_train = r2_score(Y_train, y_train_predicted)\n",
    "    print(\"The model performance for the training set\")\n",
    "    print(\"RMSE of training set is {}\".format(rmse_train))\n",
    "    print(\"R2 score of training set is {}\".format(r2_train))\n",
    "    if X_test is not None and Y_test is not None:\n",
    "        # evaluating the model on test dataset\n",
    "        rmse_test = np.sqrt(mean_squared_error(Y_test, y_test_predict))\n",
    "        r2_test = r2_score(Y_test, y_test_predict)\n",
    "        print(\"\\n\")\n",
    "        print(\"The model performance for the test set\")\n",
    "        print(\"RMSE of test set is {}\".format(rmse_test))\n",
    "        print(\"R2 score of test set is {}\".format(r2_test))\n",
    "        if ax is None:\n",
    "            plt.plot(np.exp(Y_test), np.exp(y_test_predict), '.')\n",
    "        else:\n",
    "            ax.plot(np.exp(Y_test), np.exp(y_test_predict), '.')\n",
    "        return poly_model, rmse_train, r2_train, rmse_test, r2_test, ax\n",
    "    return poly_model, rmse_train, r2_train"
   ],
   "metadata": {
    "collapsed": false,
    "pycharm": {
     "name": "#%%\n"
    }
   }
  },
  {
   "cell_type": "code",
   "execution_count": 129,
   "outputs": [
    {
     "name": "stdout",
     "output_type": "stream",
     "text": [
      "The model performance for the training set\n",
      "RMSE of training set is 0.07095387840370006\n",
      "R2 score of training set is 0.9954703164716313\n",
      "\n",
      "\n",
      "The model performance for the test set\n",
      "RMSE of test set is 0.6865464968574947\n",
      "R2 score of test set is 0.7699341898763437\n"
     ]
    },
    {
     "name": "stderr",
     "output_type": "stream",
     "text": [
      "/home/franky8939/PROGRAMAS/anaconda3/envs/py37root/lib/python3.7/site-packages/sklearn/preprocessing/_data.py:1508: FutureWarning: Beginning in version 0.22, arrays of bytes/strings will be converted to decimal numbers if dtype='numeric'. It is recommended that you convert the array to a float dtype before using it in scikit-learn, for example by using your_array = your_array.astype(np.float64).\n",
      "  n_samples, n_features = check_array(X, accept_sparse=True).shape\n",
      "/home/franky8939/PROGRAMAS/anaconda3/envs/py37root/lib/python3.7/site-packages/sklearn/preprocessing/_data.py:1508: FutureWarning: Beginning in version 0.22, arrays of bytes/strings will be converted to decimal numbers if dtype='numeric'. It is recommended that you convert the array to a float dtype before using it in scikit-learn, for example by using your_array = your_array.astype(np.float64).\n",
      "  n_samples, n_features = check_array(X, accept_sparse=True).shape\n"
     ]
    },
    {
     "data": {
      "text/plain": "(LinearRegression(copy_X=True, fit_intercept=True, n_jobs=None, normalize=False),\n 0.07095387840370006,\n 0.9954703164716313,\n 0.6865464968574947,\n 0.7699341898763437,\n None)"
     },
     "execution_count": 129,
     "metadata": {},
     "output_type": "execute_result"
    },
    {
     "data": {
      "text/plain": "<Figure size 432x288 with 1 Axes>",
      "image/png": "[encoded data removed]"
     },
     "metadata": {
      "needs_background": "light"
     },
     "output_type": "display_data"
    }
   ],
   "source": [
    "# np.exp(model.predict(INPUT_CMS)), (OUTPUT_CMS)/100\n",
    "regresion(X_train, Y_train, INPUT_CMS, np.log(OUTPUT_CMS/100), degree=8)\n",
    "# regresion(INPUT_CMS,  np.log(OUTPUT_CMS/100), INPUT_CMS, np.log(OUTPUT_CMS/100), degree=5)\n",
    "# regresion(X_train, Y_train, X_test, Y_test, degree=6)\n",
    "# regresion(X_train, Y_train, X_test, Y_test, degree=4)\n",
    "# regresion(X_train, Y_train, X_test, Y_test, degree=5)"
   ],
   "metadata": {
    "collapsed": false,
    "pycharm": {
     "name": "#%%\n"
    }
   }
  },
  {
   "cell_type": "code",
   "execution_count": null,
   "outputs": [],
   "source": [
    "import pandas as pd\n",
    "from sklearn import linear_model\n",
    "import operator\n",
    "from sklearn.linear_model import LinearRegression\n",
    "from sklearn.metrics import mean_squared_error, r2_score\n",
    "from sklearn.preprocessing import PolynomialFeatures\n",
    "\n",
    "\n",
    "\"Creates a polynomial regression model for the given degree\"\n",
    "degree = 6\n",
    "\n",
    "poly_features = PolynomialFeatures(degree=degree)\n",
    "# transforms the existing features to higher degree features.\n",
    "X_train_poly = poly_features.fit_transform(X_train)\n",
    "# fit the transformed features to Linear Regression\n",
    "poly_model = LinearRegression()\n",
    "poly_model.fit(X_train_poly, Y_train)\n",
    "# predicting on training data-set\n",
    "y_train_predicted = poly_model.predict(X_train_poly)\n",
    "# predicting on test data-set\n",
    "y_test_predict = poly_model.predict(poly_features.fit_transform(X_test))\n",
    "# evaluating the model on training dataset\n",
    "rmse_train = np.sqrt(mean_squared_error(Y_train, y_train_predicted))\n",
    "r2_train = r2_score(Y_train, y_train_predicted)\n",
    "# evaluating the model on test dataset\n",
    "rmse_test = np.sqrt(mean_squared_error(Y_test, y_test_predict))\n",
    "r2_test = r2_score(Y_test, y_test_predict)\n",
    "\n",
    "print(\"The model performance for the training set\")\n",
    "print(\"-------------------------------------------\")\n",
    "print(\"RMSE of training set is {}\".format(rmse_train))\n",
    "print(\"R2 score of training set is {}\".format(r2_train))\n",
    "\n",
    "print(\"\\n\")\n",
    "\n",
    "print(\"The model performance for the test set\")\n",
    "print(\"-------------------------------------------\")\n",
    "print(\"RMSE of test set is {}\".format(rmse_test))\n",
    "print(\"R2 score of test set is {}\".format(r2_test))\n",
    "\n",
    "plt.plot(Y_test, (y_test_predict), 'o')\n",
    "plt.show()"
   ],
   "metadata": {
    "collapsed": false,
    "pycharm": {
     "name": "#%%\n"
    }
   }
  },
  {
   "cell_type": "code",
   "execution_count": 135,
   "outputs": [
    {
     "data": {
      "text/plain": "<keras.callbacks.callbacks.History at 0x7f12b3d04690>"
     },
     "execution_count": 135,
     "metadata": {},
     "output_type": "execute_result"
    }
   ],
   "source": [
    "# example of making predictions for a regression problem\n",
    "from keras.models import Sequential\n",
    "from keras.layers import Dense\n",
    "# generate regression dataset\n",
    "# X, y = make_regression(n_samples=100, n_features=2, noise=0.1, random_state=1)\n",
    "# X = INPUT_LINEAL\n",
    "# y = OUTPUT_LINEAL\n",
    "#scalarX, scalarY = MinMaxScaler(), MinMaxScaler()\n",
    "#scalarX.fit(X)\n",
    "#scalarY.fit(y)\n",
    "#X = scalarX.transform(X)\n",
    "#y = scalarY.transform(y)\n",
    "# define and fit the final model\n",
    "model = Sequential()\n",
    "model.add(Dense(10, input_dim=X_train.shape[1], activation='relu'))\n",
    "model.add(Dense(5, activation='relu'))\n",
    "model.add(Dense(1, activation='linear'))\n",
    "model.compile(loss='mse', optimizer='adam')\n",
    "model.fit(X_train, Y_train, epochs=1000, verbose=0)"
   ],
   "metadata": {
    "collapsed": false,
    "pycharm": {
     "name": "#%%\n"
    }
   }
  },
  {
   "cell_type": "code",
   "execution_count": 136,
   "outputs": [
    {
     "name": "stdout",
     "output_type": "stream",
     "text": [
      "[[0.59643316]] [[0.08052663]]\n",
      "[[0.762415]] [[0.07850611]]\n",
      "[[0.83555955]] [[0.07545119]]\n",
      "[[0.90870494]] [[0.07251538]]\n",
      "[[0.85826045]] [[0.06969368]]\n",
      "[[0.80238134]] [[0.06698181]]\n",
      "[[0.74650216]] [[0.06437551]]\n",
      "[[0.6700483]] [[0.0618706]]\n",
      "[[0.58205634]] [[0.05946309]]\n",
      " \n",
      "[[0.59643316]] [[6.014519]]\n",
      "[[0.68926895]] [[4.611663]]\n",
      "[[0.78210664]] [[1.8650469]]\n",
      "[[0.8749432]] [[0.92368585]]\n",
      "[[0.96777636]] [[0.27892324]]\n"
     ]
    }
   ],
   "source": [
    "# print(X.shape)\n",
    "print(model.predict(np.array([[10, 1, 0.25, 10]])), np.exp(model.predict(np.array([[10, 1, 0.25, 100]]))))\n",
    "print(model.predict(np.array([[20, 2, 0.25, 10]])), np.exp(model.predict(np.array([[20, 2, 0.25, 100]]))))\n",
    "print(model.predict(np.array([[20, 3, 0.25, 10]])), np.exp(model.predict(np.array([[20, 3, 0.25, 100]]))))\n",
    "print(model.predict(np.array([[20, 4, 0.25, 10]])), np.exp(model.predict(np.array([[20, 4, 0.25, 100]]))))\n",
    "print(model.predict(np.array([[20, 5, 0.25, 10]])), np.exp(model.predict(np.array([[20, 5, 0.25, 100]]))))\n",
    "print(model.predict(np.array([[20, 6, 0.25, 10]])), np.exp(model.predict(np.array([[20, 6, 0.25, 100]]))))\n",
    "print(model.predict(np.array([[20, 7, 0.25, 10]])), np.exp(model.predict(np.array([[20, 7, 0.25, 100]]))))\n",
    "print(model.predict(np.array([[20, 8, 0.25, 10]])), np.exp(model.predict(np.array([[20, 8, 0.25, 100]]))))\n",
    "print(model.predict(np.array([[20, 9, 0.25, 10]])), np.exp(model.predict(np.array([[20, 9, 0.25, 100]]))))\n",
    "print(\" \")\n",
    "print(model.predict(np.array([[10, 1, 0.25, 10]])), np.exp(model.predict(np.array([[20, 1, 1, 1]]))))\n",
    "print(model.predict(np.array([[20, 1, 0.25, 10]])), np.exp(model.predict(np.array([[20, 1, 1, 10]]))))\n",
    "print(model.predict(np.array([[30, 1, 0.25, 10]])), np.exp(model.predict(np.array([[20, 1, 1, 30]]))))\n",
    "print(model.predict(np.array([[40, 1, 0.25, 10]])), np.exp(model.predict(np.array([[20, 1, 1, 50]]))))\n",
    "print(model.predict(np.array([[50, 1, 0.25, 10]])), np.exp(model.predict(np.array([[20, 1, 1, 100]]))))\n",
    "# plt.plot(model.predict(INPUT_CMS),OUTPUT_CMS/100, \"o\")\n",
    "# print(r2_score(model.predict(INPUT_CMS),OUTPUT_CMS/100))\n",
    "# min(model.predict(INPUT_CMS))"
   ],
   "metadata": {
    "collapsed": false,
    "pycharm": {
     "name": "#%%\n"
    }
   }
  },
  {
   "cell_type": "code",
   "execution_count": 137,
   "outputs": [
    {
     "name": "stdout",
     "output_type": "stream",
     "text": [
      "0.9571527958833546\n"
     ]
    }
   ],
   "source": [
    "# print(r2_score(model.predict(INPUT_CMS),OUTPUT_CMS/100))\n",
    "print(r2_score(np.exp(model.predict(INPUT_CMS)),OUTPUT_CMS/100))"
   ],
   "metadata": {
    "collapsed": false,
    "pycharm": {
     "name": "#%%\n"
    }
   }
  },
  {
   "cell_type": "code",
   "execution_count": 138,
   "outputs": [
    {
     "data": {
      "text/plain": "[<matplotlib.lines.Line2D at 0x7f12c07a7290>]"
     },
     "execution_count": 138,
     "metadata": {},
     "output_type": "execute_result"
    },
    {
     "data": {
      "text/plain": "<Figure size 432x288 with 1 Axes>",
      "image/png": "[encoded data removed]"
     },
     "metadata": {
      "needs_background": "light"
     },
     "output_type": "display_data"
    }
   ],
   "source": [
    "plt.plot(np.exp(model.predict(INPUT_CMS)), (OUTPUT_CMS)/100, \".\")\n",
    "#np.min(model.predict(X_test))"
   ],
   "metadata": {
    "collapsed": false,
    "pycharm": {
     "name": "#%%\n"
    }
   }
  },
  {
   "cell_type": "code",
   "execution_count": 139,
   "outputs": [
    {
     "data": {
      "text/plain": "[<matplotlib.lines.Line2D at 0x7f12b2e4b950>]"
     },
     "execution_count": 139,
     "metadata": {},
     "output_type": "execute_result"
    },
    {
     "data": {
      "text/plain": "<Figure size 432x288 with 1 Axes>",
      "image/png": "[encoded data removed]"
     },
     "metadata": {
      "needs_background": "light"
     },
     "output_type": "display_data"
    }
   ],
   "source": [
    "plt.plot(model.predict(INPUT_CMS), np.log((OUTPUT_CMS)/100), \".\")"
   ],
   "metadata": {
    "collapsed": false,
    "pycharm": {
     "name": "#%%\n"
    }
   }
  },
  {
   "cell_type": "code",
   "execution_count": 81,
   "outputs": [
    {
     "data": {
      "text/plain": "array([[881],\n       [916],\n       [895],\n       ...,\n       [440],\n       [531],\n       [420]])"
     },
     "execution_count": 81,
     "metadata": {},
     "output_type": "execute_result"
    }
   ],
   "source": [
    "np.exp(model.predict(INPUT_CMS))\n",
    "(OUTPUT_CMS)"
   ],
   "metadata": {
    "collapsed": false,
    "pycharm": {
     "name": "#%%\n"
    }
   }
  },
  {
   "cell_type": "code",
   "execution_count": null,
   "outputs": [],
   "source": [
    "\n"
   ],
   "metadata": {
    "collapsed": false,
    "pycharm": {
     "name": "#%%\n"
    }
   }
  }
 ],
 "metadata": {
  "kernelspec": {
   "name": "pycharm-535726c5",
   "language": "python",
   "display_name": "PyCharm (DarkSUSY-master)"
  },
  "language_info": {
   "codemirror_mode": {
    "name": "ipython",
    "version": 2
   },
   "file_extension": ".py",
   "mimetype": "text/x-python",
   "name": "python",
   "nbconvert_exporter": "python",
   "pygments_lexer": "ipython2",
   "version": "2.7.15"
  }
 },
 "nbformat": 4,
 "nbformat_minor": 1
}